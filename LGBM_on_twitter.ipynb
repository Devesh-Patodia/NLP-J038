{
  "nbformat": 4,
  "nbformat_minor": 0,
  "metadata": {
    "colab": {
      "name": "LGBM on twitter.ipynb",
      "provenance": [],
      "collapsed_sections": [],
      "authorship_tag": "ABX9TyMlP44aMqMvzckLu5Lf5A0G",
      "include_colab_link": true
    },
    "kernelspec": {
      "name": "python3",
      "display_name": "Python 3"
    }
  },
  "cells": [
    {
      "cell_type": "markdown",
      "metadata": {
        "id": "view-in-github",
        "colab_type": "text"
      },
      "source": [
        "<a href=\"https://colab.research.google.com/github/Devesh-Patodia/NLP-J038/blob/class-assignments/LGBM_on_twitter.ipynb\" target=\"_parent\"><img src=\"https://colab.research.google.com/assets/colab-badge.svg\" alt=\"Open In Colab\"/></a>"
      ]
    },
    {
      "cell_type": "code",
      "metadata": {
        "id": "mQ1LslIalaKR",
        "colab_type": "code",
        "colab": {}
      },
      "source": [
        "import pandas as pd\n",
        "import numpy as np\n",
        "import re\n",
        "\n",
        "\n",
        "#from sklearn.model_selection import train_test_split as tts\n",
        "#from sklearn.ensemble import RandomForestClassifier\n",
        "\n",
        "#from sklearn.preprocessing import LabelEncoder, LabelBinarizer\n",
        "#from sklearn.metrics import confusion_matrix, classification_report, roc_auc_score"
      ],
      "execution_count": 0,
      "outputs": []
    },
    {
      "cell_type": "code",
      "metadata": {
        "id": "z9HO4D06lu9J",
        "colab_type": "code",
        "colab": {
          "base_uri": "https://localhost:8080/",
          "height": 195
        },
        "outputId": "3559b1e0-d185-4c0b-b9c5-fc8121d0d3b4"
      },
      "source": [
        "twitter = pd.read_csv('https://raw.githubusercontent.com/zfz/twitter_corpus/master/full-corpus.csv', error_bad_lines=False)\n",
        "twitter.head()"
      ],
      "execution_count": 2,
      "outputs": [
        {
          "output_type": "execute_result",
          "data": {
            "text/html": [
              "<div>\n",
              "<style scoped>\n",
              "    .dataframe tbody tr th:only-of-type {\n",
              "        vertical-align: middle;\n",
              "    }\n",
              "\n",
              "    .dataframe tbody tr th {\n",
              "        vertical-align: top;\n",
              "    }\n",
              "\n",
              "    .dataframe thead th {\n",
              "        text-align: right;\n",
              "    }\n",
              "</style>\n",
              "<table border=\"1\" class=\"dataframe\">\n",
              "  <thead>\n",
              "    <tr style=\"text-align: right;\">\n",
              "      <th></th>\n",
              "      <th>Topic</th>\n",
              "      <th>Sentiment</th>\n",
              "      <th>TweetId</th>\n",
              "      <th>TweetDate</th>\n",
              "      <th>TweetText</th>\n",
              "    </tr>\n",
              "  </thead>\n",
              "  <tbody>\n",
              "    <tr>\n",
              "      <th>0</th>\n",
              "      <td>apple</td>\n",
              "      <td>positive</td>\n",
              "      <td>126415614616154112</td>\n",
              "      <td>Tue Oct 18 21:53:25 +0000 2011</td>\n",
              "      <td>Now all @Apple has to do is get swype on the i...</td>\n",
              "    </tr>\n",
              "    <tr>\n",
              "      <th>1</th>\n",
              "      <td>apple</td>\n",
              "      <td>positive</td>\n",
              "      <td>126404574230740992</td>\n",
              "      <td>Tue Oct 18 21:09:33 +0000 2011</td>\n",
              "      <td>@Apple will be adding more carrier support to ...</td>\n",
              "    </tr>\n",
              "    <tr>\n",
              "      <th>2</th>\n",
              "      <td>apple</td>\n",
              "      <td>positive</td>\n",
              "      <td>126402758403305474</td>\n",
              "      <td>Tue Oct 18 21:02:20 +0000 2011</td>\n",
              "      <td>Hilarious @youtube video - guy does a duet wit...</td>\n",
              "    </tr>\n",
              "    <tr>\n",
              "      <th>3</th>\n",
              "      <td>apple</td>\n",
              "      <td>positive</td>\n",
              "      <td>126397179614068736</td>\n",
              "      <td>Tue Oct 18 20:40:10 +0000 2011</td>\n",
              "      <td>@RIM you made it too easy for me to switch to ...</td>\n",
              "    </tr>\n",
              "    <tr>\n",
              "      <th>4</th>\n",
              "      <td>apple</td>\n",
              "      <td>positive</td>\n",
              "      <td>126395626979196928</td>\n",
              "      <td>Tue Oct 18 20:34:00 +0000 2011</td>\n",
              "      <td>I just realized that the reason I got into twi...</td>\n",
              "    </tr>\n",
              "  </tbody>\n",
              "</table>\n",
              "</div>"
            ],
            "text/plain": [
              "   Topic  ...                                          TweetText\n",
              "0  apple  ...  Now all @Apple has to do is get swype on the i...\n",
              "1  apple  ...  @Apple will be adding more carrier support to ...\n",
              "2  apple  ...  Hilarious @youtube video - guy does a duet wit...\n",
              "3  apple  ...  @RIM you made it too easy for me to switch to ...\n",
              "4  apple  ...  I just realized that the reason I got into twi...\n",
              "\n",
              "[5 rows x 5 columns]"
            ]
          },
          "metadata": {
            "tags": []
          },
          "execution_count": 2
        }
      ]
    },
    {
      "cell_type": "code",
      "metadata": {
        "id": "AknIX5zXl7R5",
        "colab_type": "code",
        "colab": {
          "base_uri": "https://localhost:8080/",
          "height": 195
        },
        "outputId": "8b285593-f54c-4964-d158-cb3167ba68da"
      },
      "source": [
        "amazon = pd.read_json('http://snap.stanford.edu/data/amazon/productGraph/categoryFiles/reviews_Office_Products_5.json.gz', lines=True)\n",
        "amazon.head()"
      ],
      "execution_count": 3,
      "outputs": [
        {
          "output_type": "execute_result",
          "data": {
            "text/html": [
              "<div>\n",
              "<style scoped>\n",
              "    .dataframe tbody tr th:only-of-type {\n",
              "        vertical-align: middle;\n",
              "    }\n",
              "\n",
              "    .dataframe tbody tr th {\n",
              "        vertical-align: top;\n",
              "    }\n",
              "\n",
              "    .dataframe thead th {\n",
              "        text-align: right;\n",
              "    }\n",
              "</style>\n",
              "<table border=\"1\" class=\"dataframe\">\n",
              "  <thead>\n",
              "    <tr style=\"text-align: right;\">\n",
              "      <th></th>\n",
              "      <th>reviewerID</th>\n",
              "      <th>asin</th>\n",
              "      <th>reviewerName</th>\n",
              "      <th>helpful</th>\n",
              "      <th>reviewText</th>\n",
              "      <th>overall</th>\n",
              "      <th>summary</th>\n",
              "      <th>unixReviewTime</th>\n",
              "      <th>reviewTime</th>\n",
              "    </tr>\n",
              "  </thead>\n",
              "  <tbody>\n",
              "    <tr>\n",
              "      <th>0</th>\n",
              "      <td>A32T2H8150OJLU</td>\n",
              "      <td>B00000JBLH</td>\n",
              "      <td>ARH</td>\n",
              "      <td>[3, 4]</td>\n",
              "      <td>I bought my first HP12C in about 1984 or so, a...</td>\n",
              "      <td>5</td>\n",
              "      <td>A solid performer, and long time friend</td>\n",
              "      <td>1094169600</td>\n",
              "      <td>09 3, 2004</td>\n",
              "    </tr>\n",
              "    <tr>\n",
              "      <th>1</th>\n",
              "      <td>A3MAFS04ZABRGO</td>\n",
              "      <td>B00000JBLH</td>\n",
              "      <td>Let it Be \"Alan\"</td>\n",
              "      <td>[7, 9]</td>\n",
              "      <td>WHY THIS BELATED REVIEW? I feel very obliged t...</td>\n",
              "      <td>5</td>\n",
              "      <td>Price of GOLD is up, so don't bury the golden ...</td>\n",
              "      <td>1197676800</td>\n",
              "      <td>12 15, 2007</td>\n",
              "    </tr>\n",
              "    <tr>\n",
              "      <th>2</th>\n",
              "      <td>A1F1A0QQP2XVH5</td>\n",
              "      <td>B00000JBLH</td>\n",
              "      <td>Mark B</td>\n",
              "      <td>[3, 3]</td>\n",
              "      <td>I have an HP 48GX that has been kicking for mo...</td>\n",
              "      <td>2</td>\n",
              "      <td>Good functionality, but not durable like old HPs</td>\n",
              "      <td>1293840000</td>\n",
              "      <td>01 1, 2011</td>\n",
              "    </tr>\n",
              "    <tr>\n",
              "      <th>3</th>\n",
              "      <td>A49R5DBXXQDE5</td>\n",
              "      <td>B00000JBLH</td>\n",
              "      <td>R. D Johnson</td>\n",
              "      <td>[7, 8]</td>\n",
              "      <td>I've started doing more finance stuff recently...</td>\n",
              "      <td>5</td>\n",
              "      <td>One of the last of an almost extinct species</td>\n",
              "      <td>1145404800</td>\n",
              "      <td>04 19, 2006</td>\n",
              "    </tr>\n",
              "    <tr>\n",
              "      <th>4</th>\n",
              "      <td>A2XRMQA6PJ5ZJ8</td>\n",
              "      <td>B00000JBLH</td>\n",
              "      <td>Roger J. Buffington</td>\n",
              "      <td>[0, 0]</td>\n",
              "      <td>For simple calculations and discounted cash fl...</td>\n",
              "      <td>5</td>\n",
              "      <td>Still the best</td>\n",
              "      <td>1375574400</td>\n",
              "      <td>08 4, 2013</td>\n",
              "    </tr>\n",
              "  </tbody>\n",
              "</table>\n",
              "</div>"
            ],
            "text/plain": [
              "       reviewerID        asin  ... unixReviewTime   reviewTime\n",
              "0  A32T2H8150OJLU  B00000JBLH  ...     1094169600   09 3, 2004\n",
              "1  A3MAFS04ZABRGO  B00000JBLH  ...     1197676800  12 15, 2007\n",
              "2  A1F1A0QQP2XVH5  B00000JBLH  ...     1293840000   01 1, 2011\n",
              "3   A49R5DBXXQDE5  B00000JBLH  ...     1145404800  04 19, 2006\n",
              "4  A2XRMQA6PJ5ZJ8  B00000JBLH  ...     1375574400   08 4, 2013\n",
              "\n",
              "[5 rows x 9 columns]"
            ]
          },
          "metadata": {
            "tags": []
          },
          "execution_count": 3
        }
      ]
    },
    {
      "cell_type": "code",
      "metadata": {
        "id": "7GAU-4-smIce",
        "colab_type": "code",
        "colab": {
          "base_uri": "https://localhost:8080/",
          "height": 34
        },
        "outputId": "91cfbcb5-6d1d-44e6-e6a4-fc2583b6b58c"
      },
      "source": [
        "twitter['Sentiment'].unique()"
      ],
      "execution_count": 4,
      "outputs": [
        {
          "output_type": "execute_result",
          "data": {
            "text/plain": [
              "array(['positive', 'negative', 'neutral', 'irrelevant'], dtype=object)"
            ]
          },
          "metadata": {
            "tags": []
          },
          "execution_count": 4
        }
      ]
    },
    {
      "cell_type": "code",
      "metadata": {
        "id": "02fMhfHQmScb",
        "colab_type": "code",
        "colab": {}
      },
      "source": [
        "def stop(text):\n",
        "    text=re.sub('[^a-zA-Z]', \" \", str(text))  \n",
        "    return text"
      ],
      "execution_count": 0,
      "outputs": []
    },
    {
      "cell_type": "code",
      "metadata": {
        "id": "pXJCU4dAnVv9",
        "colab_type": "code",
        "colab": {
          "base_uri": "https://localhost:8080/",
          "height": 195
        },
        "outputId": "99b7c02e-fec9-447f-f0fe-2c133554d06f"
      },
      "source": [
        "twitter['clean_text'] = twitter['TweetText'].apply(stop)\n",
        "twitter.head()"
      ],
      "execution_count": 10,
      "outputs": [
        {
          "output_type": "execute_result",
          "data": {
            "text/html": [
              "<div>\n",
              "<style scoped>\n",
              "    .dataframe tbody tr th:only-of-type {\n",
              "        vertical-align: middle;\n",
              "    }\n",
              "\n",
              "    .dataframe tbody tr th {\n",
              "        vertical-align: top;\n",
              "    }\n",
              "\n",
              "    .dataframe thead th {\n",
              "        text-align: right;\n",
              "    }\n",
              "</style>\n",
              "<table border=\"1\" class=\"dataframe\">\n",
              "  <thead>\n",
              "    <tr style=\"text-align: right;\">\n",
              "      <th></th>\n",
              "      <th>Topic</th>\n",
              "      <th>Sentiment</th>\n",
              "      <th>TweetId</th>\n",
              "      <th>TweetDate</th>\n",
              "      <th>TweetText</th>\n",
              "      <th>clean_text</th>\n",
              "    </tr>\n",
              "  </thead>\n",
              "  <tbody>\n",
              "    <tr>\n",
              "      <th>0</th>\n",
              "      <td>apple</td>\n",
              "      <td>positive</td>\n",
              "      <td>126415614616154112</td>\n",
              "      <td>Tue Oct 18 21:53:25 +0000 2011</td>\n",
              "      <td>Now all @Apple has to do is get swype on the i...</td>\n",
              "      <td>Now all  Apple has to do is get swype on the i...</td>\n",
              "    </tr>\n",
              "    <tr>\n",
              "      <th>1</th>\n",
              "      <td>apple</td>\n",
              "      <td>positive</td>\n",
              "      <td>126404574230740992</td>\n",
              "      <td>Tue Oct 18 21:09:33 +0000 2011</td>\n",
              "      <td>@Apple will be adding more carrier support to ...</td>\n",
              "      <td>Apple will be adding more carrier support to ...</td>\n",
              "    </tr>\n",
              "    <tr>\n",
              "      <th>2</th>\n",
              "      <td>apple</td>\n",
              "      <td>positive</td>\n",
              "      <td>126402758403305474</td>\n",
              "      <td>Tue Oct 18 21:02:20 +0000 2011</td>\n",
              "      <td>Hilarious @youtube video - guy does a duet wit...</td>\n",
              "      <td>Hilarious  youtube video   guy does a duet wit...</td>\n",
              "    </tr>\n",
              "    <tr>\n",
              "      <th>3</th>\n",
              "      <td>apple</td>\n",
              "      <td>positive</td>\n",
              "      <td>126397179614068736</td>\n",
              "      <td>Tue Oct 18 20:40:10 +0000 2011</td>\n",
              "      <td>@RIM you made it too easy for me to switch to ...</td>\n",
              "      <td>RIM you made it too easy for me to switch to ...</td>\n",
              "    </tr>\n",
              "    <tr>\n",
              "      <th>4</th>\n",
              "      <td>apple</td>\n",
              "      <td>positive</td>\n",
              "      <td>126395626979196928</td>\n",
              "      <td>Tue Oct 18 20:34:00 +0000 2011</td>\n",
              "      <td>I just realized that the reason I got into twi...</td>\n",
              "      <td>I just realized that the reason I got into twi...</td>\n",
              "    </tr>\n",
              "  </tbody>\n",
              "</table>\n",
              "</div>"
            ],
            "text/plain": [
              "   Topic  ...                                         clean_text\n",
              "0  apple  ...  Now all  Apple has to do is get swype on the i...\n",
              "1  apple  ...   Apple will be adding more carrier support to ...\n",
              "2  apple  ...  Hilarious  youtube video   guy does a duet wit...\n",
              "3  apple  ...   RIM you made it too easy for me to switch to ...\n",
              "4  apple  ...  I just realized that the reason I got into twi...\n",
              "\n",
              "[5 rows x 6 columns]"
            ]
          },
          "metadata": {
            "tags": []
          },
          "execution_count": 10
        }
      ]
    },
    {
      "cell_type": "code",
      "metadata": {
        "id": "SRS0hN1PvFYl",
        "colab_type": "code",
        "colab": {}
      },
      "source": [
        "from sklearn.feature_extraction.text import CountVectorizer"
      ],
      "execution_count": 0,
      "outputs": []
    },
    {
      "cell_type": "code",
      "metadata": {
        "id": "03Pd8Xz2o--6",
        "colab_type": "code",
        "colab": {
          "base_uri": "https://localhost:8080/",
          "height": 171
        },
        "outputId": "9e33c683-457a-4837-9020-ad574dc11f74"
      },
      "source": [
        "corpus = twitter['clean_text'] \n",
        "vectorizer = CountVectorizer()\n",
        "X = vectorizer.fit_transform(corpus)\n",
        "print(vectorizer.get_feature_names()) \n",
        "print(X.toarray()) "
      ],
      "execution_count": 12,
      "outputs": [
        {
          "output_type": "stream",
          "text": [
            "['aa', 'aaa', 'aaargh', 'aac', 'aaddaqa', 'aai', 'aalkhubaizi', 'aan', 'aanbieding', 'aanbod', 'aangekondigd', 'aantal', 'aantikken', 'aap', 'aapl', 'aaron', 'ab', 'abaikan', 'abandonado', 'abandoned', 'abarcar', 'abbas', 'abbatter', 'abbia', 'abbreviations', 'abc', 'abdullah', 'abend', 'aberto', 'abh', 'abhurvyc', 'abia', 'abidin', 'ability', 'able', 'abonnez', 'about', 'aboutthatlife', 'above', 'abra', 'abrass', 'abrazan', 'abrazo', 'abren', 'abri', 'abrir', 'abro', 'abruma', 'absolutely', 'absoluto', 'absorbiendo', 'abst', 'abstract', 'absurdos', 'abt', 'aburre', 'aburrido', 'aburriiiidooo', 'aburrio', 'abusou', 'abxl', 'abzuh', 'ac', 'acaba', 'acaban', 'acabar', 'acabas', 'acabo', 'acabou', 'academy', 'acap', 'acappellamedia', 'acaso', 'acc', 'accelerate', 'accelerated', 'acceleration', 'accent', 'accenture', 'acceptable', 'accesibilidad', 'access', 'accessibilit', 'accessibility', 'accessing', 'accessnetworks', 'accessories', 'accidentalmente', 'accidently', 'accompanying', 'accord', 'according', 'account', 'accounts', 'acct', 'accu', 'accuracy', 'accusa', 'accused', 'accusing', 'acd', 'ace', 'acelerado', 'acerca', 'acervo', 'ach', 'acha', 'acheter', 'achieved', 'achter', 'achterhoede', 'acjrkin', 'acjrl', 'acme', 'acompanhando', 'acordar', 'acostado', 'acquire', 'acquisition', 'acris', 'acronyms', 'across', 'act', 'acting', 'action', 'activated', 'activating', 'active', 'activity', 'activo', 'acts', 'acttj', 'actual', 'actualic', 'actualit', 'actualiza', 'actualizaci', 'actualizar', 'actualizenlaapp', 'actually', 'actuele', 'actyv', 'acuerdese', 'acuerdo', 'acz', 'ad', 'ada', 'adaddy', 'adam', 'adamdince', 'adamnash', 'adasia', 'adat', 'aday', 'adcenter', 'add', 'added', 'addict', 'addicted', 'addicting', 'addictive', 'adding', 'additional', 'address', 'adds', 'addthis', 'addurl', 'adem', 'adems', 'aderricks', 'adg', 'adgfbm', 'adicci', 'adiccion', 'adictivo', 'adictotr', 'adiman', 'adios', 'adityasood', 'admin', 'administrador', 'administrator', 'admirably', 'admit', 'admite', 'admits', 'admitting', 'admv', 'adobe', 'adobemax', 'adobeusergroup', 'adomani', 'adopted', 'adopterness', 'adopting', 'adoption', 'ador', 'adoro', 'adquiere', 'adquirido', 'adquisici', 'adqycodd', 'adr', 'adrianosabino', 'ads', 'adsense', 'adsyw', 'adt', 'adubatsdub', 'adult', 'adva', 'advance', 'advanced', 'advantage', 'advantages', 'advertise', 'advertisement', 'advertisements', 'advertisers', 'advertising', 'adverts', 'advierte', 'advisor', 'adweek', 'adwords', 'adyalessio', 'ae', 'aej', 'aeq', 'aexa', 'af', 'afetati', 'aff', 'affair', 'affan', 'affect', 'affects', 'affich', 'affichage', 'afford', 'afgerond', 'afgeven', 'afhx', 'afin', 'afm', 'afomtso', 'afortunado', 'afortunados', 'africa', 'afro', 'afsaane', 'afspraak', 'after', 'afternoon', 'afterthought', 'afwazwoy', 'ag', 'aga', 'again', 'against', 'agc', 'age', 'agency', 'agenda', 'agendas', 'agenturen', 'ages', 'aggiornamenti', 'aggiustamento', 'aggregates', 'aggressive', 'aghbaqmn', 'agitado', 'ago', 'agora', 'agr', 'agradecido', 'agree', 'agrega', 'agregan', 'agregar', 'agricole', 'aguante', 'agv', 'ah', 'aha', 'ahaaa', 'ahahaa', 'ahce', 'ahead', 'ahennessyworld', 'ahh', 'ahhahahaha', 'ahhfuckitsguss', 'ahhh', 'ahhhh', 'ahhhhh', 'ahm', 'aho', 'ahoe', 'ahooten', 'ahora', 'ahorita', 'ahoritaa', 'ahors', 'ahuahauahuahuahuahau', 'ai', 'aids', 'aigui', 'aii', 'aiii', 'aijysfho', 'aik', 'aikochristine', 'ailing', 'aim', 'aime', 'aimyi', 'ain', 'ainda', 'aint', 'ainteeentrippin', 'air', 'airdrop', 'airplay', 'airport', 'airports', 'ais', 'aislyngreene', 'aja', 'ajajaja', 'ajajajajaja', 'ajeitei', 'ajildavna', 'ajjaja', 'ajl', 'ajnabi', 'ajouter', 'ajrogers', 'ajuda', 'ajuster', 'ak', 'aka', 'akan', 'aki', 'akie', 'akii', 'akirareiko', 'akita', 'aklnmkai', 'akosiadrienne', 'akr', 'aktion', 'aktualizace', 'akuisisi', 'al', 'ala', 'alabado', 'alaluya', 'alamo', 'alanlepo', 'alarm', 'alarms', 'alastair', 'albatross', 'albertlorente', 'albertmal', 'albo', 'album', 'albums', 'alcance', 'alchemy', 'alcoh', 'alcohol', 'alcool', 'aldictd', 'alead', 'alecp', 'aleeretana', 'aleexlima', 'alegarcia', 'alegro', 'alejado', 'alejadoo', 'alert', 'alerts', 'alex', 'alexbabb', 'alexlindsay', 'alexmufferi', 'alexthe', 'alg', 'algeria', 'algo', 'algod', 'algorithm', 'algorithms', 'alguien', 'algun', 'alguna', 'algunos', 'ali', 'alibabaoglan', 'alisalam', 'alittle', 'alive', 'aljonkar', 'all', 'alle', 'alleen', 'alleged', 'allen', 'alleyupi', 'allie', 'alligatore', 'allmusic', 'allow', 'allowed', 'allowing', 'allows', 'allt', 'allthingsd', 'allthisass', 'alltogether', 'allts', 'ally', 'allyfish', 'alm', 'almacenamiento', 'almad', 'almenos', 'almost', 'alomejor', 'alone', 'aloneinthedark', 'along', 'alongside', 'alos', 'alot', 'already', 'alright', 'alrite', 'als', 'alsh', 'also', 'altamente', 'alten', 'alternate', 'alternativas', 'alternative', 'alternatives', 'althans', 'although', 'altijd', 'alto', 'aluenterprise', 'alunos', 'always', 'alx', 'am', 'ama', 'amable', 'amaboura', 'amalga', 'amandadgaf', 'amandafl', 'amandbrar', 'amanh', 'amanha', 'amarsanghera', 'amateur', 'amaturehour', 'amazed', 'amazes', 'amazing', 'amazon', 'ambani', 'ambercole', 'ame', 'amenaza', 'amento', 'american', 'amerikusl', 'amiga', 'amigo', 'amigos', 'amiraaldewick', 'amizades', 'amma', 'ammazza', 'ammmylewis', 'amo', 'amoled', 'amongst', 'amoor', 'amor', 'amore', 'amores', 'amotam', 'amount', 'amp', 'amsterdam', 'amsterodamu', 'amused', 'amusing', 'amysimendinger', 'an', 'ana', 'anaa', 'anak', 'analisis', 'analistas', 'analyse', 'analysis', 'analysts', 'analytics', 'analytisch', 'analyze', 'anas', 'anatusi', 'anche', 'and', 'anda', 'andando', 'anddroi', 'ande', 'andeersonf', 'anderson', 'andhixd', 'andkatmy', 'ando', 'andrees', 'andreeybaltieri', 'andretelles', 'android', 'androidbeam', 'androidcentral', 'androides', 'androidheadline', 'androidicecream', 'androidicecreamsandwich', 'androidjp', 'androidpolice', 'androids', 'androidtel', 'androidtopnews', 'androidve', 'androidvzla', 'androtekrd', 'andshuttingdownru', 'andshuttingdownrunningprograms', 'andy', 'anfisabreus', 'ang', 'angel', 'angelina', 'angelique', 'angelusro', 'angeschaut', 'angle', 'angry', 'angrybirds', 'angst', 'anhavu', 'anibalfreitas', 'anibulb', 'animazione', 'aniversario', 'anja', 'anked', 'ankor', 'ann', 'annacorinne', 'annette', 'annewill', 'annie', 'anniversary', 'annonc', 'annonce', 'annonces', 'annotated', 'announce', 'announced', 'announcement', 'announcements', 'announces', 'announcing', 'annoyed', 'annoying', 'anntran', 'anonyma', 'anonymous', 'anoquesoci', 'another', 'anothericloudfail', 'anpot', 'anroid', 'anschauen', 'ansl', 'ansm', 'answer', 'answered', 'answers', 'ant', 'antes', 'anti', 'anticipate', 'antiguo', 'antimalware', 'antitrust', 'antivirus', 'anton', 'antonio', 'anuncia', 'anunciado', 'anuncios', 'anup', 'any', 'anyday', 'anyelius', 'anymore', 'anyone', 'anyones', 'anything', 'anyway', 'ao', 'aofyojme', 'aogk', 'aol', 'aooj', 'aosp', 'aozonukf', 'ap', 'apa', 'apache', 'aparato', 'aparece', 'aparecen', 'aparecer', 'apareceu', 'apareciste', 'apart', 'aparte', 'apdal', 'apdejt', 'apenas', 'aper', 'apesar', 'api', 'apis', 'aplicaci', 'aplicacion', 'aplicaciones', 'aplicando', 'aplicativos', 'aplj', 'aplusk', 'apo', 'apocalipsis', 'apollo', 'apologize', 'apology', 'aponte', 'app', 'appareil', 'apparently', 'appartiennent', 'appeal', 'appear', 'appears', 'appel', 'appen', 'appena', 'apperature', 'appl', 'apple', 'appleagagn', 'applecanada', 'applecare', 'applecert', 'applecore', 'appledomination', 'appleid', 'appleinsider', 'applemacs', 'apples', 'applesearch', 'applestock', 'applestore', 'appletell', 'appletv', 'appleupdates', 'appleweblog', 'appliances', 'applicaciones', 'application', 'applications', 'applied', 'applies', 'apply', 'applying', 'appointment', 'appr', 'appreciated', 'approach', 'approaches', 'appropriately', 'approves', 'approximation', 'apps', 'appsense', 'appsensetechie', 'appstore', 'appt', 'apptment', 'aprecio', 'aprender', 'aprenderas', 'aprendes', 'aprendi', 'apresenta', 'aprons', 'aprovecha', 'apt', 'apunta', 'apwah', 'aqi', 'aqq', 'aqu', 'aquel', 'aquela', 'aqueles', 'aqui', 'aquii', 'ar', 'ara', 'arabi', 'arac', 'aranzibia', 'aray', 'arbeit', 'arbeitens', 'arbeitskleidung', 'arbitrary', 'arc', 'architecture', 'archivo', 'archivos', 'are', 'area', 'areas', 'arelance', 'aren', 'arg', 'argentina', 'argument', 'ari', 'aria', 'arial', 'arielmun', 'arip', 'arkadin', 'arkham', 'arm', 'armiibunbury', 'armon', 'arokfnos', 'around', 'arqlw', 'arr', 'arrasando', 'arrastaram', 'arrazando', 'arreglo', 'arriv', 'arrival', 'arrivals', 'arrive', 'arrived', 'arriver', 'arrives', 'arrogance', 'arrogant', 'arrolladora', 'arruinando', 'arrumando', 'arstechnica', 'art', 'arte', 'article', 'articles', 'articulo', 'artisan', 'artist', 'artistas', 'arts', 'arzf', 'as', 'asaber', 'asaltando', 'asap', 'asc', 'ascribeconference', 'asgariaj', 'ashercfo', 'ashlf', 'ashliseumanu', 'ashu', 'asi', 'asia', 'asiaclassifiedtoday', 'asiad', 'asian', 'aside', 'asik', 'asimrang', 'asistir', 'ask', 'askaaronlee', 'asked', 'asking', 'asl', 'aslanmarine', 'asny', 'asoeijoaijoriaejr', 'asombroso', 'asp', 'aspenibiz', 'aspetta', 'aspetto', 'aspx', 'ass', 'asses', 'assessment', 'assets', 'assholebabb', 'asshsmith', 'assim', 'assistant', 'assistindo', 'associations', 'assuntos', 'asta', 'astounding', 'astramedia', 'asu', 'asus', 'asustado', 'asymco', 'at', 'atalho', 'ataque', 'ate', 'atemydingo', 'athen', 'ation', 'atire', 'atl', 'atlantasnoop', 'atmiomoo', 'atnnittt', 'atohf', 'atp', 'atras', 'atrav', 'atrum', 'att', 'attacks', 'attcustomercare', 'attempting', 'attempts', 'attend', 'attending', 'attendre', 'attention', 'attentionspan', 'attracting', 'attributed', 'atualiza', 'atualizar', 'au', 'auch', 'audifonos', 'audio', 'audiocodes', 'audrievv', 'auf', 'augnl', 'august', 'auhqlivy', 'auhz', 'aujourd', 'aula', 'aun', 'aunque', 'aus', 'ausenteii', 'aussi', 'austin', 'australia', 'authorise', 'authorization', 'authorize', 'authorized', 'authorizing', 'authors', 'auto', 'autocomplete', 'autofollow', 'autograph', 'automated', 'automatic', 'automatically', 'automation', 'autop', 'autopilot', 'autosavesucks', 'autre', 'autres', 'autumn', 'aux', 'av', 'availability', 'available', 'avait', 'avalia', 'avalible', 'avanade', 'avanadespain', 'avandonado', 'avanti', 'avanzada', 'avatar', 'ave', 'avec', 'avenue', 'avepoint', 'average', 'avez', 'avgqhn', 'aviiertooos', 'avis', 'avisar', 'avisarme', 'avoided', 'avoir', 'avsl', 'avtar', 'avtweeps', 'avtyof', 'avvio', 'aw', 'awaited', 'award', 'awaswv', 'away', 'awdfxdci', 'awesome', 'awesomeness', 'awful', 'awfully', 'awix', 'awjhxwgt', 'awkward', 'awsome', 'awtf', 'awwvvodr', 'awwwns', 'awwwwr', 'ax', 'axdkhkb', 'axentit', 'axl', 'axq', 'ay', 'aydin', 'aye', 'ayekv', 'ayer', 'ayhokgo', 'aymefitc', 'ayoo', 'ayrontrompete', 'ayude', 'ayy', 'ayyeee', 'az', 'azay', 'azee', 'azizshalan', 'azrael', 'azrmusic', 'aztiad', 'azucena', 'azul', 'azure', 'azxp', 'ba', 'babe', 'babies', 'babos', 'baboso', 'baby', 'babydaddydrama', 'babygeeks', 'babymamadrama', 'bacano', 'back', 'backchannel', 'backdrop', 'background', 'backlinks', 'backside', 'backup', 'backwards', 'backyard', 'bad', 'baddchikkent', 'badge', 'badog', 'baffles', 'bag', 'bagi', 'bags', 'bah', 'bahhh', 'baigi', 'bailando', 'baixar', 'bajando', 'bajas', 'bak', 'baked', 'balance', 'baleia', 'balked', 'ball', 'ballmer', 'balloons', 'balmer', 'balms', 'balzora', 'bammer', 'ban', 'bancar', 'banda', 'bandara', 'bando', 'bandwidth', 'bangalore', 'bangkok', 'bangla', 'banking', 'banned', 'bar', 'barackobama', 'barbiegeek', 'barcos', 'barexam', 'bargain', 'barge', 'barn', 'barom', 'barometer', 'barra', 'barron', 'bars', 'baru', 'bas', 'basadas', 'basado', 'base', 'based', 'basedenegocios', 'bashes', 'basic', 'basically', 'basis', 'basketball', 'bassponton', 'basta', 'bastante', 'bastards', 'bastaria', 'bater', 'bathroom', 'batman', 'batteries', 'battery', 'batting', 'battle', 'battling', 'batzayab', 'bay', 'baybeeeee', 'bb', 'bbc', 'bbcclick', 'bbj', 'bblowpoundz', 'bbm', 'bbqfnszm', 'bbx', 'bby', 'bc', 'bcopher', 'bcuz', 'bd', 'bdbpjdh', 'bdf', 'bdfkjgkz', 'be', 'bea', 'beabea', 'beam', 'beaming', 'bear', 'beast', 'beat', 'beater', 'beating', 'beatles', 'beats', 'beau', 'beaucoup', 'beautiful', 'beautynda', 'beblogalicious', 'became', 'because', 'beckhma', 'become', 'becoming', 'becuz', 'bed', 'bedankt', 'bedenkingen', 'bedenkt', 'bedre', 'bedrijfsbezoek', 'bedrijfsprofiel', 'bedrijven', 'bedtime', 'bee', 'beeem', 'beeethree', 'beef', 'beeindruckend', 'beeline', 'been', 'bees', 'beetje', 'before', 'beg', 'began', 'begging', 'begin', 'beginning', 'beginvaneenstijd', 'behatreen', 'behind', 'bei', 'beiden', 'beijo', 'beijos', 'beim', 'bein', 'being', 'beira', 'beirut', 'bej', 'bejeweled', 'bekend', 'bekijken', 'bela', 'belachelijke', 'beleza', 'beliebige', 'believe', 'believes', 'bell', 'belle', 'bellen', 'belleville', 'bellevue', 'bellissimo', 'belong', 'belt', 'bem', 'ben', 'benchmark', 'benchmarklearn', 'bendiciones', 'bendiiga', 'bendita', 'bendito', 'bendorf', 'beneficial', 'benefit', 'benefits', 'benfolds', 'bengali', 'benieuwd', 'benissimo', 'bennettgina', 'bennuk', 'benrubery', 'bepaald', 'ber', 'berada', 'berall', 'berfl', 'berholt', 'berichten', 'berlin', 'bernahme', 'beroperasi', 'berry', 'bertemu', 'beruntung', 'besa', 'beschikbaar', 'beschikking', 'besetzung', 'besiitos', 'besitos', 'besitzer', 'besoin', 'besser', 'bessere', 'best', 'bestbuy', 'bestia', 'bestpantsten', 'bestrelations', 'besturingssysteem', 'bet', 'beta', 'beter', 'betere', 'betreuen', 'betriebssystem', 'better', 'between', 'betweensundays', 'beware', 'bewertung', 'beyond', 'bezielend', 'bezig', 'bf', 'bff', 'bffaeapw', 'bfi', 'bfs', 'bg', 'bgbhzrox', 'bggvdx', 'bgkimgjf', 'bgn', 'bgotzj', 'bgr', 'bgrznnvs', 'bh', 'bhammz', 'bhetrh', 'bhfjatat', 'bhhgh', 'bhxpqyo', 'bi', 'bible', 'bibliography', 'biblioteca', 'bidmyway', 'bidq', 'bids', 'bien', 'bienvenia', 'bienvenida', 'bienvenido', 'bienvenidos', 'bietet', 'big', 'bigapple', 'bigbellybigcuz', 'bigbrother', 'bigdata', 'bigdealdawson', 'bigdenmoments', 'biggest', 'bigmama', 'bigmelo', 'bigrob', 'bigte', 'bigtrouble', 'bihkwstw', 'bij', 'bijdrage', 'bikervox', 'bilgi', 'bilgicagi', 'bill', 'billaut', 'billgates', 'billguard', 'billion', 'billions', 'biltmore', 'binaryfaires', 'bind', 'bing', 'biopic', 'bipolares', 'bipvbdxz', 'biqbehtb', 'bird', 'birthday', 'birthdays', 'biscates', 'bises', 'bishop', 'bishopwsthomas', 'bisiiioo', 'bisquiat', 'bit', 'bitch', 'bitching', 'bitchslaps', 'bite', 'biting', 'bitwizards', 'bixo', 'biz', 'bizarrement', 'biznews', 'bizspark', 'bj', 'bjbj', 'bjjfq', 'bjm', 'bjuss', 'bkad', 'bkgep', 'bkkkkkk', 'bkvg', 'bl', 'bla', 'black', 'blackberry', 'blackberryhelp', 'blackberryvzla', 'blackouts', 'blade', 'blame', 'blameitontheiphone', 'blames', 'blank', 'blaring', 'blast', 'blasting', 'blasts', 'blatant', 'blaving', 'blaze', 'blazer', 'blazure', 'bldwin', 'ble', 'bleibt', 'blend', 'bless', 'blessed', 'blessing', 'bleublancrouge', 'blew', 'blgr', 'blhhgopo', 'blifc', 'blige', 'blij', 'blijk', 'blik', 'blir', 'blob', 'block', 'blocked', 'blocks', 'bloemen', 'blog', 'blogalicious', 'blogger', 'blogoma', 'blogpost', 'blogs', 'blogspot', 'blokea', 'blokearon', 'blood', 'bloody', 'bloodymary', 'bloombe', 'bloomberg', 'bloombergnews', 'bloquea', 'bloqueando', 'bloquear', 'blow', 'blowed', 'blowing', 'blown', 'bltq', 'blu', 'blue', 'blues', 'bluescreens', 'bluetooth', 'blyala', 'blz', 'bm', 'bmann', 'bmarc', 'bmcjlgdv', 'bmeiy', 'bmoney', 'bmoxv', 'bmqf', 'bmt', 'bmw', 'bmy', 'bn', 'bno', 'bo', 'boa', 'boaa', 'boanoite', 'board', 'boasts', 'bob', 'boba', 'bobeiras', 'bobharper', 'bobo', 'bocha', 'boczcmbg', 'boda', 'bode', 'body', 'boeing', 'boeket', 'boer', 'bofh', 'bog', 'bogus', 'bogusky', 'bola', 'bolber', 'bolivia', 'bologna', 'bolsillo', 'bom', 'bon', 'bona', 'bonbano', 'bond', 'bong', 'bonita', 'bonito', 'bonjour', 'bonkoif', 'bonobo', 'bonsoir', 'boo', 'boogiedebeast', 'booiiiii', 'book', 'bookcase', 'booked', 'bookmark', 'bookmarks', 'books', 'bookworms', 'booooa', 'boost', 'boosts', 'boot', 'booted', 'booth', 'boothelk', 'bootloaders', 'bor', 'bora', 'borders', 'bored', 'boring', 'borrade', 'borrarlo', 'bort', 'bosch', 'boss', 'boston', 'bot', 'both', 'bother', 'boton', 'bottlenecks', 'bottom', 'boug', 'bought', 'bounce', 'bouncy', 'bound', 'bouquet', 'bout', 'boutons', 'boven', 'bowl', 'bows', 'box', 'boxes', 'boy', 'boycotting', 'boylston', 'bp', 'bpfkyd', 'bpgpq', 'bppjwncp', 'bps', 'bpzrz', 'bqmuhxkk', 'bqpiyl', 'bqvm', 'bqyim', 'br', 'brady', 'braedonrice', 'braille', 'brain', 'brainware', 'bran', 'branch', 'brand', 'brandon', 'brandonminiman', 'brands', 'branschen', 'brasil', 'brat', 'bravo', 'brb', 'brbjtb', 'break', 'breakfast', 'breaking', 'breakingnews', 'brekend', 'brescia', 'breve', 'brevetto', 'brf', 'briancrockerjr', 'brianmincey', 'briannaa', 'brick', 'bricked', 'bridge', 'brief', 'briefing', 'brightness', 'brightsidenews', 'brigitte', 'brilhante', 'briliant', 'brilliance', 'brilliant', 'brin', 'bring', 'bringing', 'brings', 'brit', 'britain', 'brittjje', 'bro', 'broadly', 'broda', 'broke', 'broken', 'bromance', 'bromsolutions', 'broo', 'brotha', 'brother', 'brought', 'brown', 'browniee', 'browse', 'browser', 'browsers', 'browserwars', 'browsing', 'bruise', 'bruna', 'brunodelucas', 'brunodgama', 'brzlsgc', 'bs', 'bsd', 'bsdalton', 'bsfmwkfh', 'bsggco', 'bsnbahbp', 'bsod', 'bss', 'bst', 'bsteelooper', 'bt', 'btfu', 'bthompson', 'btu', 'btw', 'bu', 'buat', 'bucboyy', 'buccaneers', 'bucsi', 'bud', 'buddies', 'buddy', 'bude', 'buen', 'buena', 'buenas', 'buendia', 'bueno', 'buenoh', 'buenooooo', 'buenos', 'buffalo', 'bug', 'bugfa', 'buggy', 'bugou', 'bugs', 'build', 'building', 'buildingwindows', 'builds', 'buildwindows', 'built', 'builtin', 'bullet', 'bulletin', 'bulletproof', 'bullmer', 'bullshit', 'bullying', 'bummer', 'bump', 'bunch', 'bundles', 'bunny', 'buntut', 'buried', 'burke', 'burkepatch', 'burn', 'bus', 'buscalo', 'buscalos', 'buscar', 'busco', 'bush', 'business', 'businesses', 'businessuplift', 'businessweek', 'busy', 'busyness', 'but', 'butjnvo', 'butler', 'butt', 'buttery', 'button', 'buttons', 'buwil', 'buy', 'buying', 'buys', 'buzz', 'buzzcontinue', 'buzzworthyenespa', 'buzzz', 'buzzzit', 'bvay', 'bvgk', 'bvkp', 'bvu', 'bw', 'bwana', 'bwt', 'bwxjadg', 'bwzganje', 'bx', 'bxlewi', 'by', 'bye', 'byn', 'bync', 'byrdgan', 'bytegadget', 'bytenow', 'byxbqvy', 'byyfhtpz', 'byyicrps', 'bz', 'bzfph', 'bzny', 'bzqs', 'bzrswi', 'bzx', 'bzz', 'ca', 'caaargaaaaaa', 'cabe', 'cabeza', 'cable', 'cabron', 'cacca', 'cacchio', 'cacha', 'cachando', 'cached', 'cacion', 'cada', 'cade', 'cadientgroup', 'caelusgreenroom', 'cafezinho', 'cafsd', 'cagando', 'cagimo', 'cago', 'caguen', 'cai', 'caifanes', 'cair', 'cake', 'calendar', 'calendrier', 'calidad', 'calientan', 'california', 'call', 'calle', 'called', 'calling', 'callmepinoc', 'calls', 'calumo', 'calvinnieh', 'cama', 'camarada', 'cambiado', 'cambiale', 'cambian', 'cambiar', 'cambie', 'came', 'camera', 'cameras', 'camilokas', 'camita', 'camp', 'campa', 'campaign', 'campaigns', 'camper', 'campus', 'can', 'canada', 'canadait', 'canadeis', 'canastos', 'cancer', 'candentes', 'canergiemellon', 'canes', 'cannot', 'canon', 'cans', 'cansada', 'cant', 'canta', 'cantwealljustgetalong', 'cap', 'capabilities', 'capability', 'capacitaci', 'capacity', 'capaz', 'capire', 'capital', 'capo', 'capokenn', 'capped', 'captain', 'captura', 'capture', 'captures', 'caq', 'car', 'cara', 'caracter', 'caracteres', 'carajamadre', 'carajo', 'caramba', 'card', 'cards', 'cardsapp', 'care', 'cared', 'careers', 'careful', 'caretoshareknowledge', 'carge', 'caring', 'carlmilner', 'carlo', 'carlostolosa', 'carlton', 'carnegie', 'carnegiemellon', 'carpetas', 'carrasco', 'carrera', 'carri', 'carrier', 'carriers', 'carroll', 'carry', 'carrying', 'carrypad', 'cars', 'carsimeister', 'carsonfratus', 'carta', 'cartoon', 'casa', 'caschys', 'case', 'cases', 'casg', 'cash', 'casi', 'caso', 'casos', 'cassandra', 'cast', 'castle', 'casualidad', 'cat', 'catastrophe', 'catastrophically', 'catch', 'catchaset', 'catchin', 'catchment', 'catchy', 'categories', 'categorizing', 'caught', 'caur', 'causando', 'causarle', 'cause', 'causes', 'caution', 'cautious', 'cavi', 'cb', 'cbcefiln', 'cbcue', 'cbillich', 'cbm', 'cbmonarch', 'cbqf', 'cbumlg', 'cbxvkb', 'cc', 'cckap', 'ccna', 'cd', 'cdkpyjzv', 'cdma', 'ce', 'cedez', 'cedula', 'ceejay', 'ceel', 'cej', 'cel', 'cela', 'celeb', 'celebre', 'celebrities', 'celebrity', 'cells', 'cels', 'celular', 'celularrrrrrr', 'cenan', 'cenare', 'cenaze', 'censorship', 'cent', 'center', 'central', 'centre', 'centric', 'centro', 'centroandroid', 'centrum', 'centuries', 'century', 'ceo', 'cerchio', 'ceremoniously', 'ceritanya', 'cerrare', 'certain', 'certificaci', 'certificado', 'certificar', 'certificate', 'certification', 'certified', 'certo', 'cerulean', 'ces', 'cesspit', 'cet', 'cette', 'cf', 'cfciz', 'cffchz', 'cfhu', 'cfmzoejw', 'cg', 'cgeo', 'cgt', 'ch', 'chachasikes', 'chadleaman', 'chairman', 'chairs', 'challenged', 'chamarem', 'champ', 'chan', 'chance', 'change', 'changed', 'changer', 'changes', 'changing', 'changingdiapers', 'channel', 'chant', 'chao', 'chaos', 'chapa', 'chaque', 'characters', 'charade', 'charence', 'charge', 'charged', 'charger', 'charges', 'charging', 'charities', 'charity', 'charlesarthur', 'charlielace', 'charlieroffe', 'charmybird', 'chart', 'charts', 'chascouponmom', 'chases', 'chat', 'chata', 'chaton', 'chatoney', 'chavez', 'chavito', 'che', 'cheap', 'cheat', 'cheatedabit', 'checando', 'checar', 'check', 'checkboxes', 'checked', 'checking', 'checkup', 'checo', 'checs', 'cheer', 'chef', 'chefreggie', 'cheltenham', 'chen', 'cheque', 'cher', 'chest', 'chez', 'chggwg', 'chicago', 'chick', 'chicken', 'chickz', 'chief', 'chihuahuentauro', 'child', 'children', 'chill', 'chillin', 'chime', 'china', 'chinese', 'chingado', 'chinkiibeauty', 'chipa', 'chipperz', 'chips', 'chipsets', 'chismeen', 'chiste', 'chistes', 'chk', 'chocoleit', 'choice', 'choices', 'choiceznewz', 'choose', 'chooses', 'choosy', 'chose', 'chosen', 'chosenfewdjs', 'chris', 'chriseffio', 'chrispirillo', 'christianortizh', 'christianstraw', 'christina', 'christmas', 'christyjbpl', 'chrisvoss', 'chriswglowe', 'chriszwitschert', 'chrome', 'chromeos', 'chromevox', 'chste', 'chtvn', 'chu', 'chucha', 'chucktodd', 'chupa', 'chupaflamengo', 'chwcvzle', 'chwilhelm', 'chysta', 'chyxxdi', 'chzbn', 'ci', 'cib', 'cibereconomia', 'cicip', 'ciddi', 'cielo', 'ciencia', 'cient', 'cientifico', 'cierro', 'ciertas', 'cierto', 'cilzfp', 'cimes', 'cinco', 'cincodiascom', 'cinguettii', 'cio', 'circle', 'circles', 'circuits', 'circumstances', 'circustk', 'cisco', 'citigroup', 'citizenship', 'citou', 'citrix', 'city', 'citysearch', 'ciutecx', 'cixdi', 'cj', 'cjas', 'cje', 'cjj', 'cjnwu', 'cjonncvk', 'cjwallace', 'ck', 'cken', 'cker', 'ckqinbqb', 'ckt', 'cktritt', 'cl', 'claim', 'claims', 'clair', 'clarence', 'claro', 'clase', 'clases', 'class', 'classes', 'classic', 'classroom', 'clavier', 'claws', 'cld', 'clean', 'cleaned', 'clear', 'clearance', 'clearlycassi', 'clgzsi', 'cli', 'click', 'clicking', 'clicks', 'client', 'clientes', 'clienti', 'clients', 'clkwaio', 'clo', 'clock', 'clocks', 'close', 'closed', 'closely', 'closer', 'closes', 'closet', 'closing', 'clothes', 'clothing', 'cloud', 'cloudcomputing', 'cloudnewsindia', 'clouds', 'cloudy', 'clowns', 'club', 'clubdelacomedia', 'clue', 'cluster', 'cm', 'cmaneu', 'cmg', 'cmgo', 'cmm', 'cmo', 'cmon', 'cmswire', 'cmvcki', 'cn', 'cnbc', 'cnbcfastmomey', 'cnectara', 'cnet', 'cng', 'cnnee', 'cnt', 'cntestaaaa', 'cnteu', 'cnu', 'cnx', 'cnxh', 'co', 'coach', 'coast', 'coated', 'coatgal', 'cobjrw', 'cobopl', 'cobra', 'cobrarme', 'cocacola', 'cod', 'code', 'codebit', 'codec', 'codecs', 'codename', 'codes', 'codificaci', 'coding', 'codytigernord', 'coffee', 'coffers', 'cofounder', 'cogita', 'coincide', 'coincidence', 'coisa', 'coisas', 'colapso', 'coldplay', 'coldstorage', 'colecci', 'colin', 'collaborated', 'collaboration', 'collabware', 'colleague', 'colleagues', 'collecting', 'collection', 'collects', 'collega', 'college', 'colleges', 'collobrate', 'colocar', 'coloco', 'colokei', 'coloquen', 'color', 'colorful', 'colour', 'colpa', 'colpo', 'com', 'combat', 'combien', 'combination', 'combine', 'combo', 'come', 'comen', 'comentado', 'comentados', 'comentar', 'comenzar', 'comes', 'comfortabele', 'cominciato', 'coming', 'commands', 'comme', 'comment', 'commentcamarche', 'comments', 'commerce', 'commercial', 'committed', 'commodity', 'commons', 'communaut', 'communications', 'community', 'como', 'comooo', 'comp', 'compact', 'companies', 'companion', 'company', 'comparen', 'compares', 'comparing', 'comparison', 'comparte', 'compartes', 'compartilhamento', 'compartilhamentovia', 'compartimos', 'compartir', 'compatibility', 'compatible', 'compelling', 'comper', 'compete', 'competencia', 'competidores', 'competition', 'competitive', 'competitor', 'competitors', 'compilation', 'compiler', 'compl', 'complain', 'complaints', 'completa', 'complete', 'completely', 'completes', 'complex', 'compliance', 'complicated', 'complimenti', 'compliments', 'compo', 'component', 'componerle', 'compose', 'composite', 'compr', 'compra', 'comprado', 'comprar', 'comprato', 'comprend', 'compressors', 'compris', 'compte', 'comptia', 'compu', 'computador', 'computadoras', 'computer', 'computerworld', 'computing', 'compuu', 'comunes', 'comunicacion', 'con', 'concept', 'conceptualart', 'concer', 'concern', 'concerned', 'concero', 'concierto', 'concluded', 'concrete', 'concurrent', 'concurrentie', 'conditions', 'condom', 'condoms', 'conductive', 'conectado', 'conecto', 'conector', 'conejos', 'conf', 'conference', 'conferencecall', 'conferencia', 'confidence', 'confiesan', 'configure', 'confira', 'confirma', 'confirmado', 'confirmed', 'confirms', 'conflict', 'confused', 'confusedbymytimeline', 'confusin', 'confusing', 'congelada', 'congrats', 'congratulations', 'congratweet', 'conmocionados', 'conna', 'connect', 'connected', 'connecter', 'connecting', 'connectingforhealth', 'connection', 'connections', 'connectivity', 'connector', 'conoce', 'conocer', 'conocido', 'conocimiento', 'conomique', 'cons', 'conseguiram', 'consider', 'consideration', 'considered', 'considering', 'considers', 'consiganse', 'consola', 'console', 'consolidation', 'consommation', 'conspiracy', 'constantcontact', 'conste', 'constrained', 'construidos', 'consulta', 'consultants', 'consultas', 'consulting', 'consultingware', 'consument', 'consumer', 'consumers', 'consumo', 'cont', 'conta', 'contact', 'contacted', 'contacten', 'contacts', 'contandolo', 'contandome', 'contato', 'contatos', 'contattaci', 'contend', 'contender', 'contenido', 'content', 'contenu', 'contenus', 'contest', 'contestar', 'contests', 'continentes', 'continua', 'continue', 'continued', 'continues', 'continuing', 'continuous', 'continuously', 'continuum', 'contr', 'contra', 'contraatacan', 'contract', 'contracts', 'contrast', 'contratar', 'control', 'controlar', 'controlled', 'controller', 'contundente', 'conundrum', 'convenient', 'conversas', 'conversation', 'conversations', 'conversion', 'convert', 'converting', 'convertir', 'conveyor', 'convierte', 'convince', 'convinto', 'convirtiendo', 'convivir', 'coo', 'cookbook', 'cool', 'coole', 'coollike', 'coolstorybro', 'cop', 'cope', 'copia', 'copiar', 'copied', 'copy', 'copyandpaste', 'copying', 'copyright', 'coqclb', 'corajes', 'coraz', 'cord', 'core', 'coreapptech', 'corebts', 'cores', 'cornas', 'cornelia', 'corners', 'cornos', 'corporate', 'corporation', 'corporativos', 'corre', 'correct', 'corrected', 'correcteur', 'correction', 'correo', 'corrompido', 'corta', 'cortes', 'cortex', 'cos', 'cosa', 'cosas', 'cosf', 'coso', 'cost', 'costolo', 'costs', 'costumbre', 'cotmtulsa', 'could', 'couldn', 'couldnt', 'count', 'counter', 'counters', 'countries', 'county', 'coup', 'couple', 'coupons', 'course', 'coursey', 'court', 'courtesy', 'courtneytaylor', 'covent', 'coverage', 'covered', 'covering', 'covers', 'coworker', 'coz', 'cozinha', 'cpc', 'cpfl', 'cpg', 'cpkr', 'cpm', 'cpmorris', 'cpmteujg', 'cpq', 'cpqd', 'cpu', 'cq', 'cqcaword', 'cqfsjdwb', 'cr', 'crack', 'crackberry', 'cracked', 'cracking', 'cran', 'cranberry', 'cranial', 'crankywithnophone', 'crap', 'crappy', 'crash', 'crashes', 'crashing', 'craving', 'crawl', 'crazy', 'crczy', 'crea', 'creado', 'cream', 'crear', 'creare', 'create', 'created', 'creatie', 'creating', 'creation', 'creative', 'creatives', 'creatividad', 'creato', 'creators', 'crece', 'credential', 'credit', 'creditbility', 'credito', 'credits', 'creeaaatiiiviiidaaad', 'creen', 'creep', 'creepy', 'creerte', 'creo', 'crew', 'cria', 'criistianzepeda', 'crime', 'crisis', 'crispin', 'crissp', 'cristal', 'criszambrano', 'critica', 'criticada', 'critical', 'criticise', 'criticizing', 'critics', 'crksoo', 'crm', 'crmaaagq', 'crmstrategies', 'crois', 'crome', 'cropping', 'cross', 'crossed', 'crowd', 'crq', 'crrao', 'crucius', 'crush', 'crushed', 'crypt', 'cs', 'csaefrhc', 'csg', 'csharp', 'csportsmn', 'csr', 'cstanslf', 'cstd', 'csuc', 'ct', 'ctia', 'ctil', 'ctp', 'ctr', 'ctx', 'cu', 'cuadernos', 'cualquera', 'cualquier', 'cuando', 'cuano', 'cuanta', 'cuanto', 'cuantos', 'cubre', 'cuchillo', 'cue', 'cuenta', 'cuentalaleyenda', 'cuentas', 'cuento', 'cuidate', 'culas', 'culminando', 'culpa', 'cultofmac', 'culture', 'cumplan', 'cumple', 'cumplea', 'cumplen', 'cuow', 'cupom', 'curate', 'curhat', 'curiosidad', 'curiosity', 'curious', 'currencies', 'current', 'currently', 'curse', 'curso', 'cursussen', 'cursusvoor', 'curve', 'custom', 'customer', 'customerappreciation', 'customers', 'customerservice', 'customerthink', 'customize', 'custserv', 'cut', 'cute', 'cutting', 'cuz', 'cvd', 'cvekdoiq', 'cvfwmvmo', 'cw', 'cxovk', 'cxu', 'cy', 'cyanogen', 'cyanogenmod', 'cyclone', 'cynblackstone', 'cypher', 'cyruss', 'cyst', 'czmfvnlq', 'czsosvgp', 'czytaj', 'da', 'daaaaag', 'daaayum', 'daar', 'daarmee', 'dachkampagne', 'dachte', 'dad', 'dada', 'dado', 'dados', 'dadynhasantos', 'daf', 'dag', 'dai', 'daibosyu', 'daily', 'dailydealchat', 'daimler', 'daje', 'daki', 'dal', 'dale', 'daleplay', 'dalla', 'dallas', 'dalmaer', 'dam', 'damage', 'damaged', 'dame', 'dammit', 'damn', 'dan', 'dance', 'dancecentral', 'danced', 'dancemoms', 'dancers', 'dancing', 'dando', 'danger', 'daniel', 'danielas', 'danielltosh', 'danielpink', 'danielpulido', 'danilosooares', 'daniweb', 'dank', 'danke', 'dann', 'danneggiati', 'dannysullivan', 'dano', 'dans', 'dansaap', 'dany', 'danyfajardo', 'danyktjl', 'danysaadia', 'daphnedijkerman', 'dappm', 'dar', 'dariuszporowski', 'dark', 'darkness', 'darkoivancevic', 'darle', 'darse', 'das', 'dashburst', 'dasneuearbeiten', 'dass', 'dat', 'data', 'database', 'datacenter', 'datalimiet', 'datamining', 'dataplusnl', 'dataquality', 'date', 'datemporada', 'dates', 'datfix', 'datos', 'daughter', 'davebakerd', 'davepeck', 'david', 'davidcohen', 'davidegori', 'davidguetta', 'davidmerzel', 'davis', 'davislachance', 'daw', 'dawn', 'dawnabvx', 'dawns', 'day', 'dayathomas', 'days', 'daysofgratefulness', 'daytimewdonna', 'dazu', 'db', 'dbbwsdpx', 'dbsma', 'dbw', 'dce', 'dciffpi', 'dcjobs', 'dcoh', 'dcoult', 'dcqo', 'dcz', 'dd', 'ddanille', 'ddd', 'dddddddd', 'ddkfewqb', 'ddlovato', 'ddu', 'dduu', 'de', 'dead', 'deadspace', 'deaf', 'deal', 'dealing', 'deals', 'dealt', 'dear', 'death', 'deb', 'debate', 'debating', 'debe', 'deberia', 'debloquer', 'debt', 'debut', 'debuts', 'dec', 'decades', 'december', 'decent', 'decide', 'decides', 'decir', 'decirlo', 'decision', 'decisions', 'declarar', 'declares', 'declarng', 'decline', 'declined', 'declining', 'decopic', 'dedicated', 'dedication', 'dedo', 'dedos', 'deejay', 'deejaydenco', 'deejayer', 'deelt', 'deep', 'def', 'default', 'defaulting', 'defaults', 'defecto', 'defende', 'deferom', 'define', 'definici', 'definitely', 'definitivamente', 'definitivn', 'deformado', 'defrauding', 'degrassi', 'degree', 'degusta', 'dehtavares', 'deiixando', 'deixa', 'deixaram', 'deixaramtriste', 'deja', 'dejaba', 'dejame', 'dejan', 'dejando', 'dejar', 'dejara', 'dejarla', 'dejarme', 'dejaron', 'dejarte', 'dejaste', 'dejen', 'del', 'dela', 'delante', 'delaware', 'delay', 'delegates', 'delete', 'deleted', 'delicious', 'delight', 'deliver', 'delivered', 'delivering', 'delivers', 'dell', 'dellmanning', 'dem', 'demain', 'demand', 'demandiez', 'demasiado', 'demasiadoego', 'demi', 'demo', 'democrat', 'demoing', 'demonios', 'demons', 'demonstrates', 'demonstration', 'den', 'denali', 'dengan', 'denkt', 'dennieb', 'dennis', 'dennisbett', 'dennisritchie', 'denounce', 'density', 'dentist', 'deolindoo', 'depan', 'departamento', 'department', 'dependent', 'depends', 'depers', 'deploying', 'deployment', 'deployments', 'depois', 'depot', 'depreciate', 'depuis', 'der', 'dernier', 'derryxowners', 'derstandard', 'des', 'desactiv', 'desahogar', 'desahogarme', 'desahogo', 'desahoqar', 'desarrolla', 'desarrollado', 'desarrollador', 'desarrolladores', 'desarrollan', 'desarrollar', 'desarrollo', 'desayunan', 'desbloquear', 'desbloqueo', 'descanseen', 'descansen', 'descargadas', 'descargues', 'descuentos', 'desde', 'dese', 'desejo', 'desenvolvedores', 'desertbeacon', 'design', 'designed', 'designer', 'designers', 'designs', 'desire', 'desired', 'desirepoulain', 'desk', 'deskanseeeen', 'desktop', 'desktopvirtualisatie', 'desliga', 'desligar', 'despedindo', 'desperatehousewives', 'despido', 'despite', 'despliega', 'despu', 'despues', 'desquito', 'desse', 'desses', 'destaque', 'destekledi', 'destination', 'destroying', 'destruir', 'desvela', 'det', 'detailed', 'detailing', 'details', 'detalles', 'detection', 'detelefoonvanbr', 'detelefoonvanbritt', 'determine', 'detik', 'dette', 'deus', 'deutsch', 'deux', 'dev', 'devant', 'devbc', 'devel', 'develop', 'developed', 'developer', 'developers', 'developing', 'development', 'deverdad', 'devf', 'device', 'devices', 'devient', 'devolveram', 'devproblems', 'devra', 'devrais', 'devreach', 'dewan', 'deyen', 'deze', 'dezz', 'df', 'dff', 'dffkvnsj', 'dfgj', 'dfnql', 'dggsnoh', 'dgikwyoi', 'dgnbsbuj', 'dgosset', 'dhen', 'dhilipsiva', 'dhlhoexz', 'dhlsg', 'di', 'dia', 'diablo', 'diagrama', 'dialepimu', 'diamo', 'dianasanchez', 'dianasari', 'dianigroves', 'diannaagron', 'diario', 'diarrh', 'diary', 'dias', 'diaz', 'dic', 'dica', 'dicas', 'dicasecommerce', 'dice', 'dicen', 'dices', 'dich', 'dicho', 'dick', 'dickc', 'dickcostolo', 'dicks', 'dicn', 'dictation', 'dictionnaire', 'did', 'didn', 'didnt', 'die', 'died', 'diego', 'diegocambiaso', 'diegofrancesco', 'diegomendesr', 'dien', 'dienstverlener', 'dieron', 'dieser', 'diferencia', 'diff', 'difference', 'different', 'differs', 'difficile', 'difficult', 'difficulties', 'dificuldade', 'difqtmwm', 'diganme', 'digg', 'digging', 'diggita', 'digiprofs', 'digit', 'digital', 'digitale', 'digitally', 'digitalstrategy', 'digo', 'diias', 'diios', 'diiqooo', 'dije', 'dijeron', 'dijitalde', 'dijo', 'dilation', 'dileatumentequedescance', 'dilo', 'dime', 'din', 'dine', 'dinero', 'dingen', 'dinner', 'dio', 'dios', 'dips', 'dipset', 'dir', 'dire', 'direct', 'directement', 'directional', 'directions', 'directivos', 'directly', 'directo', 'director', 'directs', 'diretamente', 'dis', 'disabled', 'disabling', 'disagree', 'disappear', 'disappoint', 'disappointed', 'disappointing', 'disappointmen', 'disappointment', 'disaster', 'disclosed', 'discontinued', 'discount', 'discours', 'discover', 'discovery', 'discu', 'disculpame', 'discuss', 'discussing', 'discussion', 'dise', 'disfrute', 'disguise', 'dishing', 'disney', 'dispensa', 'display', 'dispo', 'dispon', 'disponible', 'dispose', 'dispositivo', 'dispositivos', 'disruptions', 'disse', 'dissent', 'disses', 'distancia', 'distorsi', 'distractions', 'distraes', 'distribuciondeprogramasonline', 'distributing', 'distribution', 'distrust', 'disturbin', 'dit', 'ditch', 'ditemukan', 'div', 'dive', 'diversi', 'divertido', 'division', 'divisions', 'divulga', 'diy', 'dizer', 'dizzleb', 'dj', 'djdn', 'djjhfgu', 'djsp', 'djtetekerbes', 'djtrebel', 'dk', 'dkgcvjsg', 'dkhazhintsev', 'dkqs', 'dl', 'dlc', 'dleli', 'dllabuak', 'dlt', 'dlvtboek', 'dlxwilu', 'dm', 'dmo', 'dmolim', 'dms', 'dmvtfsvg', 'dn', 'dniokchp', 'dnpflxxb', 'dnt', 'dnwy', 'do', 'doc', 'doch', 'dock', 'docomo', 'docs', 'document', 'documentary', 'documents', 'dodged', 'dodgy', 'doe', 'does', 'doesanyoneknow', 'doesn', 'doesnt', 'doet', 'dog', 'dogs', 'dohdenmg', 'doido', 'doin', 'doing', 'doj', 'dok', 'dokunmatik', 'dollar', 'dollars', 'domain', 'domani', 'domestic', 'domination', 'domingos', 'dominicandroids', 'dominio', 'domls', 'dommemensen', 'don', 'donate', 'donated', 'donchambitas', 'donchele', 'donde', 'done', 'donne', 'donner', 'dono', 'donorschoose', 'dont', 'dontbemadatmebecause', 'doomed', 'door', 'doorstep', 'dope', 'dopest', 'dorado', 'dorgas', 'dorme', 'dormi', 'dormiiiirr', 'dormiir', 'dormir', 'dormirse', 'dormish', 'dorrmi', 'dos', 'dose', 'dosent', 'dossiers', 'dostupan', 'dotnet', 'dotykowy', 'dou', 'double', 'doubt', 'douchebags', 'doug', 'dough', 'doughnuts', 'down', 'downgrade', 'download', 'downloadable', 'downloaded', 'downloading', 'downloads', 'downside', 'downtown', 'downward', 'doy', 'dozens', 'dp', 'dpioyqt', 'dplbpqho', 'dpr', 'dqcg', 'dqr', 'dr', 'drain', 'drakes', 'drame', 'drawlin', 'dream', 'dreamhost', 'dreaming', 'dreams', 'dretoorn', 'drew', 'drewbezanson', 'drink', 'driodrazr', 'drive', 'driver', 'driving', 'drizzy', 'drkhan', 'drm', 'droid', 'droidbionic', 'droidtweak', 'droidtweets', 'drop', 'dropbox', 'dropped', 'dropping', 'drops', 'droptheknife', 'drr', 'druga', 'drugs', 'drumroll', 'druncks', 'drunkedoutteezy', 'drvksvf', 'dryab', 'dryad', 'drying', 'ds', 'dseq', 'dst', 'dsvelarme', 'dtfis', 'dtq', 'dtr', 'dtsy', 'dtv', 'du', 'dubai', 'dubbe', 'dudas', 'dude', 'due', 'duermaan', 'duerman', 'duet', 'duetenterprise', 'duff', 'duh', 'duhhhh', 'duia', 'duiken', 'duim', 'duk', 'duke', 'duking', 'dulmandakh', 'duly', 'dumb', 'dumbass', 'dummy', 'dump', 'dumped', 'dumt', 'duo', 'duped', 'duplicates', 'duplicating', 'duplication', 'durable', 'durante', 'duraria', 'durban', 'durch', 'duri', 'during', 'durtevragen', 'duruyoruz', 'dus', 'dusting', 'duthf', 'duty', 'duuuuhhh', 'duyq', 'dvroegop', 'dw', 'dwd', 'dwqyyu', 'dwtalker', 'dwuwiywc', 'dx', 'dxbkq', 'dxf', 'dxn', 'dxrbxjkb', 'dxria', 'dxxklubp', 'dxzba', 'dyanna', 'dye', 'dying', 'dylawnward', 'dymdmu', 'dynamics', 'dyonxz', 'dyoyrkyd', 'dz', 'dzhvfxvh', 'dziak', 'dzk', 'dzmphbut', 'dzsgphqt', 'ea', 'each', 'eakkxn', 'ear', 'earbuds', 'earlier', 'early', 'earned', 'earnings', 'earobine', 'ears', 'earth', 'earthquakes', 'earthquick', 'easier', 'easiest', 'east', 'easter', 'easy', 'eat', 'eatables', 'eating', 'eatmagazine', 'ebay', 'ebaymobile', 'ebook', 'ebooks', 'eboyee', 'ebswmyui', 'ebtsjpw', 'ebxpx', 'ec', 'ecdl', 'echelon', 'echo', 'echt', 'ecji', 'eclair', 'eclipse', 'eclipsed', 'ecm', 'eco', 'ecofriendly', 'ecogreenvalet', 'ecommerce', 'ecommnewsupdate', 'econ', 'economics', 'econsultancy', 'ecoumans', 'ect', 'ecuador', 'ecwx', 'ecym', 'ed', 'edatpost', 'edbott', 'edchat', 'edcvp', 'edddarkfawn', 'edercarmona', 'edge', 'edibll', 'edici', 'edisant', 'editar', 'edites', 'editeur', 'editing', 'edition', 'editor', 'edmaguire', 'edswoxoc', 'edu', 'eduardo', 'educaci', 'education', 'educativos', 'educause', 'edugeek', 'eduuaardo', 'edwin', 'edxe', 'edycja', 'ee', 'eedar', 'eee', 'eeeeeerrro', 'eeeerro', 'eef', 'eejhbt', 'eemi', 'een', 'eens', 'eeqjfl', 'eerkm', 'eerste', 'ef', 'efectividamente', 'eff', 'effect', 'effects', 'efffing', 'efficient', 'efficiently', 'efficienza', 'effort', 'effortless', 'efgdbbuw', 'eficaz', 'efma', 'eft', 'ega', 'eggregiously', 'eggs', 'egomania', 'egydroid', 'eh', 'eharmony', 'ehduq', 'ehemalige', 'ehhhh', 'ehj', 'ehoebmdw', 'ehr', 'eigen', 'eigenteksteerst', 'eigentlich', 'eight', 'eih', 'eijhw', 'eilsonoliveira', 'ein', 'eindelijk', 'eine', 'einem', 'einen', 'eines', 'einfachen', 'eingeloggte', 'einzelnen', 'eisaahmad', 'eita', 'either', 'eizexun', 'ej', 'ejkelj', 'ejunkie', 'ejwt', 'ekdjxo', 'ekh', 'ekran', 'ekrana', 'el', 'ela', 'elbellacomusic', 'elcheicon', 'eldermltillerjr', 'eldestripaputas', 'ele', 'elearnnet', 'eleconomistanet', 'electability', 'electric', 'electrical', 'electricsoup', 'electronic', 'elegance', 'elegantes', 'elelegido', 'eles', 'elevated', 'elh', 'elias', 'eliasmm', 'elidaandrea', 'eliedzr', 'eligible', 'elijahcrago', 'elisafn', 'elishiawindfohr', 'elite', 'elitotora', 'ella', 'eller', 'ellos', 'elm', 'elop', 'elqi', 'else', 'elvrvj', 'elypfnyg', 'em', 'emaeid', 'email', 'emails', 'embed', 'emboltijado', 'embracing', 'emc', 'emea', 'emergency', 'emis', 'emoji', 'emoticons', 'emp', 'empez', 'empezando', 'emphasis', 'emphasize', 'empieza', 'empiezan', 'empiezas', 'empire', 'empleo', 'employability', 'employee', 'employees', 'employers', 'empolga', 'empowerment', 'emprendimiento', 'empresa', 'empresariales', 'empresarios', 'emprestei', 'empty', 'emptythreats', 'ems', 'emsoftly', 'emula', 'en', 'enable', 'enabled', 'enamorado', 'encanta', 'encantado', 'encerio', 'encontrado', 'encontrados', 'encontrar', 'encontraras', 'encore', 'encountered', 'encourage', 'encouraging', 'encrypt', 'encrypted', 'encrypting', 'encryption', 'encrypts', 'encsf', 'encuentra', 'encuentro', 'encuesta', 'end', 'endast', 'ende', 'endg', 'ending', 'endless', 'endlich', 'ends', 'enemies', 'enemy', 'energ', 'enfiaram', 'enfin', 'enfle', 'enfrevk', 'engadet', 'engadget', 'engage', 'engaged', 'engagent', 'engages', 'engaging', 'engine', 'engineer', 'engineering', 'engineers', 'engines', 'engt', 'enhance', 'enhancements', 'enhances', 'enheter', 'enige', 'enjekomttelaatmetjetoestel', 'enjoy', 'enjoying', 'enlaces', 'enlance', 'enlightened', 'enn', 'enorm', 'enough', 'enpau', 'enpwtgb', 'enqtxsfv', 'enrages', 'ensamble', 'ensemble', 'ent', 'entdeckt', 'entender', 'entenderas', 'entendiste', 'enterarr', 'entering', 'entero', 'enterprise', 'enterprises', 'entertaining', 'enthousiasme', 'enthousiaste', 'entiendo', 'entire', 'entonces', 'entons', 'entrar', 'entre', 'entrebits', 'entrepreneur', 'entrepreneurs', 'entreprise', 'entretenida', 'entretienes', 'entrincado', 'entro', 'entt', 'entusiasmado', 'entwickelt', 'entz', 'envidia', 'envie', 'environment', 'environments', 'envuelto', 'eo', 'eocfm', 'eofuyy', 'eorosstx', 'ep', 'epa', 'epaganjb', 'epharma', 'epic', 'epicfail', 'epicquotesorg', 'epicwin', 'epidemics', 'episode', 'epiv', 'epson', 'epub', 'eqazzbcz', 'eqgbhnq', 'eqlqua', 'equal', 'equipment', 'equipo', 'equivalent', 'equivoque', 'eqz', 'er', 'era', 'erbij', 'eres', 'erexb', 'erfolgreich', 'erfolgsspur', 'erg', 'ergonomic', 'eric', 'ericgreenspan', 'ericligman', 'ericohs', 'ericson', 'ericsson', 'eriikuxa', 'erika', 'erkl', 'ermosa', 'erneut', 'ernnq', 'erp', 'erq', 'erro', 'error', 'errores', 'errors', 'erste', 'erstklassiger', 'erweitert', 'ery', 'es', 'esa', 'esas', 'escalabilidad', 'escape', 'escasos', 'escola', 'escolhas', 'escort', 'escorts', 'escrevendo', 'escribe', 'escriben', 'escribio', 'escribir', 'escribis', 'escribo', 'escritura', 'escucha', 'escuchado', 'escuchamdo', 'ese', 'esmandau', 'esnaco', 'eso', 'esos', 'esoy', 'esp', 'espa', 'especial', 'especially', 'especificaciones', 'espefifiquen', 'espera', 'esperaba', 'esperado', 'esperando', 'esperanza', 'esperar', 'esperenlo', 'espero', 'esphoneblog', 'espinoza', 'espn', 'esposa', 'esque', 'esquecido', 'esqueciido', 'essa', 'essay', 'esse', 'essential', 'essentials', 'essentielle', 'esses', 'est', 'esta', 'estado', 'estados', 'estamos', 'estar', 'estara', 'estare', 'estas', 'estate', 'estava', 'este', 'estes', 'estilo', 'esto', 'estooos', 'estos', 'estou', 'estoy', 'estrenando', 'estudia', 'estudiar', 'estudio', 'estupides', 'esvt', 'esxi', 'esyvj', 'et', 'eta', 'etbab', 'etc', 'etgyjez', 'etha', 'ethernet', 'ethical', 'ethiopian', 'etre', 'etsamos', 'ettu', 'eturbonews', 'eturbonewsitb', 'etwa', 'eu', 'eudwsad', 'eupphd', 'eurekastartups', 'eurir', 'euro', 'europa', 'europe', 'european', 'europeansp', 'euw', 'eux', 'eva', 'evacuation', 'evaluatie', 'evangelist', 'evans', 'evc', 'evelinehorbach', 'evelynjullyanne', 'even', 'evenement', 'evening', 'evenings', 'evenpro', 'event', 'evento', 'eventos', 'events', 'ever', 'everettcoldwell', 'evernote', 'everson', 'every', 'everybody', 'everyday', 'everyone', 'everyoneisacritic', 'everyones', 'everything', 'everytime', 'everywhere', 'evidence', 'evil', 'evilla', 'evitl', 'evjih', 'evkkea', 'evo', 'evolution', 'evolutionofit', 'evoluzione', 'evolved', 'evolvetech', 'evrope', 'evtj', 'ewfffl', 'ex', 'exact', 'exactly', 'exam', 'examenes', 'examine', 'example', 'exams', 'exbnqjy', 'exbyurkl', 'excel', 'excelente', 'excellent', 'except', 'exception', 'excerpt', 'exchange', 'exchg', 'excited', 'exciting', 'exclaims', 'excludes', 'excluir', 'exclusive', 'exclusivo', 'excnswwx', 'excuse', 'excuseme', 'exec', 'executive', 'executives', 'exercise', 'exhibit', 'existe', 'existenciales', 'existes', 'existir', 'exists', 'exkv', 'exorcist', 'exp', 'expande', 'expanded', 'expands', 'expect', 'expectaci', 'expectations', 'expected', 'expensive', 'expensivepaperweight', 'experience', 'experiences', 'experiencia', 'experiment', 'experimento', 'expert', 'experts', 'explain', 'explained', 'explaining', 'explains', 'explica', 'explicar', 'explicarme', 'explique', 'exploded', 'exploits', 'explorador', 'explored', 'explorer', 'expos', 'exposed', 'expresar', 'express', 'extend', 'extended', 'extends', 'extensible', 'extensivity', 'extent', 'extienden', 'extra', 'extran', 'extreme', 'extremejohn', 'extremes', 'extremetech', 'extremists', 'ey', 'eye', 'eyed', 'eyelash', 'eyelid', 'eyes', 'eyhmhstm', 'eylm', 'eylvacyn', 'eytmczj', 'eyxcqqmk', 'ez', 'ezbtvm', 'ezjczlt', 'ezqlmq', 'fab', 'fabi', 'fabiano', 'fabrciocamargo', 'fabricante', 'fabricantes', 'fabuloso', 'fac', 'face', 'facebook', 'facebookoff', 'facebookposts', 'facebooku', 'faceboook', 'facetime', 'faceunlock', 'facewbook', 'facial', 'faciale', 'facialunlock', 'facil', 'fact', 'factories', 'factors', 'factory', 'facts', 'factsandtools', 'faculty', 'fad', 'fade', 'fadenkreuz', 'fail', 'failed', 'failing', 'failinth', 'fails', 'failstevejobs', 'failure', 'failures', 'fair', 'faire', 'fairview', 'faisant', 'fait', 'faites', 'faith', 'faithmcnally', 'fake', 'fakin', 'fala', 'falando', 'falar', 'falen', 'fall', 'fallar', 'fallas', 'fallen', 'falling', 'falloir', 'false', 'falta', 'faltaria', 'fam', 'familia', 'family', 'famosa', 'famosos', 'famous', 'fan', 'fanatics', 'fanatlarinin', 'fanboy', 'fanboys', 'fancy', 'fans', 'fansoflilwayne', 'fanste', 'fantastic', 'fantasy', 'far', 'farberware', 'farha', 'faria', 'faris', 'farreal', 'farrell', 'fashion', 'fashionnoguilt', 'fasqid', 'fast', 'fastcompany', 'faster', 'fat', 'fata', 'fatboyfresh', 'fatfuckingchance', 'fato', 'fattest', 'faudrai', 'fault', 'faults', 'faulty', 'fav', 'favor', 'favoring', 'favoritas', 'favorite', 'favorito', 'fawkin', 'fazem', 'fazendo', 'fazer', 'fazia', 'fb', 'fbdw', 'fbeid', 'fbf', 'fbjqb', 'fboej', 'fboff', 'fbog', 'fbroz', 'fbvzq', 'fc', 'fcbk', 'fck', 'fcknjane', 'fcpbcqlo', 'fcucks', 'fcwus', 'fcwxoud', 'fcxdu', 'fd', 'fdihf', 'fdp', 'fdruel', 'fe', 'feat', 'feature', 'featured', 'features', 'featuring', 'feb', 'fechar', 'fecm', 'fed', 'federal', 'feds', 'feed', 'feedback', 'feeding', 'feeel', 'feel', 'feeling', 'feelings', 'feels', 'feet', 'fego', 'fehi', 'fehler', 'feiert', 'feios', 'feira', 'felices', 'felicitaciones', 'feliz', 'fell', 'fellow', 'fellows', 'felt', 'female', 'femme', 'fen', 'feo', 'ferchowii', 'ferisykes', 'fermeture', 'ferranti', 'festinha', 'feu', 'fev', 'few', 'fez', 'ff', 'ffd', 'ffj', 'ffnen', 'ffxe', 'fg', 'fgbcxytp', 'fgc', 'fgq', 'fgwwgs', 'fh', 'fhus', 'fi', 'fic', 'fica', 'ficaa', 'ficando', 'ficar', 'fichier', 'fico', 'ficou', 'fiction', 'fiercecio', 'fiercewireless', 'figgured', 'fight', 'figure', 'figured', 'figures', 'fiica', 'fiioapkt', 'fiiss', 'fijn', 'fika', 'fila', 'file', 'files', 'fileserver', 'film', 'filme', 'films', 'filos', 'filters', 'filtra', 'fin', 'final', 'finale', 'finalises', 'finally', 'finallycool', 'finalmente', 'finance', 'financial', 'financian', 'financieel', 'financiero', 'find', 'fine', 'finest', 'finger', 'fingers', 'fingerscrossed', 'finish', 'finita', 'finland', 'finna', 'finpanther', 'fip', 'fired', 'firefox', 'firewire', 'firma', 'firms', 'firmware', 'first', 'firstworldproblems', 'fiscal', 'fishmama', 'fisica', 'fit', 'fitenr', 'fiti', 'fitotorresm', 'fits', 'five', 'fiwdhcc', 'fix', 'fixation', 'fixed', 'fixes', 'fixing', 'fixit', 'fiz', 'fizesse', 'fizzy', 'fj', 'fjg', 'fkd', 'fkrucqis', 'fl', 'flash', 'flashcard', 'flat', 'flattery', 'flaviasansi', 'flawless', 'fleet', 'fleurs', 'flexibilidad', 'flight', 'flink', 'flinke', 'flip', 'flipando', 'flipbooks', 'flirting', 'fllkge', 'flllws', 'flojera', 'flojo', 'flood', 'flora', 'floridamike', 'flowers', 'flu', 'flv', 'fm', 'fmanjoo', 'fmeah', 'fmjxtmm', 'fml', 'fmlopez', 'fmrd', 'fmzfwgyv', 'fn', 'fnbknwmj', 'fnfp', 'fnkbw', 'fnpio', 'fo', 'focus', 'foda', 'fode', 'foi', 'foii', 'fold', 'folder', 'folders', 'folks', 'follow', 'followback', 'followdaibosyu', 'followed', 'followees', 'follower', 'followers', 'followfriday', 'following', 'followlimitisgay', 'followme', 'followmejp', 'follownow', 'follows', 'fome', 'fonction', 'fondo', 'fone', 'fono', 'fonos', 'font', 'fooda', 'foodie', 'foolish', 'foon', 'football', 'for', 'forbes', 'force', 'forced', 'forces', 'ford', 'fordert', 'forever', 'foreveralone', 'foreverfit', 'forex', 'forget', 'forgettin', 'forgetting', 'forgive', 'forgot', 'forgotten', 'forimmedi', 'form', 'forma', 'formaci', 'formalidad', 'formas', 'format', 'formateate', 'formatos', 'forme', 'former', 'forms', 'forschungsumfeld', 'forstall', 'forsure', 'forte', 'fortfarande', 'forth', 'fortunately', 'forum', 'forward', 'fosse', 'fota', 'foto', 'fotografia', 'fotos', 'fotostream', 'found', 'foundation', 'founder', 'foundersfund', 'four', 'foursquare', 'fox', 'fpq', 'fpv', 'fpvkn', 'fqakyr', 'fqbfdiye', 'fqlhyaat', 'fqs', 'fqspn', 'fqya', 'fr', 'frame', 'framework', 'fran', 'france', 'franchement', 'francisco', 'frank', 'frankhenchusa', 'frase', 'frases', 'freakbull', 'freaked', 'freaking', 'freaks', 'fredbenenson', 'free', 'freedom', 'freega', 'freelance', 'freelancer', 'freesoftwarefoundation', 'freestyle', 'freeze', 'freezes', 'freezing', 'fregon', 'fregues', 'french', 'frente', 'frequently', 'fresh', 'freshened', 'fri', 'fried', 'friend', 'friendliness', 'friends', 'friendship', 'friggin', 'fringe', 'frio', 'frizzy', 'frlk', 'frm', 'frnds', 'from', 'front', 'frontpage', 'frown', 'froze', 'frozen', 'fruit', 'fruits', 'frustrated', 'frustration', 'frutas', 'fs', 'fsf', 'fslfpmob', 'fspd', 'ft', 'ftieng', 'ftii', 'ftl', 'ftlttlpn', 'ftlv', 'ftskunden', 'fttank', 'fttdde', 'ftw', 'fu', 'fuck', 'fucka', 'fucked', 'fucker', 'fuckin', 'fucking', 'fuckingpissed', 'fuckingshinez', 'fuckinup', 'fucknwithfatty', 'fucks', 'fucktec', 'fuckyoumean', 'fud', 'fue', 'fuel', 'fuera', 'fueron', 'fuh', 'fui', 'fuieskecido', 'ful', 'full', 'fullscreen', 'fully', 'fulminate', 'fun', 'funciona', 'funcionalidad', 'funcionan', 'funcionar', 'funcionou', 'function', 'functionality', 'functioning', 'functions', 'fundando', 'fundingroadmap', 'fundo', 'funds', 'fung', 'funkci', 'funkfish', 'funktion', 'funniest', 'funny', 'funnyyyyyyy', 'funziona', 'funzioni', 'furniture', 'future', 'futuriste', 'futuristic', 'futurking', 'futuro', 'fuzzball', 'fv', 'fvcpd', 'fvku', 'fvu', 'fvygu', 'fvynow', 'fvz', 'fw', 'fwdallie', 'fwm', 'fwu', 'fx', 'fxbrysgk', 'fxck', 'fxd', 'fxhomehitfilm', 'fxjk', 'fxjyozev', 'fxqxdqb', 'fxt', 'fy', 'fyia', 'fytcyeg', 'fyw', 'fyyiimix', 'fz', 'fzem', 'fzjd', 'fzsh', 'ga', 'gaabisfc', 'gaaf', 'gaan', 'gaat', 'gabby', 'gabemoormanlaw', 'gabriel', 'gadget', 'gadgeteer', 'gadgetlab', 'gadgets', 'gaelduhamel', 'gaga', 'gah', 'gain', 'gajsgi', 'galaxy', 'galaxynexus', 'galaxys', 'galaxysii', 'galera', 'galeraa', 'galerie', 'gallen', 'gallery', 'galuhoktriana', 'game', 'gamecenter', 'gamefly', 'gamer', 'gamerchik', 'gamers', 'games', 'gaming', 'gamit', 'gana', 'ganamos', 'ganando', 'ganaron', 'ganas', 'ganda', 'ganna', 'ganun', 'ganux', 'ganz', 'gapeyl', 'gaq', 'garant', 'garantie', 'garbage', 'garden', 'garmin', 'garner', 'garotanachuva', 'garr', 'gartner', 'gartnersym', 'gastes', 'gasto', 'gate', 'gates', 'gateways', 'gato', 'gatos', 'gattenist', 'gave', 'gay', 'gazette', 'gazmaz', 'gb', 'gbar', 'gbkv', 'gc', 'gcicpex', 'gcrpukwf', 'gcy', 'gd', 'gdapps', 'gdbuyk', 'gdcurry', 'gdetlxsn', 'gdwlnnm', 'ge', 'gear', 'geayt', 'gebied', 'gebruik', 'gebruikers', 'gee', 'geecloud', 'geeft', 'geek', 'geekfact', 'geekosystem', 'geeks', 'geekwire', 'geevb', 'gef', 'gefelicteerd', 'gefunden', 'gegen', 'gehabt', 'gehackte', 'gehad', 'geholpen', 'geht', 'gejat', 'geld', 'gelece', 'geleerd', 'gelijk', 'geliyoruz', 'gelungen', 'gem', 'gemaakt', 'gemini', 'gemist', 'gems', 'gen', 'genau', 'genera', 'generaci', 'generador', 'general', 'generate', 'generation', 'generations', 'generator', 'geni', 'genial', 'genio', 'genius', 'geniusbar', 'genoeg', 'gent', 'gente', 'genteeee', 'gentem', 'gentle', 'genuine', 'genyen', 'geo', 'geographic', 'geographictarget', 'geolocation', 'geoloco', 'geovannyacaro', 'gepresenteerd', 'geqy', 'ger', 'gera', 'gerade', 'geral', 'gerardopaolillo', 'german', 'gernijkamp', 'gesch', 'gesponsord', 'gesti', 'gestion', 'gesture', 'gestures', 'get', 'getaclue', 'getglue', 'getitdone', 'getmorefacebookfanpagelikes', 'getn', 'gets', 'getsamanthaofftwittereveryone', 'gettare', 'gettin', 'getting', 'gevecht', 'geven', 'geweigerd', 'geweldig', 'gezien', 'gf', 'gfeller', 'gfi', 'gforbz', 'gfs', 'gfyji', 'gg', 'ggbyvvu', 'ggen', 'gglwtslt', 'ggpb', 'gh', 'ghb', 'ghbl', 'ghbzfbx', 'ghcez', 'ghost', 'ghpcgcpx', 'ghpdqalt', 'gi', 'giant', 'giants', 'gibt', 'gica', 'gicas', 'gico', 'gicos', 'gift', 'gifts', 'gigaom', 'gigo', 'gigs', 'gihtheij', 'gihypzwo', 'giiz', 'gimmie', 'gina', 'ginas', 'ginbvlsk', 'gingerbread', 'gingrich', 'ginza', 'gio', 'giorno', 'giovanettinico', 'gique', 'girl', 'girlfriend', 'girlies', 'girls', 'gisteren', 'gitex', 'giu', 'giuchavez', 'giuliano', 'giuseppepietta', 'give', 'giveaway', 'gives', 'givin', 'giving', 'gizmo', 'gizmodo', 'gizmolog', 'gj', 'gjdijkman', 'gjiu', 'gjqvewn', 'gk', 'gklxmui', 'gkohbpn', 'gks', 'gkumaran', 'gl', 'glaad', 'glad', 'glaralopez', 'glass', 'glasvezel', 'glaube', 'glcjzqxg', 'glee', 'glendale', 'glissi', 'glitch', 'glluqitj', 'gloaxhle', 'global', 'globale', 'globally', 'globe', 'glorified', 'glorifier', 'glte', 'glutus', 'glyzoxmc', 'gm', 'gmail', 'gmbh', 'gmic', 'gms', 'gmsgxcq', 'gmt', 'gmusic', 'gn', 'gncdgqsc', 'gnsowmu', 'gnu', 'gnutta', 'gnwt', 'gny', 'go', 'goalset', 'gobierno', 'god', 'godbless', 'gods', 'goed', 'goede', 'goedegebuure', 'goen', 'goes', 'gogogo', 'goin', 'going', 'goirk', 'gold', 'golf', 'golfer', 'golpe', 'gome', 'gomez', 'gon', 'gona', 'gone', 'gonna', 'goo', 'good', 'goodbye', 'goodmorning', 'goodmourning', 'goodnews', 'goodnight', 'goodnightpeople', 'goodnightworld', 'goodnite', 'goodnitee', 'goodriddance', 'goods', 'goodsamarit', 'goodsamaritanswag', 'goodtoknow', 'goodwill', 'goof', 'goog', 'googland', 'google', 'googleapps', 'googlechrome', 'googled', 'googledocs', 'googledownunder', 'googlemusic', 'googlenews', 'googlenexus', 'googlepanda', 'googlephone', 'googleplus', 'googlepresentations', 'googleresearch', 'googles', 'googlesearch', 'googlesocialmedia', 'googletoolbar', 'googleventures', 'googlewatchblog', 'googling', 'gooodnight', 'goose', 'gop', 'goqgjvvb', 'gordf', 'gorgeous', 'gorinchem', 'gosocial', 'gosta', 'gostando', 'gostei', 'got', 'gotcha', 'gotta', 'gotten', 'gottes', 'gouden', 'gov', 'governance', 'government', 'governor', 'govhs', 'gowhitedawg', 'goy', 'goz', 'gozu', 'gp', 'gpb', 'gplus', 'gpo', 'gps', 'gpt', 'gq', 'gqihdces', 'gqqyqbag', 'gqxbjo', 'gr', 'gra', 'graacias', 'grab', 'grabs', 'gracias', 'grad', 'grahamgoingham', 'gran', 'grandes', 'grandiosa', 'grandioso', 'grandma', 'granting', 'grantthornton', 'grantthorntonnl', 'graphic', 'graphicsworkstation', 'grasiias', 'grass', 'gration', 'gratis', 'grattis', 'gratuito', 'grava', 'grave', 'graxiias', 'gray', 'grazie', 'grazitti', 'grde', 'greader', 'great', 'greater', 'greatly', 'greatsuccess', 'greedy', 'green', 'greenbiz', 'greener', 'greenest', 'greenpower', 'greenrankings', 'greenwich', 'gregulator', 'gretcheneclark', 'grew', 'grey', 'grg', 'grhbooar', 'grin', 'grind', 'gripmetict', 'gro', 'groeipo', 'groeit', 'groenewegbv', 'grolschveste', 'groningen', 'gros', 'gross', 'grote', 'ground', 'group', 'groupies', 'groupon', 'groupwise', 'grown', 'growth', 'growuppeterpan', 'grra', 'grrrr', 'gruber', 'grumbledook', 'grupo', 'grupotrevenque', 'gs', 'gsa', 'gscupquv', 'gscvzr', 'gsi', 'gsiphone', 'gsmarena', 'gst', 'gt', 'gtojxlhh', 'gtqdvfxo', 'gtxqz', 'gu', 'guacamaya', 'guadalajara', 'guae', 'guarantee', 'guarantees', 'guarded', 'guardian', 'guardiantech', 'gud', 'guerilla', 'guess', 'guessers', 'guests', 'guh', 'gui', 'guide', 'guig', 'guiih', 'gulp', 'gumpf', 'gun', 'gunaiiii', 'gundotra', 'gunna', 'guns', 'gup', 'guru', 'gusa', 'gusta', 'gustando', 'gustar', 'gut', 'guuuif', 'guy', 'guys', 'guysie', 'gv', 'gvbdhliu', 'gvj', 'gwgoddess', 'gwi', 'gwokoceg', 'gww', 'gx', 'gxf', 'gxqv', 'gxvkqi', 'gy', 'gyge', 'gyguyr', 'gyjlbmw', 'gyllenhaal', 'gym', 'gywqh', 'gz', 'gzmdzvle', 'gzz', 'ha', 'haah', 'haalt', 'hab', 'habe', 'haben', 'haber', 'haberleryorumlar', 'haberme', 'habian', 'habilidad', 'habitantes', 'habl', 'hablamos', 'hablar', 'habras', 'habro', 'hace', 'hacer', 'haces', 'haciendo', 'hack', 'hackeado', 'hacked', 'hackeo', 'hacker', 'hackers', 'hacks', 'had', 'haddad', 'hadoop', 'hadopi', 'haendel', 'haendelbalzora', 'hago', 'hah', 'haha', 'hahaha', 'hahahaha', 'hahahahaha', 'hahahahahaha', 'hahahahhaha', 'hahahha', 'hahahhaha', 'hail', 'hailfire', 'hain', 'hair', 'hairline', 'hairs', 'hak', 'hakim', 'half', 'hall', 'hallelujah', 'halo', 'ham', 'hammer', 'han', 'hanbell', 'hand', 'handelingen', 'handheld', 'handig', 'handle', 'handled', 'handling', 'handmatig', 'hands', 'handsets', 'handy', 'hang', 'hanging', 'hangouts', 'hannahmccall', 'hanrahan', 'happen', 'happened', 'happening', 'happens', 'happier', 'happy', 'happyplace', 'haptique', 'har', 'hard', 'harder', 'hardware', 'hardy', 'harmonix', 'harper', 'harshgandhitk', 'harvard', 'has', 'hasanga', 'hashemy', 'hashtags', 'hasn', 'hasta', 'hastama', 'hat', 'hatahet', 'hate', 'hated', 'hater', 'hates', 'hatin', 'hating', 'hatte', 'haut', 'have', 'haven', 'havin', 'having', 'hawaii', 'haxxdubbz', 'hay', 'hazi', 'hbk', 'hblodget', 'hbo', 'hbogo', 'hbvlji', 'hc', 'hcj', 'hckjxz', 'hcr', 'hcsmeu', 'hcx', 'hd', 'hdd', 'hdljwzaw', 'hdmi', 'hdqam', 'hdv', 'hdzmarin', 'he', 'head', 'headache', 'headed', 'headers', 'headings', 'headline', 'headphones', 'headquarters', 'health', 'healthcare', 'healthinformation', 'healthit', 'healthvault', 'healthy', 'hear', 'heard', 'heart', 'hearts', 'heatmeup', 'heaven', 'heavily', 'heavy', 'heb', 'hebben', 'hecha', 'hechas', 'hecho', 'hechos', 'heck', 'heco', 'hectic', 'hectoralteto', 'hectorsm', 'hedicho', 'heeft', 'hehe', 'heheh', 'hehehe', 'hehhe', 'heidiknyc', 'heimacho', 'heise', 'heiseonline', 'hej', 'hekelen', 'hell', 'hella', 'hellmuth', 'hello', 'hellonearth', 'hellyeah', 'help', 'helped', 'helpful', 'helping', 'helpme', 'helps', 'helsinki', 'helt', 'helvetica', 'heme', 'hemo', 'hemp', 'hendricks', 'hengqgqp', 'hennessynation', 'her', 'herahussain', 'here', 'hermancain', 'hermanita', 'hermy', 'hero', 'herramienta', 'herramientas', 'herrero', 'hersheytech', 'hervepierre', 'hes', 'het', 'heute', 'hey', 'hffjjv', 'hfwpbmy', 'hfzf', 'hghmpose', 'hh', 'hhamwm', 'hhcjegf', 'hhfjbbhu', 'hhkvlwfb', 'hi', 'hiarly', 'hiba', 'hibjxhvd', 'hiccups', 'hide', 'hides', 'hier', 'hierover', 'higado', 'hige', 'high', 'higher', 'highlight', 'highlights', 'highly', 'highscoolmemories', 'hightech', 'hignhutr', 'higyyavy', 'hij', 'hijqpbso', 'hijv', 'hilarious', 'hillsdale', 'him', 'hindi', 'hints', 'hinweis', 'hip', 'hipocritas', 'hipster', 'hire', 'hiring', 'hirudineajigane', 'his', 'hiso', 'hispanicbizmag', 'hispanics', 'hiss', 'hissy', 'historia', 'history', 'hit', 'hitech', 'hitler', 'hits', 'hitting', 'hix', 'hj', 'hjae', 'hk', 'hkabzb', 'hkcbc', 'hkk', 'hknk', 'hlgnvlrw', 'hlickxpv', 'hlrxf', 'hlvutyca', 'hlxjvmur', 'hlybd', 'hlz', 'hm', 'hmm', 'hmmm', 'hmmmm', 'hmo', 'hmt', 'hn', 'hnamtnzh', 'hnettu', 'hnews', 'hnrbq', 'hnrzdfk', 'hnxvwypp', 'hnzu', 'ho', 'hob', 'hocker', 'hockey', 'hoe', 'hoes', 'hofmania', 'hog', 'hogwarts', 'hoh', 'hoje', 'hojx', 'hola', 'hold', 'holdem', 'holder', 'holding', 'holiday', 'hollycash', 'holodeck', 'holodesk', 'holographic', 'home', 'homedepot', 'homeless', 'homepage', 'homies', 'honchos', 'honda', 'honeka', 'honest', 'honey', 'honeycomb', 'hong', 'hongkong', 'honor', 'honored', 'honra', 'hoo', 'hoodmemories', 'hook', 'hooked', 'hooker', 'hookup', 'hoor', 'hooray', 'hope', 'hopeful', 'hopefully', 'hopes', 'hoping', 'hoppas', 'hoqa', 'hora', 'horariodeverao', 'horas', 'horizontal', 'horrible', 'hors', 'horse', 'hospital', 'host', 'hosted', 'hoster', 'hosting', 'hot', 'hotel', 'hotmail', 'hotspots', 'hour', 'hourly', 'hours', 'house', 'household', 'housemusic', 'housewives', 'houston', 'how', 'howardmortman', 'howest', 'however', 'howl', 'howto', 'hoy', 'hoyxdbdq', 'hp', 'hpc', 'hpci', 'hpp', 'hpvirtualsystem', 'hq', 'hqkv', 'hr', 'hrkwt', 'hrllvlik', 'hrm', 'hrs', 'hrt', 'hrung', 'hs', 'hsauhsauashasuhsushauhsuashuashashuash', 'hsl', 'hsoroi', 'hss', 'ht', 'hta', 'htc', 'htjrr', 'htl', 'html', 'htputbfk', 'htt', 'http', 'https', 'huald', 'hubby', 'hublot', 'hubo', 'hubspot', 'hudl', 'hueon', 'huevo', 'huffington', 'huffpost', 'huge', 'hugo', 'huh', 'hui', 'hulu', 'human', 'humana', 'humano', 'humantrafficking', 'humble', 'humilharam', 'humor', 'humour', 'humpt', 'hungry', 'huren', 'hurry', 'hurt', 'hurting', 'hurts', 'hush', 'hut', 'hv', 'hvac', 'hvbc', 'hvh', 'hvoeip', 'hvordan', 'hvtfscxz', 'hwa', 'hwan', 'hwo', 'hwzziekk', 'hx', 'hxsalzpv', 'hxze', 'hy', 'hybrid', 'hype', 'hyper', 'hyperlink', 'hyperv', 'hypo', 'hypocritical', 'hyuriiq', 'hyvesspelletjes', 'hyxbxh', 'hz', 'hze', 'hzovqf', 'ia', 'iaa', 'iab', 'iacwr', 'iadmire', 'iae', 'iahhagxy', 'iam', 'iamderekramsay', 'iamdkt', 'iamroyaltyfresh', 'iamsrk', 'iamtinathompson', 'iancollinsuk', 'iatj', 'iba', 'ibad', 'ibertaddigital', 'ibm', 'ibmconnections', 'ibmwatson', 'ibna', 'ibobnrh', 'ibooks', 'ibwfpp', 'ic', 'ical', 'icar', 'ice', 'icecream', 'icecreamsandwhich', 'icecreamsandwich', 'icecreamsandwichandroid', 'icecreamsandwichevent', 'icecreamsandwichfail', 'icelebrates', 'icemaker', 'ich', 'ichiro', 'ici', 'icloud', 'iclould', 'icm', 'icon', 'icono', 'icons', 'icpc', 'ics', 'icsnexus', 'ict', 'icubdz', 'icurioso', 'id', 'idag', 'idc', 'idea', 'ideas', 'identica', 'identifico', 'identify', 'identity', 'idgafboutyou', 'idgnow', 'idioteces', 'idisk', 'idk', 'idoni', 'idontunderstand', 'idtheftprotect', 'ie', 'iedere', 'ieeatnr', 'iempo', 'ieppk', 'iesgo', 'ieuzen', 'if', 'ifb', 'ifkxvg', 'iflb', 'ifollowback', 'ifsao', 'ifull', 'ifxu', 'ifynest', 'ig', 'igainfollows', 'igbd', 'igen', 'igenius', 'iggyet', 'ighgic', 'igiveup', 'ignore', 'igobythenameofa', 'igohard', 'igorlilmonster', 'igq', 'igual', 'iguanahosting', 'ih', 'ihaberplus', 'ihateitwhen', 'ihateyourightnow', 'ihbogj', 'ihelpline', 'iherreros', 'ihh', 'ihkhquq', 'ihlqi', 'ihnatko', 'ihre', 'ihrem', 'ihres', 'ihs', 'ihts', 'ii', 'iihbr', 'iilxenki', 'iio', 'iiq', 'iiwdnk', 'ij', 'ijbzdvn', 'ijk', 'ijnetes', 'ijnzkfvj', 'ijustine', 'ijvupvq', 'ijwr', 'ik', 'ikaveri', 'ikn', 'ikooqdoc', 'ikuti', 'ikzim', 'il', 'ilb', 'iley', 'iljdqbpt', 'ill', 'illustrating', 'ilnouvgk', 'ilovemytats', 'iloveya', 'iloveyou', 'ilqlme', 'ilqpkez', 'ils', 'iltsm', 'ilumine', 'ilwps', 'ilygz', 'im', 'ima', 'imac', 'image', 'imagens', 'images', 'imagine', 'imaginecup', 'imagino', 'imam', 'imamac', 'imas', 'imason', 'imchokolatewhou', 'imdb', 'imdob', 'ime', 'imediasummit', 'imessage', 'imid', 'imightbewrong', 'imita', 'imitando', 'imitation', 'imjusaskin', 'imk', 'immad', 'immediate', 'imminent', 'immobile', 'immobilienbewirtschaftung', 'imo', 'impact', 'impatient', 'impersonation', 'impl', 'implant', 'implement', 'implementatie', 'implementation', 'implementing', 'implique', 'importa', 'importance', 'importancia', 'important', 'importantes', 'importantly', 'importe', 'importing', 'impossible', 'impresi', 'impresionante', 'impress', 'impressed', 'impressionado', 'impressione', 'impressionnant', 'impressions', 'impressive', 'improve', 'improvement', 'improvements', 'improves', 'impulsonegocios', 'impulsor', 'imron', 'in', 'ina', 'inanimate', 'inbox', 'inbuilt', 'inc', 'incapable', 'incase', 'incentive', 'inch', 'incl', 'inclu', 'include', 'included', 'includes', 'including', 'inclus', 'incluso', 'incomparable', 'incompatible', 'inconvenienced', 'inconvenient', 'incorrect', 'incre', 'increase', 'increasing', 'incredibile', 'incredible', 'increibles', 'incrivel', 'ind', 'indeed', 'index', 'indexed', 'india', 'indian', 'indians', 'indicadoresdegesti', 'indicar', 'indicator', 'indie', 'indique', 'indirecta', 'indirectaaas', 'indiretaa', 'indispens', 'individual', 'indo', 'industry', 'ine', 'inea', 'ineedadoctor', 'ineedthosepictures', 'ineedtoupdate', 'ineh', 'ineligene', 'inend', 'inept', 'inez', 'infamarketplace', 'infamous', 'inferno', 'infinita', 'infinite', 'infinito', 'infinitywebinar', 'influent', 'influential', 'info', 'infofail', 'infograf', 'infograhpic', 'infographic', 'inform', 'informa', 'informaci', 'information', 'informationen', 'informationweek', 'informativo', 'informazione', 'inforpath', 'infos', 'infosoft', 'infosys', 'infrastructure', 'infrastrukturl', 'infringement', 'ingeniosa', 'ingenioso', 'ingewikkeld', 'ingl', 'inhtv', 'inicial', 'iniciamos', 'iniciar', 'inicio', 'initialisms', 'initiative', 'inizia', 'injunction', 'ink', 'inkiworld', 'inldfy', 'inline', 'inna', 'inner', 'innotive', 'innov', 'innovaciones', 'innovate', 'innovati', 'innovation', 'innovations', 'innovators', 'innovazione', 'input', 'inqbcg', 'ins', 'insane', 'insanely', 'inscrava', 'inscreva', 'insecurities', 'insert', 'insertion', 'inside', 'insider', 'insight', 'insignia', 'insist', 'insolvency', 'insomnio', 'inspiration', 'inspire', 'inspired', 'inspirerende', 'inspiron', 'instagram', 'install', 'installation', 'installed', 'installent', 'installer', 'installera', 'installing', 'instanfollowbac', 'instant', 'instantann', 'instantfollowback', 'instantly', 'instead', 'instellingen', 'institut', 'institute', 'instructions', 'instruments', 'insultas', 'insurance', 'int', 'intao', 'integraci', 'integrada', 'integrar', 'integrat', 'integrate', 'integrated', 'integrates', 'integrating', 'integration', 'integrovat', 'inteiro', 'intel', 'intellectual', 'intelligence', 'intellimatch', 'intenda', 'intende', 'intended', 'intensifies', 'intent', 'intento', 'interact', 'interacting', 'interaction', 'interactive', 'interactuar', 'interconnect', 'interesado', 'interesados', 'interesante', 'interese', 'interesing', 'interessant', 'interesse', 'interest', 'interested', 'interesting', 'interestng', 'interests', 'interface', 'interfaces', 'interfase', 'interfaz', 'interference', 'interim', 'interims', 'intern', 'internal', 'internasional', 'internet', 'internetbh', 'internethighschoolofeducation', 'internode', 'interoperability', 'interrupting', 'intervals', 'intervate', 'interview', 'interviewed', 'interviewing', 'interviews', 'intervista', 'intework', 'inthequeencity', 'inthisworld', 'intikhabates', 'into', 'intraday', 'intrductie', 'intriguing', 'intro', 'introduce', 'introduced', 'introduces', 'introducing', 'introduction', 'intuitive', 'intune', 'invadi', 'invent', 'invented', 'invention', 'invento', 'inventor', 'inventory', 'invertimos', 'invested', 'investigate', 'investigating', 'investimenti', 'investment', 'investments', 'invisible', 'involved', 'io', 'iom', 'ios', 'ip', 'ipa', 'ipad', 'ipadpowerusers', 'ipads', 'ipas', 'ipda', 'ipexpo', 'iphn', 'iphome', 'iphone', 'iphoneartists', 'iphonecases', 'iphoneclub', 'iphones', 'iphonologo', 'iphoto', 'iplaw', 'ipn', 'ipo', 'ipod', 'ipods', 'ipodzombi', 'ipsos', 'ipv', 'ipvt', 'ipy', 'iq', 'iqa', 'ir', 'ira', 'irain', 'ird', 'ireallyhatewhenpeople', 'irei', 'ireton', 'irgendwie', 'iria', 'irinaalfonzo', 'irl', 'irm', 'irma', 'irmpjois', 'ironisch', 'irony', 'irrenanstalt', 'irse', 'irvine', 'irvysan', 'irwp', 'iryn', 'is', 'isa', 'isaaa', 'isabelsalazarj', 'isaiasx', 'isaidit', 'isarenas', 'isb', 'iscream', 'iscsi', 'ish', 'ishi', 'ishit', 'ishpconsult', 'ismaelitodrums', 'ismaellarosa', 'isn', 'isnst', 'isnt', 'iso', 'isorry', 'isso', 'issue', 'issues', 'ist', 'isteps', 'istoriju', 'isuck', 'isus', 'isv', 'isx', 'it', 'italianjoya', 'itasum', 'itaylor', 'itb', 'itdklrry', 'iteach', 'item', 'items', 'iteration', 'itespresso', 'itheperson', 'itiinha', 'itjustworks', 'itmedia', 'itml', 'itnews', 'ito', 'itohedz', 'itoostnederland', 'itouch', 'itpro', 'its', 'itsecurity', 'itss', 'itsthesituation', 'itstolate', 'ittraining', 'itunes', 'itunesmatch', 'itunesmusic', 'itunesstoresupport', 'itusabias', 'itweettechnews', 'iu', 'iuaa', 'iuehaiuaheiuhaeiuh', 'iui', 'ius', 'iusxjjdq', 'iuvizp', 'iuy', 'iuykwvrq', 'iv', 'ive', 'ivk', 'ivlwn', 'ivo', 'ivonne', 'ivtjkit', 'iw', 'iwaj', 'iwantanautomaticpromotion', 'iweb', 'iwehzoqx', 'ix', 'ixd', 'ixibot', 'ixquat', 'iy', 'iye', 'iyo', 'iytwizzv', 'izfssjgo', 'izh', 'izo', 'ja', 'jaan', 'jaar', 'jaccusedz', 'jackasses', 'jackdavidson', 'jacked', 'jacket', 'jackiebaaby', 'jackiestone', 'jackpot', 'jackson', 'jacob', 'jacobstanton', 'jadi', 'jadishmedia', 'jafjt', 'jag', 'jaiku', 'jail', 'jailbroke', 'jailbroken', 'jaime', 'jaja', 'jajaj', 'jajaja', 'jajajaj', 'jajajaja', 'jajajajaja', 'jajajajajaja', 'jajajajajajaj', 'jajajajajajajaj', 'jajjaa', 'jajjajaa', 'jak', 'jake', 'jakedizzlewins', 'jala', 'jaloezie', 'jalon', 'jam', 'jamaicanidler', 'james', 'jammer', 'jammers', 'jan', 'jane', 'janm', 'japan', 'japanese', 'jarjartee', 'jaroslovsky', 'jasaro', 'jate', 'jatfvfpm', 'jau', 'javascript', 'jaylastarr', 'jayscandreth', 'jb', 'jbdancingmachin', 'jblank', 'jbmsau', 'jbp', 'jbps', 'jbs', 'jbuyd', 'jcannondsd', 'jcawwrzq', 'jcbeji', 'jcjbfz', 'jcmwright', 'jcp', 'jcqpi', 'jcsantos', 'jct', 'jd', 'jdougyj', 'jdvas', 'jdvu', 'je', 'jean', 'jebo', 'jede', 'jedsinger', 'jeenzqdw', 'jeez', 'jeffbullas', 'jefferypjacobs', 'jegkwrdr', 'jeito', 'jeje', 'jejee', 'jejeje', 'jejejeeje', 'jemazuce', 'jemeyndb', 'jenniferwarters', 'jennyorwuuut', 'jenweedin', 'jeremey', 'jerkoffmore', 'jerrybrown', 'jerryfolio', 'jerytecnologias', 'jesperordrup', 'jess', 'jessecablek', 'jessnovelo', 'jessvpeterson', 'jesus', 'jet', 'jeteando', 'jets', 'jetzt', 'jeux', 'jewelry', 'jewels', 'jewelsantini', 'jewelz', 'jews', 'jf', 'jfh', 'jfsikora', 'jfska', 'jg', 'jgrobp', 'jhb', 'jhdtykcv', 'jhgldej', 'jhodemrd', 'jhon', 'jhonalexgarciaa', 'jhoodmartin', 'jhzm', 'ji', 'jicu', 'jihad', 'jij', 'jijijiji', 'jilive', 'jilldyche', 'jimmcniel', 'jimml', 'jinnhvwz', 'jiqbgghc', 'jis', 'jisuis', 'jiuci', 'jiv', 'jivkvbah', 'jizz', 'jjj', 'jjjcqdj', 'jjlc', 'jjm', 'jjp', 'jjrwivmc', 'jjuli', 'jk', 'jkgfn', 'jkotcrmb', 'jkqpwn', 'jkrzygbo', 'jkzqrno', 'jl', 'jlachance', 'jldavid', 'jlruwrf', 'jlsrgoxi', 'jlzvsr', 'jman', 'jmgp', 'jmgy', 'jmtr', 'jmyt', 'jnmnbs', 'jnrl', 'jns', 'jo', 'joannejacobs', 'job', 'jobely', 'jobs', 'jodi', 'jodiendo', 'jodmoruf', 'joe', 'joebelfiore', 'joel', 'joelburns', 'joelcardozo', 'joelplane', 'joffrey', 'joga', 'jogo', 'johanblok', 'john', 'johnnyvegas', 'johnodame', 'johnson', 'join', 'joining', 'joins', 'joint', 'jojh', 'joke', 'jokeaholic', 'jokes', 'joking', 'jokinimanol', 'jolieesharmeda', 'jolly', 'jomanerh', 'jomucrmb', 'jon', 'jonathangodin', 'jonjars', 'jonsibley', 'joplq', 'jordanomazzoni', 'jorge', 'jorgehillcoat', 'jorgetb', 'joseff', 'joselopes', 'joseph', 'josialbass', 'jou', 'jouer', 'jouit', 'joumany', 'jour', 'journ', 'journalists', 'journaux', 'jovfezrl', 'jowyang', 'jp', 'jpjpk', 'jpktm', 'jpobrien', 'jpovrpj', 'jqah', 'jqducjr', 'jqoz', 'jr', 'jrc', 'jreephnr', 'jrktq', 'jru', 'jsou', 'jsq', 'jsrvrfgk', 'jtbrownn', 'jtcm', 'jtdaca', 'jte', 'jtptl', 'jtrezza', 'ju', 'juanbatero', 'juancamilo', 'juanda', 'juanhustle', 'juani', 'juanjimenez', 'juank', 'juanpittau', 'judge', 'judgegregmathis', 'juditheva', 'juegos', 'juelaa', 'jugada', 'jugador', 'jugar', 'juger', 'jui', 'juice', 'juicio', 'juick', 'jujsbr', 'julbut', 'julia', 'julielmo', 'julioandres', 'julioeffio', 'jum', 'jump', 'jumpin', 'jumps', 'junglee', 'junk', 'junkie', 'junkyard', 'junscastro', 'juntar', 'juntos', 'juraba', 'jure', 'jus', 'just', 'justbecause', 'justice', 'justin', 'justinbieber', 'justizministerium', 'justlucky', 'justo', 'justsayin', 'justsaying', 'juventude', 'jvidt', 'jvptsfzz', 'jvqwzhkd', 'jw', 'jwk', 'jwlqvu', 'jwn', 'jwsfmqn', 'jwspetbd', 'jwu', 'jx', 'jxhfhptj', 'jxo', 'jxpuvecs', 'jxyhhfnv', 'jy', 'jyxk', 'jz', 'jzin', 'jzmvbdnm', 'jzqi', 'jzr', 'jzwofwyc', 'ka', 'kabinet', 'kaczpmyo', 'kaekaed', 'kahnfla', 'kai', 'kaifi', 'kaiu', 'kaiylw', 'kak', 'kalemurphy', 'kalezo', 'kalifornia', 'kamera', 'kami', 'kampagne', 'kan', 'kana', 'kann', 'kant', 'kantoor', 'kanvaskings', 'kanyang', 'kanye', 'kaorrkz', 'kapal', 'kapot', 'kar', 'karaoke', 'karate', 'karljuhlke', 'karo', 'karofsky', 'karsten', 'karth', 'kasama', 'kase', 'kasper', 'kasus', 'kat', 'katebetts', 'kathrynyee', 'katie', 'katieec', 'kaun', 'kayo', 'kazdem', 'kb', 'kbm', 'kbp', 'kbworks', 'kcetw', 'kcgbmwf', 'kcheese', 'kcyoungboss', 'kd', 'kdbnjyyb', 'kdhaufdl', 'kdil', 'kdqz', 'kdtd', 'ke', 'keadilan', 'kec', 'keep', 'keeping', 'keepnupwittboyd', 'keeps', 'keepsake', 'keepthedesktop', 'keine', 'keithkeller', 'keizai', 'kekelauren', 'kelkeswa', 'kelley', 'kelly', 'kellykatiucia', 'kenbellezen', 'kentisg', 'kentstoffels', 'kenya', 'kenyaopendoor', 'kept', 'ketua', 'kevin', 'key', 'keyboard', 'keyboards', 'keynote', 'keynotes', 'keynoteu', 'keypad', 'keys', 'keyword', 'keywords', 'kf', 'kfqkfgo', 'kfwq', 'kfylbmpj', 'kggph', 'kgnrbvgp', 'kgqpyr', 'kgrly', 'kgw', 'kha', 'khgp', 'khkgjm', 'khoslaventures', 'khrizjoohn', 'khsfk', 'khtdqsho', 'ki', 'kick', 'kicked', 'kickoff', 'kicks', 'kid', 'kidding', 'kids', 'kiere', 'kihs', 'kiite', 'kijk', 'kijken', 'kikitoutdur', 'kill', 'killed', 'killin', 'killing', 'kimaris', 'kimdeanmusic', 'kind', 'kinda', 'kindahow', 'kindergarten', 'kinect', 'kinext', 'king', 'kingstoncc', 'kis', 'kisesessesesesesesese', 'kiss', 'kissed', 'kissing', 'kit', 'kita', 'kix', 'kj', 'kjigyufr', 'kjkz', 'kjq', 'kjwugom', 'kk', 'kkakfsch', 'kkdup', 'kkk', 'kkkk', 'kkkkatat', 'kkkkk', 'kkkkkk', 'kkkkkkk', 'kkkkkkkkkkkkk', 'kkswpbtw', 'kkuawlc', 'kkuepmvw', 'kl', 'klant', 'klantgerich', 'klicks', 'klingelte', 'klkfh', 'klmgkh', 'klout', 'km', 'kma', 'kmf', 'kmiones', 'kmj', 'kml', 'kmorzm', 'kn', 'knapp', 'knee', 'knew', 'knicks', 'kniz', 'knmpxsw', 'kno', 'knots', 'know', 'knowing', 'known', 'knows', 'knowyourmobile', 'knrjoflf', 'knw', 'ko', 'koalis', 'kobo', 'koers', 'kofax', 'kojqre', 'komen', 'kommende', 'komplicerat', 'komprar', 'kon', 'kondigt', 'kong', 'kongres', 'konijn', 'kontrak', 'kontrolle', 'konzentration', 'koopt', 'koppel', 'korben', 'korea', 'kost', 'kostatsetsekas', 'kostenlos', 'kostenlose', 'kot', 'kozak', 'kpdla', 'kpdxwpeb', 'kph', 'kphss', 'kpis', 'kpn', 'kpo', 'kpslzjfc', 'kpz', 'kqbwwiyd', 'kqf', 'kr', 'krachtigste', 'kranen', 'krass', 'krause', 'krbp', 'kre', 'kreo', 'kriege', 'krijgen', 'krijgt', 'krish', 'kroker', 'kroz', 'ksgglndc', 'ksidd', 'ksjh', 'ksoaksopk', 'ksx', 'ktt', 'ku', 'kuafbenm', 'kuasa', 'kubkpo', 'kudos', 'kuftevy', 'kuioox', 'kumarsachi', 'kumplir', 'kumu', 'kun', 'kunden', 'kunderna', 'kunnen', 'kunt', 'kurs', 'kursed', 'kurz', 'kushkitty', 'kusi', 'kv', 'kvar', 'kvjsercj', 'kvox', 'kvstj', 'kvu', 'kwfpth', 'kwijt', 'kwjiy', 'kwmq', 'kxboqskj', 'kxiz', 'ky', 'kygovb', 'kyhf', 'kyliemessier', 'kylisinatl', 'kymbersanden', 'kys', 'kyxunp', 'kz', 'kzb', 'kzmzdxme', 'kzupb', 'la', 'laa', 'laaficion', 'laah', 'laat', 'laatste', 'lab', 'labi', 'labores', 'labs', 'lachmomentje', 'lack', 'lacks', 'ladies', 'lado', 'lady', 'ladycamia', 'lag', 'lagazettefr', 'lager', 'laggin', 'lagi', 'laid', 'lais', 'laisser', 'laiswhisky', 'lakdbyot', 'lakers', 'lalibrebe', 'lalyloka', 'lame', 'lamontagne', 'lampert', 'lan', 'land', 'landing', 'landscape', 'lang', 'langsame', 'langt', 'language', 'languages', 'lanka', 'lanoire', 'lanserar', 'lanza', 'lanzamiento', 'lanzan', 'lanzar', 'lanzara', 'lapse', 'laptop', 'laptopwebcam', 'lares', 'larga', 'largo', 'lari', 'larrymagid', 'las', 'laser', 'lasn', 'lassen', 'last', 'lasted', 'latc', 'late', 'later', 'latest', 'latina', 'latinoam', 'latiola', 'latter', 'laugh', 'laughable', 'laughs', 'launch', 'launched', 'launches', 'launchfail', 'launching', 'laundering', 'laurentalbaret', 'lavoy', 'law', 'laws', 'lawschool', 'lawsuit', 'lawsuits', 'lawyers', 'lay', 'laying', 'layout', 'layouts', 'lays', 'lazy', 'lb', 'lbarn', 'lbjuq', 'lbn', 'lc', 'lcashdol', 'lcbqk', 'lchmgd', 'lcmediahouse', 'lcrww', 'lctpxhf', 'lcuvlvad', 'lcxa', 'lcznpdhr', 'ld', 'ldavdnj', 'ldhdvewx', 'lds', 'le', 'lea', 'lead', 'leader', 'leadership', 'leading', 'league', 'leahjanell', 'leak', 'leaked', 'lean', 'leaning', 'leap', 'learmonth', 'learn', 'learned', 'learning', 'learnings', 'leasing', 'least', 'leave', 'leaves', 'leaving', 'leawood', 'leben', 'leccionesparalavida', 'lecko', 'lectionner', 'lecture', 'led', 'ledakan', 'lee', 'leemos', 'leer', 'leerlos', 'leerzame', 'lees', 'left', 'leg', 'legacy', 'legado', 'legal', 'legiondachosen', 'legooo', 'lehki', 'lehmans', 'leia', 'leiboaz', 'leiderschap', 'leiev', 'leitet', 'lekkere', 'leland', 'lembrado', 'lemme', 'lenbro', 'lennydubz', 'lenox', 'lentess', 'leolaporte', 'leopard', 'les', 'leslie', 'lesplaats', 'less', 'lesson', 'lessons', 'let', 'letdown', 'letme', 'lets', 'letter', 'letting', 'letty', 'leuk', 'leuke', 'leuker', 'levels', 'levererar', 'levine', 'leviti', 'lewray', 'lf', 'lficl', 'lfls', 'lfppk', 'lfxtqivr', 'lg', 'lgfw', 'lgtx', 'lh', 'lhjpr', 'lhu', 'li', 'liberou', 'libraries', 'librero', 'libro', 'libros', 'licences', 'license', 'licensing', 'licentie', 'licenties', 'licia', 'lico', 'lie', 'lied', 'lien', 'lies', 'lieuxpublics', 'life', 'lifecam', 'lifecycle', 'lifted', 'liga', 'ligar', 'light', 'lightbulb', 'lightly', 'lightning', 'lightswitch', 'ligne', 'lignes', 'liien', 'lijkt', 'lik', 'like', 'liked', 'likely', 'likes', 'liking', 'lil', 'limit', 'limited', 'limites', 'limitless', 'limpia', 'linas', 'lincoln', 'lind', 'linda', 'lindo', 'lindos', 'line', 'lined', 'lines', 'link', 'linkbuilding', 'linkedin', 'linking', 'links', 'linq', 'lints', 'linux', 'lion', 'lique', 'lis', 'lisa', 'list', 'listas', 'listed', 'listen', 'listening', 'lister', 'listing', 'listo', 'lite', 'liten', 'literally', 'little', 'live', 'liveblog', 'lives', 'livestream', 'living', 'livre', 'livro', 'liwv', 'lizpope', 'lj', 'ljin', 'ljlc', 'ljpgvzjt', 'lk', 'lkjhqrnr', 'lkm', 'lkqu', 'll', 'llama', 'llamado', 'llamo', 'lleg', 'llega', 'llegado', 'llegar', 'llegaste', 'llego', 'llegue', 'llet', 'lleva', 'llevar', 'llevo', 'llixbzev', 'lljpgm', 'lll', 'lllf', 'llmmyg', 'llrspuo', 'lls', 'llslrxfm', 'llssss', 'llt', 'lm', 'lmao', 'lmaoo', 'lmbrsc', 'lmfao', 'lmhzj', 'lmotn', 'lmpicjk', 'lms', 'ln', 'lnegf', 'lnijc', 'lnmmiwaz', 'lnq', 'lnt', 'lo', 'load', 'loads', 'loathe', 'lobby', 'local', 'localjoost', 'locamente', 'locate', 'located', 'location', 'locd', 'lock', 'locked', 'locks', 'lockscreen', 'loco', 'loenm', 'loezayee', 'loezx', 'lofb', 'log', 'logged', 'logging', 'logic', 'logicx', 'login', 'logitech', 'logo', 'logoninjas', 'logos', 'logosbr', 'logre', 'loin', 'loja', 'lol', 'lolol', 'lolopb', 'lolz', 'lombok', 'lompe', 'lonczc', 'london', 'lonely', 'long', 'longer', 'look', 'lookin', 'looking', 'lookitup', 'lookout', 'looks', 'lookup', 'lool', 'looong', 'loop', 'loose', 'lopen', 'lord', 'lords', 'lorenbsas', 'loriboolive', 'lorpan', 'los', 'lose', 'losers', 'loses', 'losiento', 'losing', 'loss', 'lost', 'lostasamothafucka', 'lot', 'lots', 'loud', 'loup', 'lovatics', 'love', 'loveable', 'loved', 'lovee', 'loveguru', 'loveisthe', 'lovely', 'lovemyiphone', 'lovers', 'loves', 'lovethem', 'loveu', 'lovin', 'loving', 'low', 'lowdown', 'lower', 'loyalty', 'loyaltyfamu', 'lp', 'lpb', 'lpfcth', 'lpycs', 'lqjuq', 'lqm', 'lqpqf', 'lr', 'lrut', 'lsftp', 'lsoee', 'lt', 'ltcartoon', 'ltig', 'ltima', 'ltimo', 'ltimos', 'ltkyp', 'ltrc', 'ltwqvysf', 'ltws', 'lu', 'lucas', 'lucasblack', 'luceromexico', 'lucha', 'lucinda', 'lucindadouglas', 'luck', 'lucky', 'lucrative', 'luego', 'lugar', 'lugv', 'luhhcavalcante', 'lui', 'luis', 'luisfitq', 'luisrodrigogali', 'lukerussell', 'lunch', 'lunched', 'lupcfho', 'lure', 'luz', 'luzern', 'lvffdcel', 'lvpbk', 'lvzjnrps', 'lw', 'lwflxasl', 'lwjp', 'lwtpxejo', 'lwuys', 'lwwxy', 'lxq', 'ly', 'lync', 'lyonpat', 'lys', 'lyu', 'lzde', 'lzjmtgq', 'lzlus', 'lzy', 'ma', 'maaal', 'maagiina', 'maais', 'maak', 'maakt', 'maar', 'mac', 'macbook', 'macbookpro', 'macbreak', 'macdej', 'machado', 'machine', 'macht', 'macintosh', 'mack', 'maclife', 'macneo', 'macos', 'macosc', 'macro', 'mactard', 'macworld', 'mad', 'maddening', 'maddox', 'made', 'madmqpc', 'madness', 'madruga', 'madrugada', 'madrugo', 'madtruckman', 'maestro', 'maffer', 'maffkilleritta', 'magazine', 'magazines', 'maggadget', 'maggiore', 'maghjzc', 'maghjzcs', 'magic', 'magical', 'magically', 'magix', 'magliette', 'mago', 'mahfudz', 'mahimakurra', 'maicillo', 'mail', 'mailapple', 'main', 'maine', 'mainey', 'mainly', 'maintenance', 'maintenant', 'maioria', 'mais', 'maison', 'majeeee', 'majo', 'major', 'majorfail', 'majufedz', 'makar', 'make', 'makemeproud', 'makes', 'makesnomovetogetupfromcomputer', 'makethatlink', 'makeup', 'making', 'mal', 'mala', 'malaysia', 'maldi', 'maldito', 'mali', 'malia', 'malie', 'malisimo', 'mall', 'malone', 'malware', 'mam', 'mama', 'mamachy', 'mami', 'man', 'manage', 'managed', 'management', 'manager', 'managerin', 'managers', 'mand', 'manda', 'mandamientos', 'mandar', 'mandarin', 'mande', 'mandou', 'mane', 'manejar', 'manelfmartinez', 'manerds', 'manes', 'mango', 'manhole', 'mania', 'manipulate', 'mann', 'manny', 'mannymarroquin', 'mano', 'mansion', 'manso', 'manual', 'manually', 'manwitpurpose', 'many', 'manz', 'maomeno', 'maoqaplh', 'map', 'maps', 'mar', 'mara', 'marbelle', 'marca', 'marcdaley', 'marcelomendes', 'marcfletcher', 'march', 'marcmonster', 'marcoagnoli', 'marcoarment', 'mari', 'marie', 'marijuana', 'mariomussolini', 'mariospr', 'mark', 'markcullum', 'markeenn', 'market', 'marketeer', 'marketer', 'marketers', 'marketing', 'marketplace', 'markets', 'marketwat', 'markrussinovich', 'marks', 'markstuver', 'markt', 'marlorific', 'maroc', 'marqu', 'marre', 'marroquin', 'mart', 'martes', 'martesviajero', 'marthaubaque', 'martijnkoster', 'martin', 'mary', 'maryland', 'mas', 'mashable', 'mashbusiness', 'masih', 'masividad', 'masivo', 'massconfusion', 'massive', 'master', 'mat', 'matanya', 'matar', 'mataron', 'match', 'matching', 'matchpoint', 'mater', 'matheus', 'matheusdcb', 'matter', 'matters', 'matthewgphy', 'mattimooz', 'mattmarcheski', 'mattsloyer', 'mattyriesz', 'matudelatower', 'maurogarcia', 'mauvaise', 'maven', 'maximize', 'maxpowertoloza', 'may', 'maya', 'mayaraangelica', 'mayati', 'maybe', 'mayne', 'mayor', 'mayra', 'maytag', 'mb', 'mbbzzgor', 'mbl', 'mbnhihek', 'mbp', 'mcafee', 'mcala', 'mcastanedac', 'mcbride', 'mccready', 'mchammer', 'mcitp', 'mcjponv', 'mckellip', 'mcom', 'mcommerce', 'mcp', 'mcse', 'mctsummitna', 'mcw', 'mcz', 'md', 'mdd', 'mdhughes', 'mdqhb', 'mdr', 'me', 'mean', 'means', 'meant', 'measure', 'mecha', 'mechanische', 'med', 'medi', 'media', 'mediagofer', 'mediatip', 'medical', 'medidtation', 'medio', 'mee', 'meego', 'meekly', 'meer', 'meesmoo', 'meest', 'meet', 'meeting', 'mega', 'meghankel', 'meh', 'mehr', 'mehrere', 'meilleur', 'meilleurs', 'mein', 'meiner', 'meinung', 'mejor', 'mejora', 'mejorar', 'mejorarlo', 'mejores', 'meko', 'melaleucathewellnesscompany', 'melbourne', 'meledak', 'melepas', 'melhor', 'melhorias', 'melkhdb', 'melkoff', 'mellee', 'mellon', 'melo', 'melodybtcc', 'melted', 'melts', 'member', 'memora', 'memorial', 'memories', 'memory', 'memos', 'men', 'mena', 'menahan', 'menangis', 'mencionan', 'menciones', 'menciono', 'mendorong', 'menes', 'mengaku', 'menm', 'meno', 'menos', 'mensagens', 'mensajes', 'menso', 'ment', 'menteri', 'mention', 'mentioned', 'mentions', 'mentor', 'menu', 'menuda', 'mer', 'mercado', 'mercato', 'merchandising', 'merci', 'mercy', 'merda', 'merece', 'merecen', 'meresmikan', 'merge', 'merii', 'merk', 'mes', 'meses', 'mesh', 'mesmo', 'mess', 'message', 'messagerie', 'messages', 'messaging', 'messed', 'messy', 'met', 'meta', 'metacon', 'metade', 'metalogix', 'metamoforse', 'metan', 'meteen', 'methinks', 'method', 'metiendo', 'metio', 'meto', 'metro', 'mettre', 'meu', 'meus', 'mevalehuevo', 'mexer', 'mexico', 'mezbzv', 'mf', 'mfbse', 'mfgquzku', 'mg', 'mgmnt', 'mgn', 'mhhvg', 'mhoczuim', 'mhpu', 'mhu', 'mhumpolec', 'mi', 'mia', 'miam', 'miami', 'mic', 'mica', 'micas', 'mich', 'michael', 'michaeljacksonqui', 'michaeljakcsonqui', 'michaelkroker', 'michaelmark', 'michelenlared', 'michigan', 'michiganders', 'mickey', 'mickh', 'mico', 'micr', 'microso', 'microsof', 'microsoft', 'microsoftaiuta', 'microsoftfrance', 'microsofthelps', 'microsoftlatam', 'microsoftsrbija', 'microsoftstores', 'microsofttag', 'middle', 'midia', 'midnight', 'mientras', 'mierda', 'mieux', 'might', 'mightily', 'mighty', 'migliorato', 'mignonmc', 'migrar', 'migrate', 'migrating', 'mii', 'miii', 'miiiiiiiiiiiiiiira', 'miim', 'miis', 'mij', 'mijn', 'mike', 'mikedunn', 'mikeferri', 'mikemccready', 'mikeshat', 'mikeshatzkin', 'mil', 'milano', 'milatus', 'milena', 'milestone', 'miley', 'mileycyrus', 'milh', 'miliardi', 'milioni', 'milky', 'mill', 'millenia', 'milli', 'million', 'milliondollapd', 'millions', 'millones', 'mim', 'mimecastsa', 'mimgwgwo', 'mimir', 'min', 'mind', 'mindfulness', 'mindphucked', 'minds', 'mindshare', 'mindtree', 'mine', 'minecraft', 'mines', 'minha', 'minhas', 'mini', 'minimo', 'minipandi', 'minis', 'ministeronline', 'ministra', 'minori', 'minority', 'mins', 'minsyu', 'minta', 'minus', 'minute', 'minuten', 'minutes', 'minutos', 'mio', 'mique', 'mir', 'mira', 'mire', 'mirroring', 'mis', 'mise', 'mises', 'misma', 'mismo', 'misread', 'miss', 'missayunnaaa', 'missed', 'misshell', 'missing', 'mission', 'misthang', 'mistry', 'mit', 'mitchjoel', 'mitte', 'mittel', 'mix', 'mixedchik', 'mixer', 'mixtape', 'mizzspicey', 'mjfw', 'mjhroa', 'mjog', 'mjyslzie', 'mk', 'mkdirecto', 'mkii', 'mknovbus', 'mkon', 'mkpjtfx', 'mkt', 'mlk', 'mlla', 'mln', 'mltawza', 'mlucia', 'mm', 'mmeant', 'mmm', 'mmmm', 'mms', 'mmurrayphoto', 'mn', 'mnamu', 'mnnerc', 'mnoo', 'mnpp', 'mnr', 'mnt', 'mo', 'mob', 'mobiel', 'mobiele', 'mobiflip', 'mobil', 'mobile', 'mobileburn', 'mobiledevice', 'mobileme', 'mobilemem', 'mobilenews', 'mobiletechworld', 'moc', 'mocks', 'moda', 'modalnho', 'mode', 'model', 'modelo', 'models', 'moderates', 'modern', 'modernfamily', 'modify', 'modre', 'moe', 'moederbedrijven', 'moeilijk', 'moet', 'mofsdffq', 'mogelijkheden', 'mohamedg', 'mohl', 'mohoisham', 'moi', 'moins', 'mole', 'moli', 'molifer', 'molle', 'molleymoody', 'mom', 'moment', 'momento', 'momentos', 'moments', 'momma', 'mommy', 'moms', 'mon', 'monaffal', 'monats', 'monday', 'mondo', 'mondragon', 'money', 'monica', 'monicaac', 'moniqueprothero', 'monitor', 'monitorar', 'monitoring', 'monitors', 'monizetru', 'monkeys', 'monopolio', 'monopolistic', 'monopoly', 'monstrueux', 'montagem', 'montaron', 'monte', 'month', 'months', 'monto', 'monton', 'montrelcox', 'monty', 'monumental', 'mood', 'mooi', 'mooie', 'mop', 'moral', 'more', 'moredigitallesshuman', 'moreno', 'morgen', 'morgenvroeg', 'morgon', 'morning', 'moroccomall', 'moron', 'morphy', 'morrow', 'morse', 'mortar', 'mosca', 'most', 'mostlikely', 'mostly', 'mostrar', 'mot', 'mothafuckin', 'mother', 'mothers', 'moto', 'motoactiv', 'motoactv', 'motocorp', 'motofail', 'motorcycle', 'motorola', 'mouche', 'mountainview', 'mourning', 'mouse', 'mousecombos', 'mouses', 'mouth', 'mov', 'move', 'movement', 'movie', 'movies', 'movil', 'movimentado', 'moving', 'mp', 'mpastrana', 'mpbzyl', 'mpeagler', 'mpn', 'mppei', 'mpromo', 'mpzoilrs', 'mq', 'mquojaaf', 'mqvk', 'mqx', 'mr', 'mrgareth', 'mrjkoxno', 'mrkt', 'mrng', 'mrrobinson', 'mrtonysays', 'mrz', 'ms', 'msamberpriley', 'msantram', 'msanywhere', 'mscariefwr', 'mscre', 'msday', 'msdn', 'msdp', 'msdynamicsspain', 'msdynerp', 'msft', 'msftdynamicserp', 'msftnews', 'msftresearch', 'msftsecresponse', 'msftstore', 'msg', 'msgjgf', 'msgs', 'mshfeqe', 'msleamichele', 'mslearning', 'msm', 'msn', 'msoetz', 'msp', 'mspartners', 'mspegypt', 'msptechday', 'msqsvmdk', 'mssinergija', 'mstapoutbarbie', 'msteched', 'mstoya', 'mswx', 'mt', 'mtdvroij', 'mtk', 'mtm', 'mtnbj', 'mts', 'mtu', 'mu', 'muahh', 'much', 'mucha', 'muchas', 'muchhh', 'muchiisiimo', 'mucho', 'muchos', 'mucr', 'mudar', 'muestra', 'mug', 'mugambi', 'mugrera', 'mugrero', 'muh', 'muhaimin', 'mui', 'muitas', 'muito', 'muj', 'mukesh', 'mukeshambani', 'mul', 'mulher', 'mulling', 'multi', 'multilang', 'multimedia', 'multimidia', 'multiple', 'multitactil', 'multitasking', 'multitenant', 'multitouch', 'mundial', 'mundo', 'murainer', 'music', 'musica', 'musicaa', 'musikgenuss', 'muskem', 'muss', 'must', 'mustfollow', 'mustread', 'mute', 'muthafucka', 'mutivos', 'muuaahhzz', 'muuwbgpn', 'muxo', 'muy', 'muycanal', 'mv', 'mvdan', 'mvdcd', 'mvli', 'mvm', 'mvp', 'mvpbuzz', 'mvqxjf', 'mvw', 'mw', 'mwashinsky', 'mwjk', 'mwlpnwtm', 'mx', 'mxha', 'my', 'mycket', 'myheart', 'myhoopdreams', 'myicskxw', 'myl', 'mylzfmrq', 'mymelange', 'mynextphone', 'myself', 'myspace', 'mztgzn', 'mzwiz', 'na', 'naah', 'naaidozen', 'naar', 'naaum', 'nach', 'nachdem', 'nachogoano', 'nacht', 'nacido', 'nacional', 'nada', 'nadabebbars', 'nadie', 'nafaexuh', 'nagekomen', 'nagoul', 'nagoya', 'nahun', 'naide', 'naj', 'najua', 'nam', 'name', 'named', 'names', 'naming', 'nand', 'nandamaulida', 'nandokanarski', 'naniriccihitch', 'nanotech', 'nansen', 'nao', 'naprosto', 'napviot', 'nas', 'nasa', 'nascarwriter', 'nascent', 'nase', 'nasqbmat', 'nasty', 'nat', 'nataliagdl', 'nataliajones', 'natalysanchezs', 'natemarozzi', 'natiigutiierrez', 'national', 'nationalgeographic', 'nationaltv', 'native', 'nattaliaalba', 'natural', 'natuuuuuuurlijk', 'naum', 'nauseous', 'nauw', 'nav', 'navegador', 'navegar', 'navigate', 'navigateur', 'navigatie', 'navigation', 'navige', 'navision', 'navteq', 'naw', 'nawwaf', 'nayarivera', 'nb', 'nba', 'nbg', 'nbp', 'nc', 'ncqrwpyb', 'ncs', 'nd', 'ndale', 'ndigt', 'ndk', 'ndo', 'ndpyfvpk', 'ndrpciy', 'nds', 'ndxcmo', 'ne', 'near', 'nearest', 'nearly', 'neat', 'necesita', 'necesitas', 'necesito', 'neck', 'ned', 'nedeniyle', 'nedraallmond', 'nee', 'neea', 'need', 'needed', 'needless', 'neednewipadguide', 'needs', 'needsomethingtoread', 'negative', 'negocio', 'negocios', 'negoohb', 'negro', 'nehra', 'neilpatelthis', 'nejbye', 'nelielu', 'nelsonfenc', 'nem', 'nemecku', 'nena', 'nenit', 'neon', 'neowin', 'neowinfeed', 'neqhcjsy', 'nerd', 'nerdboner', 'nerdiness', 'nerdverein', 'nerve', 'nervous', 'ness', 'nesse', 'nesta', 'nestorrom', 'net', 'neta', 'netapp', 'netbooks', 'netex', 'netscape', 'nette', 'netteo', 'network', 'networkin', 'networking', 'networks', 'networkspecs', 'netzprobleme', 'netzwerk', 'neue', 'neuen', 'neues', 'never', 'new', 'newbestfriends', 'newbies', 'newer', 'newest', 'newfeature', 'newgadgets', 'newly', 'newmusic', 'news', 'newsgrape', 'newsletters', 'newspaper', 'newsstand', 'newstand', 'newsticker', 'newsweek', 'newt', 'newtgingrich', 'newton', 'newyork', 'next', 'nexttime', 'nexus', 'nexusgalaxy', 'nexusprime', 'nexuss', 'nezapomenou', 'nfc', 'nfl', 'nfpvegdk', 'nfs', 'nftige', 'nfwcqd', 'nga', 'ngare', 'nged', 'ngen', 'ngert', 'nglig', 'nh', 'nhjxmcfj', 'nhuyfeh', 'ni', 'nia', 'nicaragua', 'nice', 'nicehire', 'nicholi', 'nicht', 'nick', 'nickelpoeta', 'nicki', 'nickthefnicon', 'nico', 'nicolaziady', 'nicolebanyots', 'nicolelil', 'nie', 'nielsmoelard', 'niemand', 'niemiecki', 'niet', 'niets', 'nieuw', 'nieuwe', 'nieuwsbrieven', 'nieuwste', 'nig', 'nigga', 'niggas', 'nigh', 'night', 'nightattheroxbury', 'nightmares', 'nighty', 'niiiiii', 'nike', 'nikki', 'nikkinotniki', 'nim', 'nin', 'nine', 'ninel', 'ningu', 'ninguem', 'ninguno', 'ninp', 'nintendo', 'nintex', 'nio', 'niqht', 'nirvana', 'nisksml', 'nite', 'nitee', 'nitrtzu', 'nivel', 'nj', 'njaaymp', 'njee', 'njnx', 'njthoi', 'njthu', 'nk', 'nkhuom', 'nkoxmfoi', 'nkpjgp', 'nl', 'nlcxocuz', 'nldtu', 'nlevenbrown', 'nlrldwy', 'nluug', 'nlzgi', 'nm', 'nmmedalw', 'nn', 'nnsdzgwi', 'nnvy', 'nnwatsih', 'no', 'noarchive', 'nobel', 'nobigdeal', 'nobody', 'noboner', 'nobueno', 'noceee', 'noche', 'nochees', 'noches', 'nocturn', 'nocturno', 'noentiendo', 'noesdedios', 'noez', 'nofollowed', 'nog', 'nohelp', 'noi', 'noite', 'noitte', 'noiva', 'nokia', 'nokian', 'noma', 'nomamar', 'nomames', 'nombramiento', 'nombre', 'nome', 'nomineren', 'non', 'none', 'nonimsi', 'nonstop', 'nonusatimezonel', 'noo', 'nookie', 'nooo', 'noowwwwww', 'nopatience', 'nope', 'nor', 'noreallyihearvoices', 'noreply', 'normal', 'nortel', 'northpark', 'norway', 'nos', 'nose', 'nossa', 'nostalgia', 'not', 'nota', 'notbook', 'notch', 'notcool', 'note', 'notebook', 'notebooks', 'noted', 'notes', 'notesinthecloud', 'notgoingtolast', 'nothappy', 'nothing', 'noti', 'noticed', 'noticia', 'noticias', 'notific', 'notifica', 'notificaciones', 'notification', 'notifications', 'notified', 'notifies', 'notify', 'notjustaboutthephone', 'notleifgarrett', 'notre', 'notreally', 'notresponding', 'notsosuperpro', 'nous', 'nouveau', 'nouveaut', 'nouvel', 'nouvelle', 'nov', 'nova', 'novata', 'novato', 'novatyler', 'novedad', 'novedades', 'novel', 'novelas', 'novell', 'novelty', 'november', 'novembre', 'novena', 'novia', 'novidade', 'novidades', 'noviembre', 'novinky', 'novio', 'novo', 'now', 'nowhere', 'nowicanspendevenmoretimeonmyphone', 'nowplaying', 'nowthatsbasic', 'noww', 'nowww', 'np', 'npib', 'npz', 'nqjj', 'nqm', 'nqmvktse', 'nqmxn', 'ns', 'nsaisrip', 'nshlfiux', 'nspqbzfz', 'nstalleerd', 'nt', 'ntc', 'ntchat', 'ntp', 'ntpait', 'nts', 'ntt', 'nttdocomo', 'nu', 'nuance', 'nuandroid', 'nube', 'nubes', 'nuestra', 'nuestras', 'nuestro', 'nuestros', 'nueva', 'nuevaescuela', 'nuevas', 'nuevo', 'nuevoooo', 'nuevos', 'nufdibn', 'nugget', 'nui', 'nulla', 'num', 'number', 'numbering', 'numbers', 'numero', 'numerouno', 'numm', 'nun', 'nunca', 'nuove', 'nuq', 'nur', 'nuther', 'nuts', 'nuttball', 'nvbpe', 'nvd', 'nvida', 'nvnns', 'nwi', 'nwlalddd', 'nwmbsevm', 'nworks', 'nwstmmgc', 'nx', 'nxc', 'nxdd', 'nxzt', 'ny', 'nyc', 'nyerrr', 'nyjhknou', 'nymusic', 'nyquil', 'nytimes', 'nyzg', 'nz', 'nzc', 'nzhbzzw', 'nztgu', 'nzwalj', 'nzy', 'oa', 'oalek', 'oaxaca', 'obamaphile', 'obecnie', 'oberfl', 'obinnaosobalu', 'obituaries', 'objects', 'objetivamente', 'objetivo', 'obnoxious', 'obrigado', 'obscure', 'obsess', 'obsessions', 'obsexxed', 'obsolete', 'obsoleto', 'obtenir', 'obuxexci', 'obviamente', 'obvious', 'obviously', 'obvs', 'occupy', 'occupywallst', 'occupywallstreet', 'occur', 'ocgg', 'och', 'ocljfs', 'ocrbpm', 'ocre', 'ocs', 'oct', 'october', 'octubre', 'octuuylo', 'ocurre', 'ocurriera', 'ocurrir', 'ocuupy', 'od', 'odbc', 'odd', 'oder', 'odio', 'odj', 'odo', 'odvjeqg', 'odvk', 'oe', 'oef', 'oem', 'oensvg', 'oes', 'oesqu', 'oeurmtlx', 'oexpdnot', 'oezk', 'oezn', 'of', 'ofa', 'ofensivo', 'oferecidos', 'oferta', 'ofex', 'off', 'offer', 'offering', 'offerings', 'offers', 'offertas', 'offf', 'office', 'offices', 'officesuites', 'official', 'officialis', 'officially', 'officieel', 'officiellement', 'offing', 'offiziell', 'offiziellen', 'offline', 'offtoshower', 'ofh', 'oficial', 'oficialiai', 'oficialmente', 'ofmy', 'ofpuq', 'ofrece', 'ofrecen', 'ofreciendo', 'ofteez', 'often', 'ofwy', 'ofxunqhy', 'og', 'ogalinski', 'ogdo', 'ogkayzo', 'oglika', 'ogoakrbf', 'ogs', 'ogxhe', 'oh', 'ohbevxdp', 'ohemgee', 'ohfly', 'ohio', 'ohne', 'ohnonotagain', 'ohrlq', 'ohshit', 'ohym', 'oi', 'oiett', 'oiie', 'oij', 'oimnakvf', 'oiqfwj', 'oizgnxgt', 'oja', 'ojal', 'ojctnj', 'ojo', 'ojykycfo', 'ok', 'okadestate', 'okay', 'okc', 'okcwnrpq', 'okies', 'oktober', 'oktraysu', 'okuprettybut', 'ol', 'olafiolio', 'old', 'older', 'oldivory', 'olelady', 'oles', 'olha', 'oli', 'olipalko', 'olorx', 'olsensn', 'olsun', 'olvidado', 'olvide', 'olvido', 'om', 'omap', 'omardelos', 'ombestemte', 'omdat', 'omdraaien', 'ome', 'omfg', 'omg', 'omission', 'omni', 'omnib', 'omnitouch', 'omnomnomnom', 'omu', 'omxjhzh', 'on', 'once', 'onda', 'onder', 'ondernemer', 'onderneming', 'onderzoek', 'ondxwper', 'one', 'ones', 'onez', 'onglets', 'oni', 'onl', 'online', 'only', 'onnodige', 'ons', 'ont', 'ontem', 'onthebigscreen', 'onto', 'ontvangst', 'ontving', 'onze', 'oo', 'oodugpqg', 'oof', 'ooff', 'ooh', 'ook', 'oomf', 'oooh', 'oooooooo', 'oooooops', 'oops', 'oovoo', 'oox', 'op', 'opc', 'opci', 'opcion', 'open', 'opening', 'openings', 'openletter', 'opens', 'opensource', 'opentext', 'operating', 'operation', 'operations', 'operator', 'opgenomen', 'opgeslagen', 'opini', 'opinion', 'opinions', 'opjnrxlb', 'oportunidad', 'oportuniodades', 'opportunities', 'opportunity', 'opposite', 'optimization', 'optimus', 'option', 'options', 'opy', 'oq', 'oqjrryfq', 'oqsfha', 'or', 'ora', 'oraciones', 'oracle', 'orang', 'orange', 'oranges', 'oranise', 'orbital', 'orcamera', 'orden', 'ordenadores', 'order', 'ordered', 'ordering', 'orders', 'ordg', 'oreeeen', 'org', 'organic', 'organise', 'organizations', 'organizing', 'orging', 'orientation', 'original', 'originales', 'originally', 'oriondesarrollo', 'orkc', 'orktnt', 'orkut', 'orlando', 'os', 'osama', 'osea', 'oseqht', 'oshpyv', 'osmel', 'osmi', 'osvn', 'oswefixz', 'oswu', 'osx', 'ota', 'otbwkxo', 'other', 'others', 'otherwise', 'otijlxp', 'otpgem', 'otqfw', 'otra', 'otro', 'otros', 'ottobre', 'otul', 'otvmqxj', 'ou', 'ouaaaaaaahhhhh', 'ouais', 'ouch', 'oudmwlne', 'ouf', 'ougsb', 'our', 'ours', 'out', 'outbound', 'outdated', 'outer', 'outfits', 'outil', 'outlaws', 'outlook', 'outside', 'outt', 'outta', 'outweighs', 'ouvir', 'ouzdok', 'ov', 'ova', 'over', 'overall', 'overbearing', 'overboard', 'overcapacity', 'overcomplicated', 'overeenkomst', 'overhaul', 'overview', 'overwhelmed', 'ovnm', 'ow', 'owf', 'owhyr', 'owl', 'own', 'owner', 'owners', 'ownership', 'owns', 'owqre', 'owskwpkg', 'ox', 'oxfordshire', 'oxyc', 'oxycodone', 'oy', 'oye', 'oyendo', 'oyeqr', 'oygo', 'oyszmjvi', 'oyu', 'oyvuqdq', 'ozc', 'ozkelphs', 'ozp', 'ozqy', 'pa', 'paai', 'paar', 'paatty', 'pace', 'pacientes', 'pacific', 'pack', 'packaged', 'packages', 'packard', 'packed', 'packtenterprise', 'pad', 'paddys', 'paenlann', 'pagaliau', 'pagar', 'page', 'pagerank', 'pages', 'pagina', 'paginas', 'paging', 'pai', 'paid', 'paidcontent', 'paigemorse', 'pain', 'painful', 'painfully', 'painless', 'painted', 'pais', 'pajarito', 'pajaro', 'pajas', 'pak', 'paka', 'pakt', 'pal', 'pala', 'palabras', 'palestra', 'palle', 'palm', 'palmface', 'palo', 'pamperedplay', 'pampers', 'pampershelloapps', 'pan', 'panama', 'panamericanos', 'panas', 'panasonic', 'pancan', 'pancreatic', 'panda', 'panel', 'panfletos', 'pani', 'panor', 'panorama', 'panoramas', 'panoramic', 'panoramique', 'pantalla', 'pantallas', 'pants', 'pao', 'pap', 'papa', 'papegaai', 'papel', 'paper', 'paperboy', 'papote', 'papua', 'paqueera', 'par', 'para', 'parab', 'parabens', 'parad', 'parado', 'paradoxicalmike', 'param', 'paranormal', 'parceria', 'pardus', 'pare', 'parece', 'parecen', 'parecendo', 'parecer', 'parecida', 'parecido', 'pareja', 'parents', 'parese', 'pareto', 'parfois', 'parisian', 'parivar', 'park', 'parker', 'parkour', 'parks', 'parkson', 'parkway', 'parla', 'parpol', 'part', 'partage', 'partager', 'partai', 'parte', 'parti', 'participantes', 'participated', 'participation', 'particularly', 'partido', 'partner', 'partnering', 'partnern', 'partners', 'partnership', 'partnersummit', 'parts', 'party', 'partylivefree', 'pas', 'pasa', 'pasaa', 'pasada', 'pasado', 'pasame', 'pasan', 'pasando', 'pasandosela', 'pasar', 'pasatiempo', 'pase', 'pasen', 'paso', 'pass', 'passar', 'passe', 'passed', 'passing', 'password', 'past', 'pastel', 'pastoral', 'pata', 'patearon', 'patent', 'patented', 'patenten', 'patenting', 'patentrechtszaken', 'patents', 'pathetic', 'patiently', 'patio', 'patos', 'patria', 'patricio', 'patrocinados', 'pattern', 'pau', 'paul', 'paulbentleymelb', 'paulens', 'pause', 'pav', 'pavilions', 'pavorosa', 'paxva', 'pay', 'paying', 'payme', 'payment', 'paypal', 'pb', 'pbi', 'pbndp', 'pbq', 'pbwdstmb', 'pc', 'pcam', 'pche', 'pcmag', 'pcmjon', 'pcs', 'pcu', 'pcworld', 'pcz', 'pd', 'pdbf', 'pdbvaum', 'pdf', 'pdfs', 'pdgz', 'pdrns', 'pdw', 'peace', 'pear', 'pearson', 'pede', 'peder', 'pedi', 'pedido', 'pedirle', 'pedo', 'pedos', 'pedra', 'pedraaaa', 'pee', 'peedro', 'peeler', 'peelo', 'peeps', 'peepz', 'pegarle', 'pego', 'pegou', 'pehchane', 'peinliche', 'pekan', 'pel', 'pela', 'pelado', 'peleas', 'pelicula', 'pelis', 'pelo', 'pelotas', 'pelotudos', 'pen', 'pendant', 'pendejadas', 'peng', 'pensa', 'pensamientos', 'pensamos', 'pensando', 'pensar', 'pensardiferente', 'people', 'peor', 'per', 'peradeniya', 'perca', 'perceived', 'percent', 'perd', 'perdana', 'perdi', 'perdiendo', 'perdona', 'perdu', 'pereza', 'perf', 'perfect', 'perfectly', 'perfecto', 'perfil', 'perform', 'performance', 'perguntar', 'perguntei', 'perhaps', 'perils', 'period', 'periodismodigital', 'periodista', 'periods', 'perjudicial', 'perks', 'permane', 'permanencia', 'permission', 'permite', 'permitir', 'pero', 'perpetual', 'perro', 'perry', 'perso', 'person', 'persona', 'personal', 'personalia', 'personalization', 'personally', 'personas', 'personasinviables', 'personnes', 'pertenece', 'pesame', 'pese', 'pessoal', 'pessoas', 'petapixel', 'peter', 'peternemcok', 'petit', 'petty', 'peu', 'peut', 'pffffff', 'pfzuy', 'pg', 'pgcd', 'pgm', 'pgosd', 'pgstech', 'ph', 'phea', 'phh', 'phil', 'philanthropy', 'philipgrey', 'philips', 'philliprowntree', 'philosopher', 'philosophy', 'philsimon', 'phne', 'phoenix', 'phoenixswinger', 'phone', 'phonedog', 'phonerecord', 'phones', 'photo', 'photograherseye', 'photography', 'photos', 'photosharing', 'phr', 'phuyrg', 'phxguy', 'physical', 'pi', 'piace', 'pic', 'pica', 'picando', 'pick', 'picked', 'picking', 'pico', 'pics', 'picture', 'pictures', 'pidamente', 'pide', 'pido', 'pidounparche', 'piece', 'piensas', 'pierdan', 'pikkie', 'pilargarciam', 'pile', 'pillai', 'pills', 'pimentacom', 'pimentta', 'pimpjuicewow', 'pin', 'pinang', 'pinball', 'pinch', 'pinches', 'ping', 'pink', 'pinkangel', 'pinpoint', 'pins', 'pinta', 'pinto', 'pio', 'pioniq', 'pip', 'piracy', 'piratas', 'piratasdainformatica', 'piraten', 'pirater', 'pirateria', 'pissed', 'pissing', 'pisto', 'pistoko', 'pith', 'pitman', 'pittman', 'pittsburgh', 'pitufo', 'pitufos', 'pivotaltracker', 'pix', 'pixar', 'pj', 'pjcyxd', 'pjd', 'pjf', 'pjkyf', 'pjo', 'pjpfeytf', 'pjvkh', 'pjwwx', 'pjxurwrp', 'pk', 'pkbji', 'pkedrosky', 'pkk', 'pkmbgsnr', 'pks', 'pl', 'pla', 'place', 'placement', 'places', 'plaintiffs', 'plaisante', 'plan', 'planed', 'planes', 'planet', 'planeta', 'planforfame', 'planking', 'planned', 'planning', 'plano', 'planova', 'plans', 'plant', 'plantage', 'plante', 'plastic', 'plastics', 'plataforma', 'plate', 'platform', 'platforms', 'platiquenme', 'plattform', 'play', 'playa', 'playback', 'playbooks', 'played', 'player', 'players', 'playful', 'playing', 'playlist', 'playlists', 'plays', 'playstation', 'pleas', 'pleasant', 'please', 'pleased', 'pleasure', 'plebe', 'plena', 'plgtdgz', 'plmyvd', 'plop', 'plot', 'pls', 'plse', 'pltitgei', 'plugged', 'plugin', 'pluit', 'plus', 'plush', 'plusone', 'plut', 'plutselig', 'plwve', 'plz', 'pm', 'pmanmoah', 'pmecxpug', 'pmpcfl', 'pmphillips', 'pms', 'pn', 'pnt', 'po', 'pobres', 'poca', 'pocesivo', 'pocket', 'pocketlint', 'pockettouch', 'poco', 'pocos', 'pod', 'podacst', 'podcast', 'podcasts', 'pode', 'podem', 'poder', 'podr', 'podrian', 'poes', 'pogo', 'poh', 'point', 'pointing', 'points', 'poir', 'poireau', 'pois', 'poised', 'poke', 'poker', 'pokerstars', 'pol', 'polic', 'police', 'policies', 'policy', 'polish', 'politely', 'political', 'politicians', 'politik', 'poll', 'polska', 'pondering', 'pondre', 'pone', 'ponen', 'poner', 'ponerce', 'ponerle', 'ponerlo', 'ponerme', 'pones', 'pongo', 'poniendo', 'ponte', 'pooh', 'poole', 'poooha', 'poop', 'poor', 'poorly', 'pop', 'populaire', 'popular', 'populares', 'popularizar', 'popularizo', 'poqe', 'poque', 'por', 'porchista', 'porq', 'porqq', 'porque', 'porquer', 'porr', 'porra', 'port', 'portal', 'portals', 'ported', 'porter', 'portiert', 'portion', 'portland', 'porzelincako', 'pose', 'posez', 'posible', 'positions', 'positive', 'positives', 'possibilit', 'possibilities', 'possible', 'possibly', 'possono', 'post', 'posta', 'posted', 'posting', 'posto', 'posts', 'potente', 'potential', 'potenzial', 'pound', 'pour', 'pourrais', 'pouvoir', 'povidani', 'povo', 'power', 'powered', 'powerlink', 'powerpivot', 'powerpoint', 'pozdrowienia', 'ppc', 'ppchen', 'pph', 'ppl', 'ppmorraz', 'ppnat', 'pps', 'ppzz', 'pq', 'pqe', 'pqp', 'pr', 'pra', 'practica', 'practical', 'practice', 'practices', 'praia', 'pranav', 'prasing', 'praten', 'pratet', 'praticamente', 'pratiques', 'pray', 'praying', 'prb', 'prctices', 'pre', 'preaching', 'precio', 'precious', 'precisamos', 'preciso', 'predefined', 'predice', 'predict', 'predicting', 'predictions', 'predicts', 'prefer', 'preferencia', 'pregnant', 'pregunta', 'preguntar', 'preisstab', 'preisvergleich', 'premi', 'premier', 'premiere', 'premiostwco', 'premise', 'premium', 'prend', 'prendere', 'prendido', 'prendio', 'prenez', 'preocupen', 'preorder', 'preordered', 'prep', 'prepara', 'prepping', 'pres', 'present', 'presenta', 'presentaci', 'presentaciones', 'presentado', 'presentan', 'presentanci', 'presentatie', 'presentation', 'presentations', 'presentazione', 'presente', 'presenteert', 'presenting', 'presento', 'presents', 'presetnaci', 'presiden', 'presidential', 'press', 'pressekonferenz', 'presumir', 'pretend', 'pretending', 'pretendo', 'prettier', 'pretty', 'prettyfuckn', 'prettynesz', 'preven', 'preventing', 'preview', 'previo', 'previous', 'pric', 'price', 'priceless', 'pricepoints', 'prijsmodel', 'prijzen', 'prim', 'prima', 'prime', 'primeira', 'primeiro', 'primer', 'primera', 'primero', 'primeros', 'primo', 'primos', 'prince', 'princesiita', 'princessofchina', 'principal', 'print', 'printed', 'printer', 'printing', 'prioridades', 'prisa', 'prise', 'pristatytas', 'prisutne', 'privacy', 'private', 'privatecloud', 'prix', 'prjusto', 'prmate', 'pro', 'proam', 'probablemente', 'probably', 'probando', 'probl', 'probleemloos', 'problem', 'problema', 'problemas', 'problemkind', 'problems', 'probono', 'procedural', 'proceeds', 'process', 'processor', 'processors', 'procrastination', 'procure', 'prod', 'prodmgmt', 'produce', 'producers', 'produck', 'product', 'productive', 'productivity', 'productos', 'productplacement', 'productreviews', 'products', 'produkte', 'produkter', 'produktfamilie', 'produktion', 'proefschool', 'prof', 'profesores', 'professional', 'profile', 'profiles', 'profissionaisti', 'profissional', 'profissionalmente', 'profit', 'profitable', 'profitering', 'profitieren', 'profiting', 'profits', 'profound', 'profundo', 'program', 'programa', 'programm', 'programmable', 'programmer', 'programmers', 'programmes', 'programming', 'programs', 'programu', 'progress', 'progressed', 'progressive', 'project', 'projector', 'projekt', 'prolly', 'promi', 'promise', 'promised', 'promises', 'promising', 'promo', 'promoallday', 'promocion', 'promoteback', 'promoted', 'promoting', 'promotion', 'prompt', 'pron', 'prone', 'pronto', 'proof', 'propaganda', 'proper', 'properly', 'property', 'propietario', 'propio', 'propose', 'props', 'pros', 'prospect', 'protagonista', 'protagonistas', 'protect', 'protection', 'prototipo', 'prototyp', 'proud', 'proven', 'proves', 'provid', 'provide', 'provided', 'providing', 'proving', 'proxima', 'proximo', 'proxy', 'proyectada', 'proyecto', 'proyectos', 'pryourblog', 'ps', 'pseudonyms', 'psfk', 'psic', 'psn', 'pss', 'pstd', 'psujg', 'pswsg', 'ptag', 'pte', 'ptm', 'ptr', 'pts', 'pua', 'pub', 'publaunch', 'public', 'publicaciones', 'publicas', 'publication', 'publicidad', 'publicitarios', 'publicly', 'publiek', 'published', 'publishers', 'puchis', 'puck', 'puede', 'pueden', 'puedes', 'puedo', 'puee', 'pues', 'puh', 'pujyv', 'pulgadas', 'pull', 'pulling', 'pulls', 'pulse', 'pump', 'pumwmm', 'pun', 'pune', 'puntogeek', 'pups', 'pur', 'pura', 'puragentebienav', 'purchase', 'purchased', 'purchasing', 'purdie', 'pure', 'pureinfotech', 'purely', 'purple', 'purpose', 'push', 'pushen', 'pushing', 'puso', 'puss', 'put', 'puta', 'putain', 'putamadre', 'putapriceonconvenience', 'puto', 'putriasmara', 'putting', 'putz', 'puuuuuta', 'puux', 'puvhp', 'puvxwjjc', 'puxi', 'pv', 'pvkqad', 'pvrahhxr', 'pvrhr', 'pw', 'pwi', 'pwldyxve', 'pwlpgq', 'pws', 'pxc', 'pxcya', 'pxhqdsav', 'pxulr', 'py', 'pylmims', 'pyog', 'pyrexpress', 'pyt', 'python', 'pyttyr', 'pyw', 'pzonzec', 'pzw', 'qa', 'qagbowhc', 'qamj', 'qanda', 'qapfd', 'qaw', 'qb', 'qbegai', 'qbgxxjmm', 'qbkmpg', 'qbyum', 'qc', 'qcdddyrn', 'qcih', 'qcjhli', 'qcytszff', 'qd', 'qdbha', 'qdfwodmd', 'qdko', 'qdm', 'qdo', 'qdogji', 'qe', 'qeatnmpi', 'qedare', 'qedo', 'qefhpgx', 'qeriido', 'qetk', 'qewndku', 'qf', 'qfqkhayd', 'qfuznv', 'qfzhtnjs', 'qg', 'qgp', 'qgux', 'qgxn', 'qgzhllpv', 'qhh', 'qhofoxzd', 'qiero', 'qiibo', 'qj', 'qk', 'qkga', 'qkthmjwo', 'qkuoeezv', 'ql', 'qlarpuat', 'qleokz', 'qloc', 'qlra', 'qlyqbryd', 'qm', 'qmatteoq', 'qmc', 'qmdwpp', 'qmg', 'qmme', 'qmwjtvnk', 'qmx', 'qmymiv', 'qn', 'qniv', 'qnlwft', 'qnqj', 'qnvdvcmx', 'qojwxb', 'qonitoag', 'qoqqdcy', 'qot', 'qoxd', 'qpgxle', 'qpk', 'qqcwyl', 'qqkviaan', 'qqu', 'qr', 'qrcode', 'qrder', 'qrdju', 'qschumin', 'qsegk', 'qslf', 'qst', 'qstj', 'qticdivd', 'qtkt', 'qtmlhjn', 'qtoqoz', 'qtt', 'qu', 'quak', 'qual', 'qualche', 'qualifications', 'qualify', 'quality', 'qualquer', 'qualsiasi', 'quand', 'quando', 'quanta', 'quarter', 'quarterly', 'quase', 'quasi', 'qucwt', 'que', 'quebrar', 'queda', 'quedado', 'quedan', 'quedando', 'quedare', 'quedo', 'queem', 'queen', 'quejarme', 'quelle', 'quello', 'quelque', 'quem', 'quemensos', 'queque', 'quer', 'queria', 'querida', 'querido', 'queridos', 'queries', 'quero', 'quest', 'question', 'questions', 'queues', 'qui', 'quick', 'quickly', 'quickresponse', 'quiebre', 'quien', 'quiere', 'quieren', 'quieres', 'quiero', 'quierooo', 'quiierooo', 'quimera', 'quincy', 'quisiera', 'quit', 'quitandole', 'quitar', 'quite', 'quiz', 'qukdb', 'quok', 'quora', 'quot', 'quote', 'quotes', 'quotin', 'quqpibic', 'qurd', 'quwgcu', 'quy', 'qv', 'qvc', 'qven', 'qvrwriyd', 'qw', 'qwanqycf', 'qwhocf', 'qwk', 'qwkkb', 'qx', 'qxasp', 'qxfddrt', 'qxy', 'qywe', 'qyy', 'qzcba', 'qzex', 'qzl', 'qzqblizb', 'qzt', 'qzujm', 'qzungylw', 'qzuqhcxx', 'qzv', 'qzynnuvi', 'ra', 'rabobank', 'rachat', 'rachel', 'rachiecrewz', 'racism', 'racketeering', 'rad', 'radar', 'radio', 'radiology', 'radiotux', 'radlerc', 'raellenkoga', 'rafaarrudaa', 'rafaelah', 'rafts', 'raheemhbbti', 'rahorajty', 'rain', 'raining', 'raise', 'raises', 'rajak', 'rakyat', 'ralando', 'ralphbin', 'ram', 'rambling', 'ramon', 'ramos', 'ranch', 'rancune', 'rande', 'randomly', 'randsteden', 'range', 'ranked', 'ranking', 'rankings', 'rant', 'ranti', 'raovallab', 'rape', 'rapida', 'rapidamente', 'rapidly', 'rappelez', 'rara', 'raroooo', 'rart', 'rashadhurst', 'rat', 'ratchetsymptoms', 'rate', 'rather', 'rato', 'rauerrtf', 'rausbringen', 'raw', 'rawados', 'rawadosa', 'rawks', 'raxa', 'ray', 'rayo', 'raza', 'razanumerouno', 'razcacielo', 'razon', 'razones', 'razor', 'razr', 'rbev', 'rbevrtfz', 'rbf', 'rbniwumi', 'rc', 'rcas', 'rcml', 'rcot', 'rcpe', 'rcq', 'rcswzlxk', 'rcu', 'rcve', 'rd', 'rdbeuctt', 'rde', 'rdfa', 'rdienst', 'rdingwell', 'rdrcz', 'rdtzumtz', 'rdw', 'rdz', 're', 'reaaly', 'reaching', 'reacless', 'reactie', 'reacties', 'reaction', 'read', 'readable', 'reader', 'reading', 'readinglists', 'ready', 'readyfor', 'real', 'realestate', 'realestateguywi', 'realisation', 'realise', 'realize', 'realized', 'realjaythoven', 'reallly', 'really', 'realmente', 'realrogers', 'realtalk', 'realtime', 'reappeared', 'reason', 'reasoning', 'reasons', 'reboot', 'rebuild', 'rebuttal', 'recap', 'receipt', 'receive', 'received', 'recent', 'recente', 'recently', 'recession', 'recherche', 'recht', 'rechtsstreit', 'recien', 'reckless', 'recognition', 'recomendado', 'recomiendenos', 'recommend', 'reconcilia', 'reconhecimento', 'reconnaissance', 'reconoce', 'reconocimiento', 'record', 'recordarme', 'recording', 'recortar', 'recover', 'recovered', 'recovers', 'recruit', 'recruiting', 'recuerdan', 'recupere', 'recursos', 'red', 'reddclay', 'reddeersteph', 'redeemed', 'redes', 'redesigned', 'redessociales', 'redhat', 'redimensionnables', 'redimensionner', 'redirect', 'redirection', 'redmond', 'redsocial', 'referencia', 'referral', 'referring', 'refines', 'reflects', 'reflex', 'reflexionar', 'reflexiones', 'reforma', 'reformat', 'refurbed', 'refurbished', 'reg', 'regados', 'regalado', 'regalar', 'regarding', 'regardless', 'regent', 'reggetoneros', 'regio', 'region', 'register', 'registered', 'registrados', 'registrarse', 'registration', 'regreso', 'regular', 'regvulture', 'reimeraaron', 'reiniciando', 'reinvented', 'reizi', 'relaci', 'relate', 'related', 'relaxin', 'relaxing', 'release', 'released', 'releasepartyguide', 'releases', 'releasing', 'relevance', 'relevant', 'reliable', 'relied', 'relive', 'reller', 'rem', 'rema', 'remain', 'remake', 'remarks', 'remcovandenhout', 'remember', 'remembered', 'rememberin', 'remembering', 'remind', 'reminder', 'reminders', 'reminds', 'remonter', 'remote', 'removable', 'remove', 'removing', 'remporte', 'remu', 'renaedaniels', 'rename', 'renaming', 'renatmin', 'renatomb', 'rence', 'renda', 'render', 'renders', 'renewal', 'renj', 'renovar', 'rep', 'repair', 'repeat', 'repens', 'replace', 'replaced', 'replaceit', 'replacement', 'replaces', 'replacing', 'repletoooo', 'replied', 'replies', 'reply', 'report', 'reportar', 'reported', 'reportes', 'reporting', 'reports', 'repost', 'reppin', 'represent', 'reprisk', 'reps', 'republished', 'request', 'require', 'required', 'requires', 'res', 'rescue', 'rese', 'research', 'researchers', 'resellars', 'reseller', 'resemble', 'resembles', 'resentida', 'reservation', 'reserve', 'resetearlo', 'reshape', 'reside', 'resilience', 'resizable', 'resllers', 'resolution', 'resolutions', 'resolve', 'resolvir', 'resonating', 'resource', 'resources', 'resp', 'respect', 'respectmaswagg', 'respecto', 'respekt', 'respond', 'respondeeer', 'responsable', 'response', 'responses', 'responsive', 'respuestas', 'rest', 'resta', 'reste', 'restore', 'restored', 'restoring', 'restrict', 'restrictedboot', 'restrictions', 'restrictive', 'result', 'resultado', 'resultados', 'resulted', 'results', 'resumen', 'resumes', 'retail', 'retailers', 'retarded', 'retina', 'retire', 'retiro', 'retrieve', 'return', 'returning', 'returns', 'retweet', 'retweeted', 'retweets', 'reuna', 'reunion', 'reuters', 'revamped', 'revamps', 'reveal', 'revealed', 'reveals', 'reveil', 'revela', 'revelou', 'revenue', 'reverse', 'reverting', 'review', 'reviewing', 'reviora', 'revised', 'revolution', 'revue', 'rewarded', 'rewardhub', 'rewards', 'rewind', 'reys', 'reyyy', 'rf', 'rffixdi', 'rfianud', 'rgai', 'rgbhhuqp', 'rgict', 'rgu', 'rh', 'rhce', 'rhiannaraee', 'rhkqyxo', 'rhnu', 'rhondaparsons', 'rht', 'ri', 'ria', 'rianru', 'rias', 'rica', 'rice', 'ricerca', 'rich', 'richer', 'richmond', 'rickholgate', 'ricklennie', 'ricks', 'rickysinghpt', 'rico', 'ricoo', 'rid', 'ridderkerk', 'ridic', 'ridiculously', 'rie', 'rience', 'riesgo', 'riesling', 'right', 'rights', 'rihanna', 'riiicksilva', 'rijk', 'rilancia', 'rilasciata', 'rim', 'rimm', 'rinconindia', 'ring', 'ringgit', 'ringing', 'rio', 'riode', 'rip', 'ripjrmzs', 'ripsteve', 'ripstevejobs', 'riquelme', 'risa', 'rise', 'rishij', 'riskiest', 'rit', 'ritcdsd', 'rite', 'ritenow', 'ritrovo', 'rival', 'rivalen', 'rivelata', 'river', 'rivera', 'rivero', 'rjakesuk', 'rjpittman', 'rjy', 'rjz', 'rk', 'rkiye', 'rkochzr', 'rktcj', 'rl', 'rldens', 'rly', 'rm', 'rmeneghelo', 'rmet', 'rmi', 'rmj', 'rmrauh', 'rmt', 'rmv', 'rndn', 'rnf', 'rnfgpa', 'rnhzqjgr', 'rnnjwo', 'rnxn', 'ro', 'road', 'roadmap', 'roaring', 'roasted', 'roba', 'robakk', 'robando', 'robbase', 'robcollingridge', 'robe', 'robert', 'robertoafelipe', 'robertodesign', 'robes', 'robles', 'robot', 'roboto', 'robots', 'robynheartz', 'robyqq', 'roc', 'rocioo', 'rock', 'rocked', 'rocking', 'rocks', 'rocksmith', 'rod', 'rogeralexiis', 'rogers', 'rogersbiz', 'rogerweir', 'rogriffo', 'rohit', 'roi', 'rolandsmartin', 'role', 'roll', 'rollbacks', 'rolling', 'rom', 'romankrd', 'rompan', 'romperla', 'ronakkataria', 'ronaldelapostol', 'ronda', 'ronpaul', 'roodprojecten', 'rookie', 'roolz', 'room', 'rooms', 'rooting', 'ros', 'rosibel', 'roslyn', 'rossmistry', 'rosto', 'rostro', 'rot', 'rotfl', 'rotiieo', 'rotita', 'roto', 'roubando', 'rough', 'round', 'roundup', 'roupa', 'roupas', 'row', 'rows', 'roxbury', 'royalties', 'roycind', 'rp', 'rpg', 'rptlwmlo', 'rq', 'rqhgaibf', 'rqi', 'rqjtztr', 'rqk', 'rqnhmfaa', 'rqwxty', 'rr', 'rrc', 'rrcf', 'rrhh', 'rrp', 'rrru', 'rs', 'rscce', 'rsdf', 'rsna', 'rsnb', 'rsnsg', 'rsrdu', 'rsrmjpob', 'rsrsr', 'rsrsrs', 'rsrsrss', 'rss', 'rssz', 'rsx', 'rsxmvuxl', 'rszal', 'rt', 'rtdzjq', 'rted', 'rtimbuc', 'rts', 'ru', 'rubik', 'rubin', 'rubiocotize', 'rubriek', 'rubrique', 'rudybren', 'ruft', 'rug', 'ruhanirabin', 'ruhgljmt', 'ruilifestyle', 'ruim', 'ruined', 'ruining', 'ruktyujc', 'rule', 'rules', 'rumopwl', 'rumor', 'rumored', 'rumores', 'rumors', 'rumours', 'run', 'running', 'runs', 'runtime', 'rusku', 'russia', 'rusza', 'rv', 'rva', 'rvdjsmmi', 'rve', 'rvf', 'rvhs', 'rvn', 'rvq', 'rvtthd', 'rw', 'rwbgn', 'rwgkpbgu', 'rwvaukq', 'rww', 'rx', 'rxnepyl', 'rxopvngq', 'rxrcc', 'rxupiw', 'rxwd', 'ry', 'ryan', 'ryanbaldwin', 'ryannosaurusrex', 'rydvx', 'rygurl', 'rys', 'rz', 'rzbmyltv', 'rze', 'rzkidjv', 'rzsu', 'rztz', 'rzucfejc', 'sa', 'saaindo', 'saalee', 'saat', 'sab', 'sabe', 'saben', 'saber', 'sabes', 'sabia', 'sabias', 'saca', 'sacada', 'sacarlo', 'sacarme', 'sachbearbeiter', 'sack', 'sad', 'sadly', 'sadmac', 'sadreally', 'saeldesn', 'saelwlbj', 'safari', 'safe', 'safety', 'saga', 'sage', 'sagegroupza', 'sagr', 'sai', 'said', 'saiiidoooo', 'saiir', 'sail', 'saindo', 'saino', 'saints', 'sair', 'sais', 'sake', 'saldre', 'sale', 'salecker', 'salee', 'sales', 'salesforce', 'saleslogix', 'salesperson', 'sali', 'salir', 'salisbury', 'salmonella', 'saludmental', 'saludos', 'saludoss', 'salut', 'salute', 'salva', 'salve', 'salvo', 'sam', 'sama', 'samay', 'sambou', 'same', 'samen', 'samixitoledo', 'sammydekeijne', 'samsumg', 'samsun', 'samsung', 'samsungarg', 'samsunggalaxynexus', 'samsungmobileca', 'samsungmobileus', 'samsungnexus', 'samsungpty', 'samudra', 'san', 'sander', 'sandra', 'sandrocosta', 'sandwich', 'sandwichintroducing', 'sandwichos', 'sandwitch', 'sanfrancisco', 'sanjeevgadre', 'sansung', 'santa', 'santo', 'santorum', 'sanwikipedia', 'sao', 'sap', 'sapb', 'saperlo', 'sapevatelo', 'sapgateway', 'sapteched', 'saptha', 'sapworksmarter', 'sarahhhhh', 'sarahhjessica', 'sarcasm', 'sarcasmo', 'saskianijs', 'sat', 'satiliktir', 'satisfait', 'saturando', 'saturdaycute', 'sauce', 'saudade', 'saudadeeees', 'saudades', 'sausagefest', 'sauvegarder', 'save', 'saved', 'saving', 'savoir', 'saw', 'sawyerhartman', 'say', 'sayin', 'saying', 'says', 'sb', 'sbcs', 'sbpd', 'sbs', 'sby', 'sc', 'sca', 'scalability', 'scale', 'scalecomputing', 'scam', 'scammers', 'scares', 'scat', 'sch', 'schafft', 'schaub', 'schaue', 'schaumburg', 'schedule', 'schen', 'schestowitz', 'schimpfen', 'schiphol', 'schmerzen', 'schmerzensgeld', 'schn', 'schock', 'schon', 'school', 'schouder', 'schwastysmack', 'schweiz', 'science', 'scientist', 'scientists', 'scientst', 'scimmia', 'sckxl', 'scn', 'scom', 'sconds', 'scores', 'scottdugas', 'scottrockhill', 'scottshipman', 'scottyd', 'scpul', 'scrapple', 'scream', 'screen', 'screened', 'screens', 'screenshot', 'screenshots', 'screw', 'screwed', 'screwing', 'screws', 'scribble', 'scriptures', 'scroll', 'scrollables', 'scrolling', 'scrubbing', 'scvmm', 'sd', 'sdgp', 'sdgut', 'sdk', 'sdnmc', 'sdx', 'se', 'sea', 'seahawkswag', 'seal', 'seamlessly', 'sean', 'seanl', 'searay', 'search', 'searchengine', 'searchengineland', 'searches', 'searching', 'searchmetrics', 'searchsoftware', 'seas', 'season', 'seats', 'sebascoulombe', 'sebitasrodri', 'sec', 'second', 'seconde', 'seconds', 'secret', 'secretaresse', 'secreto', 'secretoo', 'section', 'secure', 'secureboot', 'securing', 'securities', 'security', 'securityessentials', 'sede', 'see', 'seeing', 'seek', 'seeking', 'seeks', 'seem', 'seemed', 'seemingly', 'seems', 'seen', 'seesh', 'seg', 'segoe', 'segregated', 'segue', 'segui', 'seguidores', 'seguir', 'seguiram', 'seguirse', 'segun', 'segunda', 'segur', 'seguridadparatodos', 'seguro', 'sehr', 'sei', 'sein', 'seinen', 'seit', 'seite', 'seiten', 'seize', 'sejahtera', 'selangor', 'selben', 'selecci', 'select', 'selection', 'selecto', 'selektiv', 'self', 'sell', 'selling', 'sells', 'selop', 'sem', 'semana', 'semble', 'semejante', 'semilshah', 'sempre', 'sen', 'send', 'sending', 'senews', 'senior', 'sense', 'sensible', 'sensor', 'sent', 'sentences', 'sentido', 'sentidoo', 'sentimiento', 'sentindo', 'senza', 'seo', 'seotips', 'september', 'sequence', 'ser', 'sera', 'seremos', 'serendipityjane', 'sergey', 'sergioapple', 'seriamente', 'serie', 'series', 'serieuze', 'serious', 'seriously', 'sermv', 'serps', 'serve', 'served', 'server', 'servers', 'serveru', 'serves', 'serveur', 'servi', 'service', 'servicepack', 'services', 'servicio', 'servicios', 'servir', 'servizi', 'servizio', 'sesame', 'sesamestreet', 'sesentu', 'sesp', 'session', 'sessioni', 'sesvwwm', 'set', 'setelah', 'sets', 'setting', 'settings', 'settle', 'settlement', 'setup', 'seu', 'seven', 'several', 'severe', 'sex', 'sexy', 'sf', 'sfblwqjg', 'sfciksak', 'sfida', 'sg', 'sgarney', 'sgm', 'sgn', 'sgs', 'sgsy', 'sh', 'shagged', 'shagorikah', 'shair', 'shamada', 'shamlessselfpromotion', 'shanghai', 'shanmoorthy', 'share', 'shared', 'sharepoint', 'sharepointony', 'shares', 'shari', 'sharing', 'sharipaul', 'sharonhayes', 'shaunawalters', 'shawnwildermuth', 'shaydiddy', 'she', 'sheet', 'shelly', 'shes', 'shezyyee', 'shhhh', 'shift', 'shifted', 'ship', 'shipping', 'shirts', 'shit', 'shitt', 'shitty', 'shld', 'shlft', 'sholliman', 'shoot', 'shop', 'shoppers', 'shopping', 'shops', 'shore', 'short', 'shortcut', 'shot', 'shots', 'shoukd', 'should', 'shout', 'shoutout', 'shouts', 'show', 'showed', 'shower', 'showin', 'showing', 'shows', 'shrewd', 'shuffle', 'shut', 'shutter', 'shyah', 'si', 'siamo', 'siapkan', 'sich', 'sicherheitsl', 'sick', 'sidang', 'side', 'sido', 'sidyrm', 'sie', 'siehe', 'siempre', 'siendo', 'siento', 'sig', 'siga', 'sigam', 'sigamosla', 'sigan', 'siganme', 'sigh', 'siglos', 'sign', 'signal', 'signals', 'signed', 'significa', 'significadosdos', 'signing', 'signs', 'signups', 'sigo', 'sigsource', 'sigue', 'siguemeytesigo', 'siguiendo', 'sii', 'sijsb', 'sikkerhet', 'silently', 'silicon', 'silly', 'silver', 'silverlight', 'sim', 'similar', 'similares', 'simon', 'simonsays', 'simple', 'simplement', 'simplesmente', 'simplethings', 'simplicity', 'simplifies', 'simply', 'simpson', 'sin', 'sinanaral', 'since', 'sinceramente', 'sincerely', 'sincerelytigg', 'sinceri', 'sincronizaci', 'sincronizar', 'sind', 'sing', 'singapo', 'singapore', 'singaporean', 'singing', 'single', 'sinking', 'sino', 'sinon', 'siobhancoda', 'siourqui', 'sipcom', 'siri', 'siriwho', 'sirve', 'sis', 'sise', 'sistema', 'sister', 'sit', 'site', 'sites', 'sith', 'sitio', 'sitios', 'sitting', 'situation', 'six', 'size', 'sizes', 'sizing', 'sjimotov', 'sjn', 'sjx', 'sk', 'ska', 'skandalasgp', 'skills', 'skin', 'skip', 'skittles', 'sko', 'skullgang', 'skv', 'skydrive', 'skype', 'sl', 'slackin', 'slacking', 'slams', 'slappy', 'slaps', 'slash', 'slashdotjp', 'slashgear', 'slate', 'slater', 'slecht', 'slecluyse', 'sledgehammer', 'sleeep', 'sleek', 'sleep', 'sleeping', 'sleepy', 'slegit', 'slew', 'slfn', 'slick', 'slide', 'slider', 'slightly', 'slinging', 'slip', 'slipping', 'slogans', 'sloppy', 'slow', 'slower', 'slowly', 'slows', 'slowsprint', 'slp', 'slsss', 'sluta', 'sm', 'smalfunctioningagain', 'small', 'smallbiz', 'smallvictory', 'smarch', 'smart', 'smartbrief', 'smarterphone', 'smartest', 'smartkeitai', 'smartphone', 'smartphonenfc', 'smartphones', 'smartphonewar', 'smartphonewereld', 'smartsite', 'smashed', 'smau', 'smb', 'smell', 'smh', 'smile', 'smm', 'smokes', 'smooth', 'smp', 'smqueue', 'sms', 'smsavvy', 'smurf', 'sn', 'snad', 'snaps', 'snapt', 'snapw', 'snatched', 'sndkag', 'sneaky', 'sneer', 'snel', 'sniferl', 'snik', 'snippet', 'snippy', 'snizt', 'snl', 'snmztl', 'snn', 'snom', 'snow', 'snzeve', 'so', 'soa', 'soaddicted', 'soaked', 'sobra', 'sobre', 'sobrevivir', 'sobrina', 'socapac', 'socia', 'social', 'socialbiz', 'sociales', 'socialfans', 'socializar', 'socialize', 'socializing', 'socialmedia', 'socialmediamarketing', 'socialnetwork', 'socialnetworking', 'socialshareprivacy', 'socialwediatips', 'society', 'socio', 'socios', 'sociosmicrosoft', 'sodear', 'soez', 'sofiavergara', 'sofort', 'soft', 'softline', 'softlinepastel', 'softs', 'software', 'softwarelibre', 'softwareverteilung', 'sogeti', 'soho', 'soi', 'soir', 'soit', 'sol', 'solamente', 'solano', 'solar', 'solco', 'sold', 'solely', 'solo', 'solopensamosenti', 'solta', 'solu', 'soluci', 'soluciones', 'soluti', 'solution', 'solutions', 'soluzioni', 'solve', 'somalymam', 'some', 'somebody', 'somehow', 'someone', 'something', 'sometime', 'sometimes', 'somos', 'son', 'song', 'songs', 'sonhos', 'sonic', 'sono', 'sont', 'sony', 'soon', 'sooner', 'sooo', 'soooo', 'soooooo', 'sopa', 'sophistication', 'soportes', 'soretes', 'sorprende', 'sorprendente', 'sorpresa', 'sorri', 'sorridente', 'sorry', 'sorryfollowers', 'sort', 'sorte', 'sorude', 'sos', 'soso', 'sotto', 'sou', 'soudev', 'sought', 'sougo', 'sougofollow', 'soul', 'sound', 'sounds', 'sour', 'source', 'sources', 'south', 'southern', 'southwestair', 'soy', 'soytufan', 'sozinho', 'sp', 'spa', 'space', 'spacecanard', 'spaces', 'spain', 'spam', 'spamm', 'spammy', 'spanish', 'spare', 'spared', 'spartan', 'spat', 'spatial', 'spazz', 'spbg', 'spd', 'speak', 'speakers', 'speaking', 'speakmymind', 'speaks', 'spec', 'specialist', 'specifying', 'specs', 'spectaculair', 'spectechular', 'specter', 'speech', 'speechtrans', 'speed', 'spell', 'spencer', 'spend', 'spending', 'spent', 'spezialist', 'spiegelonline', 'spiele', 'spigot', 'spin', 'spinning', 'spiral', 'spitzfcx', 'splitter', 'spmentor', 'spn', 'spoed', 'spoiled', 'spoke', 'spongebob', 'sponsors', 'spontaneou', 'spontaneous', 'spontaneously', 'spookygoogle', 'sports', 'spot', 'spotify', 'spotted', 'spray', 'spring', 'springs', 'sprint', 'sprintfeed', 'sprung', 'spvyob', 'spy', 'spying', 'spyware', 'sql', 'sqlazure', 'sqlkaraoke', 'sqlkilt', 'sqlpass', 'sqlserver', 'sqne', 'squad', 'squared', 'squatter', 'squedas', 'squidoo', 'sqxjkjao', 'sr', 'sralgsci', 'srb', 'srbm', 'sri', 'srs', 'srtk', 'ss', 'sscoop', 'ssdxjowd', 'sselt', 'ssige', 'ssis', 'ssl', 'ssrs', 'ssurpnve', 'st', 'sta', 'staat', 'stabiel', 'stable', 'stacehendrix', 'stack', 'stacks', 'stadtr', 'staff', 'staffed', 'stage', 'staged', 'stalkerismo', 'stalkertard', 'stalking', 'stand', 'standard', 'standards', 'standin', 'standing', 'stap', 'star', 'staranddrama', 'starbucks', 'stare', 'starfrit', 'starr', 'starring', 'start', 'startbildschirm', 'started', 'starter', 'startet', 'starting', 'startpack', 'starts', 'startup', 'startups', 'state', 'statement', 'states', 'station', 'statistiques', 'stato', 'statt', 'statuses', 'statussen', 'stavaza', 'stay', 'stayed', 'ste', 'steal', 'steeds', 'steelo', 'steffen', 'steffisavillon', 'steht', 'stellen', 'stellt', 'step', 'stephaniezogrh', 'stephen', 'stepitup', 'steps', 'sterling', 'sterreich', 'stert', 'steuerbeh', 'steve', 'steveballmer', 'steveballmet', 'steveeadie', 'stevegr', 'stevejobs', 'stevejobsday', 'stevejobstributecases', 'stevenbouquet', 'stevenrestern', 'stevewoz', 'stewart', 'stht', 'sticas', 'stick', 'stickers', 'stickies', 'sticking', 'sticky', 'stico', 'stifqwtu', 'stil', 'still', 'stilllearning', 'stimulate', 'stimulera', 'stink', 'sto', 'stock', 'stocks', 'stolen', 'stood', 'stop', 'stoppen', 'stops', 'storage', 'store', 'storeee', 'stores', 'stories', 'story', 'str', 'straight', 'straits', 'strange', 'stranger', 'strangest', 'strat', 'strate', 'strategic', 'strategie', 'strategies', 'strategy', 'stravi', 'stravinsky', 'stream', 'streams', 'street', 'streets', 'streiten', 'strengthen', 'strese', 'stressed', 'stripes', 'strit', 'strong', 'stronger', 'strongly', 'structure', 'struggling', 'stuartmiles', 'stuck', 'student', 'studentdiscounts', 'students', 'studies', 'studio', 'studiodev', 'studios', 'study', 'studying', 'studyingwhilstmotivated', 'stuff', 'stuffs', 'stumped', 'stunts', 'stupid', 'stuurt', 'styl', 'style', 'stylus', 'su', 'sua', 'suavi', 'subatomicas', 'subjetivamente', 'submit', 'submitted', 'subscribe', 'subscriptions', 'substitute', 'subtweeting', 'suburbs', 'succeed', 'succesfully', 'success', 'successful', 'sucede', 'sucesso', 'such', 'sucha', 'suche', 'suchpartner', 'suck', 'sucked', 'suckers', 'sucking', 'sucks', 'sucrdj', 'sudden', 'suddenly', 'sue', 'suffering', 'sufrir', 'sugar', 'sugg', 'suggest', 'suggested', 'suggesting', 'suggestions', 'suggests', 'suing', 'suisse', 'suit', 'suite', 'suivent', 'suivez', 'suivre', 'sujtk', 'sukces', 'sul', 'sultats', 'sum', 'sumaho', 'sumandoo', 'sumarse', 'sumbo', 'sumbody', 'sumiu', 'sumiuuuuuuuuuuuuuuu', 'summary', 'summer', 'summit', 'sums', 'sun', 'sunaa', 'sundaaay', 'sunday', 'sungard', 'sungen', 'sunni', 'sunt', 'sup', 'supaluga', 'super', 'superb', 'superbo', 'superficie', 'superior', 'superphone', 'supplier', 'suppliers', 'supply', 'support', 'supported', 'supporter', 'supporters', 'supporting', 'supportnya', 'supports', 'suppose', 'suppppp', 'supprimer', 'supreme', 'supuestros', 'supyg', 'sur', 'sure', 'surely', 'surface', 'surfaced', 'surfaces', 'surfactants', 'surpassing', 'surprised', 'surprises', 'surprising', 'survei', 'survey', 'survivable', 'survival', 'survived', 'surviving', 'sus', 'susanfelicity', 'suscripcion', 'sushi', 'suspecting', 'sustainability', 'sux', 'svega', 'sverige', 'svjotjt', 'svlrvxtr', 'svnnr', 'svu', 'svysckh', 'sw', 'swaag', 'swaagg', 'swagg', 'swaggination', 'swallow', 'swallowed', 'swaps', 'sware', 'swear', 'swears', 'sweatshops', 'swech', 'sweepstakes', 'sweet', 'sweetdreams', 'swim', 'swipant', 'swipes', 'swirlz', 'switch', 'switched', 'switcher', 'switching', 'swpats', 'swsxg', 'swvacbxc', 'swy', 'swype', 'swztom', 'sx', 'sxfpd', 'sxmlkarr', 'sxnobasn', 'sxpnubdh', 'sy', 'sydney', 'sym', 'symantec', 'symbian', 'symbol', 'symonperriman', 'sympa', 'sympathische', 'sync', 'synching', 'syncing', 'syncronize', 'syncs', 'syntax', 'sys', 'sysadmin', 'sysikt', 'syste', 'systeem', 'systeembeheerder', 'system', 'systemcenter', 'systems', 'szansa', 'szchgkif', 'szimms', 'szx', 'ta', 'taa', 'tab', 'table', 'tablet', 'tableta', 'tabletguide', 'tablets', 'tabs', 'tabtimes', 'tac', 'tacoma', 'tactil', 'tactile', 'tademoda', 'taf', 'tag', 'taggean', 'tagged', 'tagger', 'tagging', 'taguer', 'tah', 'tailfvuv', 'taille', 'tait', 'tajfjsd', 'tak', 'takashiruru', 'take', 'takeaway', 'taken', 'takeover', 'takes', 'taking', 'talaga', 'tale', 'talent', 'talk', 'talkandroid', 'talked', 'talking', 'talks', 'talkyo', 'tall', 'tallgrass', 'tallman', 'tamagochi', 'tamanho', 'tamb', 'tambi', 'tambien', 'tambn', 'tami', 'tampa', 'tampoco', 'tan', 'tanbien', 'tando', 'tangled', 'tango', 'tant', 'tanta', 'tantas', 'tanto', 'tantos', 'tao', 'tap', 'tapachula', 'taper', 'tapping', 'tarbania', 'tarda', 'tardan', 'tarde', 'tardee', 'tarea', 'tareas', 'target', 'tarjeta', 'tartaruga', 'tas', 'tashaaiwestend', 'task', 'taskcentre', 'taste', 'tatn', 'taught', 'tava', 'tavaa', 'tax', 'taxi', 'tazyodb', 'tbcj', 'tbgqsfos', 'tbm', 'tbn', 'tbnyx', 'tbon', 'tbtuewi', 'tbv', 'tbxlrvin', 'tcdttniu', 'tcktgpbh', 'tcmagazine', 'tcn', 'tcot', 'tcpj', 'tdmfe', 'tdz', 'te', 'teach', 'teachforamerica', 'teachforus', 'teachhub', 'teaching', 'teah', 'team', 'teamandroid', 'teamapple', 'teamed', 'teamfollow', 'teamfollowback', 'teamgooglenexus', 'teamiphone', 'teamo', 'teams', 'tear', 'teaser', 'teasing', 'tebanrk', 'tecbuzz', 'tech', 'techcrunch', 'teched', 'techedafrica', 'techfest', 'techfieber', 'techflash', 'techgadgets', 'techhamlet', 'techie', 'techietroubles', 'techinciter', 'technabob', 'technet', 'technews', 'technical', 'technieken', 'techniques', 'technisch', 'technischer', 'techno', 'technological', 'technologies', 'technology', 'techs', 'techsupport', 'techwar', 'techxams', 'techy', 'techzader', 'tecido', 'teclado', 'tecniche', 'tecnify', 'tecnoclips', 'tecnol', 'tecnolog', 'tecnologia', 'tecnologias', 'teehee', 'teenpatti', 'teenswagquotess', 'teggyboy', 'tegnologia', 'teknolojisini', 'tekstaanvulling', 'tel', 'tela', 'telara', 'tele', 'telecom', 'telefono', 'telefoon', 'telegraph', 'telephone', 'telerinonline', 'tell', 'telling', 'telljuicy', 'tellme', 'tells', 'telnummer', 'tem', 'tema', 'temas', 'temasek', 'tement', 'temor', 'temp', 'tempat', 'tempi', 'template', 'tempo', 'temporal', 'tempranitoo', 'tems', 'ten', 'tendencia', 'tender', 'tendr', 'tendremos', 'tendue', 'tenemos', 'tener', 'tenerte', 'tenes', 'tengaa', 'tengan', 'tengas', 'tengo', 'tengooo', 'tenho', 'tenia', 'tenias', 'tenido', 'teniia', 'tentar', 'tento', 'ter', 'terceiros', 'terdege', 'teresarod', 'teresitacc', 'termina', 'terminal', 'terminar', 'terminas', 'terminaux', 'termine', 'termino', 'terms', 'ternuritas', 'terpstra', 'terra', 'terrible', 'terror', 'terrystorch', 'tersangka', 'terug', 'teruk', 'tes', 'test', 'testam', 'tested', 'tester', 'testificar', 'testify', 'testimonials', 'testing', 'tests', 'tetap', 'tetdpp', 'tetn', 'teu', 'tewas', 'tewnhhuk', 'texas', 'text', 'texts', 'tfb', 'tferthomas', 'tfigidv', 'tfnrp', 'tfs', 'tg', 'tgx', 'th', 'tha', 'thai', 'thailand', 'than', 'thang', 'thank', 'thankful', 'thankfully', 'thanks', 'thanksfornothing', 'thanksgod', 'thankyou', 'thankyousteve', 'thanx', 'that', 'thats', 'thatsdisrespectful', 'thatsrealtalkin', 'thatstevegray', 'thattechguy', 'thbenkoe', 'the', 'theater', 'thebufferingnetwork', 'thecloudnetwork', 'thedroidguy', 'thee', 'theft', 'thegadgetshow', 'theinq', 'their', 'thejabberwockey', 'thejcurt', 'thejjmg', 'theleg', 'thelegionofthefallen', 'thelittleappkid', 'them', 'thema', 'themacmob', 'themarketaire', 'themattbruening', 'theme', 'themes', 'themselves', 'then', 'thenextweb', 'thenonsensepersists', 'theoldway', 'theoretically', 'theq', 'therapy', 'there', 'therealdwi', 'therealjedad', 'therealterica', 'therefore', 'theresamarosy', 'therock', 'thesavoia', 'these', 'thestreet', 'thetechcheck', 'thetecheye', 'thetinyjewelbox', 'theunlockr', 'they', 'thezerooftime', 'thhcv', 'thiagozito', 'thibaudd', 'thiel', 'thievingbastards', 'thigh', 'thing', 'things', 'thingsweallhate', 'thingswealllove', 'think', 'thinking', 'thinks', 'third', 'thirsty', 'this', 'thise', 'thisisdoyin', 'thisisyungfresh', 'thks', 'thnx', 'tho', 'thomas', 'thomasgoubin', 'thoo', 'thorn', 'thorough', 'those', 'though', 'thought', 'thoughtful', 'thoughts', 'thqsrbd', 'threads', 'threat', 'threaten', 'three', 'threw', 'throat', 'throne', 'through', 'throw', 'throws', 'thrxpr', 'tht', 'thuglife', 'thugs', 'thuis', 'thumbs', 'thumbsup', 'thunderbird', 'thunderbolt', 'thursday', 'thursdays', 'thus', 'thx', 'thxx', 'thyself', 'ti', 'tic', 'tica', 'tick', 'tidpahyc', 'tie', 'tied', 'tiempo', 'tienda', 'tiene', 'tienen', 'tienes', 'tienta', 'tiers', 'tiffanyk', 'tig', 'tiger', 'tighten', 'tigt', 'tijdrovend', 'til', 'tiles', 'till', 'tillg', 'tillh', 'tim', 'time', 'timecapsule', 'timed', 'timeline', 'times', 'timewarnercable', 'timing', 'timjwdowning', 'tin', 'tinha', 'tinkengil', 'tint', 'tintin', 'tinyt', 'tip', 'tipo', 'tipp', 'tipped', 'tips', 'tira', 'tiraderas', 'tired', 'tirxn', 'tita', 'titanes', 'titanic', 'title', 'titles', 'titrer', 'tittelen', 'tj', 'tja', 'tjcjaqfl', 'tjzscoal', 'tk', 'tkgcw', 'tkhmmy', 'tksz', 'tl', 'tlkin', 'tlkwhosd', 'tlmxcv', 'tlow', 'tlwr', 'tm', 'tmb', 'tmdfqre', 'tmghv', 'tmq', 'tmurucvw', 'tmw', 'tn', 'tnjuter', 'tnodvs', 'tnwl', 'tnxyuxva', 'to', 'tobillo', 'toch', 'tocomplicated', 'tod', 'toda', 'todas', 'todav', 'today', 'todd', 'todo', 'todos', 'toevoegen', 'together', 'toggle', 'togmpp', 'tok', 'told', 'toledo', 'tom', 'tomando', 'tomanoc', 'tomanocu', 'tomcastiglia', 'tomcolontonio', 'tomcruise', 'tomkeene', 'tommorrow', 'tommylee', 'tomorrow', 'ton', 'tonces', 'tone', 'tones', 'tonight', 'tonite', 'tons', 'tonybates', 'tonymicheal', 'tonytech', 'too', 'toocool', 'took', 'tool', 'toolbar', 'tools', 'top', 'topic', 'topsport', 'toptweets', 'torbenleuschner', 'torrent', 'tos', 'tosleepigo', 'tossing', 'tot', 'total', 'totally', 'totvs', 'touch', 'touched', 'touchf', 'touching', 'touchme', 'touchpoints', 'touchscreen', 'touchscreens', 'tough', 'toulouse', 'tour', 'tournament', 'tous', 'tout', 'toute', 'toutes', 'touts', 'tov', 'towards', 'towhat', 'town', 'townsend', 'towson', 'toy', 'toys', 'tpt', 'tqal', 'tqf', 'tqmsbdrx', 'tr', 'tra', 'trabado', 'trabaja', 'trabajan', 'trabajar', 'trabaje', 'trabajo', 'trabalhar', 'trabalho', 'track', 'tracking', 'trade', 'trademark', 'tradepromotion', 'traditional', 'traducidos', 'trae', 'traee', 'traen', 'traer', 'traffic', 'trafic', 'tragic', 'train', 'trainer', 'trainers', 'training', 'trainingen', 'traje', 'traject', 'tranquila', 'transactions', 'transcribirlo', 'transferir', 'transferred', 'transform', 'transformar', 'transici', 'transition', 'transitions', 'transj', 'translator', 'transmiten', 'transparentes', 'trapt', 'trash', 'trashes', 'trashier', 'trasteo', 'tratando', 'trava', 'travel', 'travisdommert', 'tre', 'treat', 'trecebits', 'tree', 'treiber', 'treinandolider', 'trem', 'trended', 'trending', 'trendingtopicmn', 'trendmicro', 'trends', 'trenuyf', 'tres', 'treuhand', 'treyhob', 'treyratcliff', 'trfnk', 'tri', 'trial', 'tribunale', 'tribune', 'tribute', 'trick', 'tricks', 'tried', 'tries', 'trip', 'triple', 'tripled', 'tripletown', 'triplingo', 'trippin', 'tripping', 'trisha', 'triste', 'trivia', 'troca', 'trocar', 'trojan', 'tron', 'tronman', 'troquei', 'tros', 'trots', 'trouble', 'troublemaker', 'trovarci', 'troy', 'troyhopson', 'trp', 'truck', 'trucs', 'true', 'truestory', 'truhlu', 'truly', 'trunfos', 'try', 'trying', 'tryladis', 'tryna', 'trynna', 'tsa', 'tsgcoihx', 'tshirts', 'tsk', 'tsql', 'tsyxwdkh', 'tt', 'tteunwmj', 'ttgycujs', 'ttinha', 'ttp', 'ttre', 'ttssalen', 'tu', 'tube', 'tudo', 'tuesday', 'tuexperto', 'tuit', 'tulos', 'tumbles', 'tumblr', 'tune', 'tuned', 'tunef', 'tunes', 'tunisie', 'tunisienews', 'turismo', 'turn', 'turned', 'turning', 'turns', 'turrets', 'tus', 'tussen', 'tuto', 'tutoriel', 'tuu', 'tuudo', 'tuvi', 'tuvieras', 'tv', 'tvbox', 'tvnewschick', 'tvnz', 'tvqmo', 'tw', 'twaeudbp', 'twalve', 'twandroid', 'twatter', 'tweeps', 'tweeqfr', 'tweet', 'tweetbarassment', 'tweetbot', 'tweetcaster', 'tweetdeck', 'tweetear', 'tweeted', 'tweeter', 'tweeting', 'tweetoff', 'tweetoftheday', 'tweets', 'tweetsmarter', 'tweezard', 'tweezardcom', 'twhistler', 'twic', 'twicam', 'twiceiphone', 'twidroyd', 'twikito', 'twinkleg', 'twit', 'twitches', 'twitgrap', 'twitoma', 'twitpeeps', 'twitpic', 'twittea', 'twittear', 'twitter', 'twitterapp', 'twitterapps', 'twitterdeity', 'twitterer', 'twitterjail', 'twitterless', 'twitterloze', 'twittermilestone', 'twitternation', 'twittero', 'twitteroff', 'twitterpeopleiwouldliketomeet', 'twitterrookie', 'twitters', 'twitterswag', 'twittertime', 'twittertip', 'twittertweeters', 'twittoma', 'twittos', 'twitts', 'twitwhore', 'twizjgbr', 'two', 'twoja', 'tx', 'txheoine', 'txm', 'txnkgfzl', 'txt', 'txts', 'txy', 'ty', 'tyadzhqx', 'tyfusverspreiding', 'tyg', 'tyh', 'tyjugsnq', 'tylermatheison', 'tym', 'typ', 'type', 'typebuilder', 'typed', 'types', 'typing', 'tz', 'tzblegaq', 'tzenswerte', 'tzigd', 'tzj', 'tzk', 'tzm', 'tzn', 'tzp', 'tzvjaqli', 'uabpp', 'uac', 'uahsuahsuasa', 'ualc', 'uaqrxtnk', 'uawhbolz', 'ub', 'ubaque', 'uber', 'ubersocial', 'ubersoical', 'ubisys', 'ubodi', 'ubuntu', 'uc', 'ucd', 'ucexpo', 'uch', 'ucoms', 'ud', 'udkgr', 'udloqfsa', 'udz', 'ue', 'uecqhl', 'uecurydx', 'ueeq', 'uefi', 'uepatrzx', 'uepm', 'uf', 'ufed', 'uff', 'ufff', 'ufi', 'ug', 'uggiev', 'ugh', 'ughh', 'ugly', 'ugptuucz', 'ugqq', 'ugsbdxqm', 'ugurlu', 'ugy', 'ugzvjmmr', 'uh', 'uhka', 'uhmnwdg', 'uhmw', 'uhr', 'uhrmi', 'uhslqii', 'uhstepz', 'uhuruoooo', 'ui', 'uick', 'uii', 'uiiii', 'uimr', 'uit', 'uitbouwen', 'uitdagende', 'uitgehaald', 'uiwn', 'uj', 'ujivd', 'ujn', 'ujozd', 'ujq', 'uk', 'ukg', 'ukwokbgd', 'ukxnzpyq', 'ul', 'ulapk', 'ulchky', 'ulforthewin', 'ull', 'ulteriore', 'ultiem', 'ultimate', 'ultimo', 'ultimooos', 'um', 'uma', 'umber', 'umbgxvqi', 'umbrellas', 'umd', 'umdnews', 'umelink', 'umm', 'ummfz', 'umobolne', 'umrmro', 'umsatzgarantien', 'umweltverschmutzung', 'un', 'una', 'unable', 'unauthorized', 'unbelievable', 'unblocked', 'unblocker', 'unborn', 'uncategorized', 'unconventional', 'und', 'undecided', 'under', 'undergo', 'underlying', 'underplayed', 'underrated', 'underscore', 'understand', 'underwhelming', 'undo', 'undoubtedly', 'une', 'unen', 'unerwartetem', 'unexpected', 'unfair', 'unfkqpaj', 'unfollow', 'unfollowing', 'unfollows', 'unfortunately', 'unhappy', 'unhb', 'unico', 'unidades', 'unidos', 'unified', 'uninsw', 'unipamplona', 'unique', 'uniquegens', 'unites', 'units', 'universe', 'universidad', 'universit', 'university', 'unkaboggable', 'unknown', 'unladen', 'unless', 'unlike', 'unlock', 'unlocked', 'unlocking', 'unlocks', 'unmindful', 'uno', 'unos', 'unproductive', 'unquality', 'unreal', 'uns', 'unter', 'unterst', 'untersuchung', 'until', 'untill', 'unveil', 'unveiled', 'unveiling', 'unveils', 'unwanted', 'unwrapping', 'uof', 'uoifnklj', 'uol', 'uolayiea', 'uopsylto', 'uou', 'up', 'upcoming', 'upcomingparty', 'update', 'updated', 'updater', 'updates', 'updating', 'upg', 'upgrade', 'upgraded', 'upgraden', 'upgrades', 'upgrading', 'uphill', 'upload', 'ups', 'upset', 'upsidedown', 'upstairs', 'uqghsamj', 'uqmiqbbt', 'ur', 'url', 'urlare', 'urls', 'uruchomi', 'urwelcome', 'urxjixce', 'us', 'usa', 'usabilidade', 'usable', 'usada', 'usage', 'usagi', 'usan', 'usando', 'usar', 'usara', 'usarlo', 'usas', 'usato', 'usava', 'usb', 'uschend', 'usdor', 'use', 'used', 'useful', 'useless', 'user', 'useragent', 'users', 'uses', 'using', 'usnya', 'uso', 'usoandroid', 'ustan', 'usted', 'ustedes', 'usual', 'usuario', 'usuarios', 'utbpxrsj', 'uthuuecj', 'util', 'utilis', 'utilisateurs', 'utilisation', 'utilities', 'utility', 'utiliza', 'utilizado', 'utilizando', 'utilizar', 'utilizas', 'utilizza', 'utmhyifd', 'utpqa', 'utter', 'utterly', 'utu', 'uu', 'uuchas', 'uud', 'uuw', 'uuz', 'uuzhimgv', 'uvgb', 'uvyjxgsv', 'uwd', 'uweyalkb', 'uwx', 'ux', 'uxawkwf', 'uxfa', 'uxm', 'uxnwi', 'uxwvh', 'uy', 'uybxd', 'uydnz', 'uyizeak', 'uz', 'uzanhd', 'uzi', 'va', 'vab', 'vacaciones', 'vacature', 'vacatures', 'vacia', 'vacilar', 'vad', 'vader', 'vadvkmsk', 'vagina', 'vai', 'vain', 'vajwd', 'vale', 'valelokas', 'validated', 'valley', 'valorada', 'valore', 'valuable', 'values', 'vam', 'vamos', 'van', 'vancouver', 'vandaag', 'vanee', 'vanillalatte', 'vanmiddag', 'var', 'varf', 'variety', 'varios', 'varon', 'vars', 'vas', 'vast', 'vastloopt', 'vat', 'vattam', 'vaya', 'vaydredn', 'vb', 'vba', 'vbcglgp', 'vbcl', 'vbr', 'vc', 'vciuzgl', 'vcs', 'vcugqz', 'vd', 'vdd', 'vdhjkydn', 'vdyd', 've', 'vea', 'vean', 'veces', 'vecmsahq', 'veeam', 'veel', 'vegas', 'vegascharlieb', 'vegkjifq', 'vehicle', 'veicot', 'vejam', 'vejo', 'vekuzr', 'vel', 'velho', 'velmtzns', 'velocidade', 'veloppement', 'vemos', 'vend', 'vende', 'vender', 'vendeurs', 'vendido', 'vendidos', 'vendo', 'vendor', 'vendors', 'vendroid', 'venezuela', 'venite', 'ventas', 'venturebeat', 'ventures', 'veo', 'ver', 'vera', 'verbe', 'verbessern', 'verbraucher', 'verdad', 'verdd', 'verder', 'verdient', 'veremos', 'verf', 'verge', 'vergones', 'vergrootglas', 'verhaal', 'verizon', 'verizonwireless', 'verkaufspezialist', 'verkocht', 'verkoop', 'verl', 'verleden', 'verloren', 'vernieuwend', 'veroturismo', 'verrouillage', 'vers', 'verschl', 'verschmutzung', 'verschwunde', 'verses', 'version', 'versjon', 'verspricht', 'versus', 'verte', 'vertical', 'verwachtingovertreffen', 'verwaltungs', 'verwandelt', 'very', 'verzoek', 'ves', 'veteran', 'vez', 'vf', 'vfacebook', 'vfc', 'vfmh', 'vfp', 'vfzrtkaa', 'vg', 'vgcotk', 'vgghf', 'vgmydlds', 'vgsf', 'vgubrzyn', 'vh', 'vhnl', 'vhntgols', 'vi', 'via', 'vibrar', 'vibrate', 'vibrating', 'vibro', 'vic', 'vicariously', 'vice', 'viciada', 'viciados', 'vicio', 'vicioooooo', 'victim', 'victima', 'victims', 'victoires', 'victor', 'victorafrosan', 'vid', 'vida', 'video', 'videoconferencing', 'videohovory', 'videollamada', 'videos', 'vidio', 'vie', 'viel', 'viendo', 'viene', 'viens', 'vieron', 'view', 'views', 'vijinite', 'vil', 'viles', 'village', 'villes', 'vimwl', 'vincemayfield', 'vincent', 'vinda', 'vinnymartiins', 'vinodrad', 'viny', 'violated', 'violence', 'vior', 'vip', 'virage', 'virginity', 'virgojud', 'virtual', 'virtualfat', 'virtualisation', 'virtualiza', 'virtualization', 'virtualsystem', 'virtuels', 'virus', 'vis', 'visi', 'visibility', 'visibles', 'visigoth', 'vision', 'visionnaire', 'visionner', 'visit', 'visitadaaa', 'visite', 'viss', 'visse', 'vista', 'vistazo', 'viste', 'visto', 'visual', 'visualiza', 'visualstudio', 'vital', 'vittoria', 'viu', 'viva', 'vivablackberry', 'vive', 'vivido', 'vivir', 'vivistephiee', 'viy', 'vj', 'vjbbjwhe', 'vjl', 'vjrssfyn', 'vk', 'vkfnwmtj', 'vkjwatsr', 'vkq', 'vkrp', 'vkv', 'vkxg', 'vkyyy', 'vlad', 'vlieg', 'vlingo', 'vll', 'vm', 'vmax', 'vmi', 'vms', 'vmware', 'vmworld', 'vmzshhuq', 'vn', 'vnaff', 'vnd', 'vngazg', 'vnnkrfs', 'vo', 'voc', 'vocabb', 'vocale', 'voce', 'vodi', 'vodka', 'voglio', 'voh', 'voi', 'voice', 'voicecontrol', 'voicemail', 'voicemails', 'voices', 'voici', 'voii', 'voil', 'voile', 'voip', 'voir', 'vol', 'volgende', 'volgens', 'volta', 'volto', 'voltoo', 'volume', 'volver', 'volviendose', 'volviiendoo', 'vom', 'vomitarlas', 'von', 'vonjhtje', 'voo', 'voor', 'voou', 'vooz', 'vor', 'vorbereitet', 'vorgestellt', 'vorstellung', 'vorte', 'vorteil', 'vortrag', 'vos', 'voss', 'vote', 'votes', 'votlsnfx', 'votos', 'votre', 'vou', 'vouched', 'voucher', 'voudrais', 'voulez', 'vous', 'voy', 'voz', 'vp', 'vpqoyxwa', 'vpxanjtz', 'vqkj', 'vqqqaby', 'vqueoske', 'vr', 'vraag', 'vraagt', 'vrai', 'vrauo', 'vrfosqtb', 'vrgj', 'vrij', 'vrk', 'vs', 'vsaszyt', 'vsf', 'vshport', 'vslive', 'vsmkdm', 'vsmm', 'vsphere', 'vsypl', 'vt', 'vtdrm', 'vtg', 'vthsv', 'vtp', 'vtx', 'vtybqi', 'vu', 'vudk', 'vuelta', 'vuelto', 'vuelva', 'vuelve', 'vuelvo', 'vulnerability', 'vuoi', 'vusala', 'vuwgyx', 'vuyxwrxw', 'vuzmzezv', 'vv', 'vvasluma', 'vvg', 'vwaiqdlt', 'vwciov', 'vwhpxkvp', 'vwlzj', 'vwpua', 'vwxzrew', 'vxcv', 'vxmno', 'vxrnf', 'vxsruu', 'vxxe', 'vy', 'vya', 'vyntu', 'vyxqubjg', 'vyyasbm', 'vzfuv', 'vzicdhfw', 'vzkedzac', 'vzqgn', 'vzsixpy', 'vzug', 'vzx', 'wa', 'waaaaay', 'waaaay', 'waar', 'waardeloos', 'waardering', 'waardevolle', 'waba', 'wack', 'wad', 'waddya', 'waffel', 'wahooly', 'wait', 'waited', 'waiting', 'waj', 'wake', 'waking', 'walk', 'walked', 'wall', 'walled', 'wallet', 'wallpaper', 'walls', 'wank', 'wanna', 'wannabe', 'want', 'wanted', 'wanting', 'wants', 'war', 'ware', 'warfare', 'warm', 'warning', 'warns', 'warranty', 'warrenwhitlock', 'wars', 'warum', 'wary', 'was', 'wasalu', 'wash', 'washer', 'washington', 'washingtonpost', 'wasn', 'wass', 'wassup', 'waste', 'wasted', 'wasting', 'wat', 'watch', 'watchdog', 'watched', 'watchin', 'watching', 'water', 'watson', 'wauw', 'wave', 'way', 'wayne', 'waynp', 'ways', 'waz', 'waze', 'wbasinger', 'wbiy', 'wbqmc', 'wc', 'wd', 'wdcjldz', 'wdhfz', 'wdlhzsza', 'wdpnvdr', 'wdsw', 'we', 'weaken', 'wear', 'wearable', 'weather', 'web', 'webcam', 'webcamps', 'webcast', 'webespacio', 'webex', 'webgl', 'webhosting', 'webhostingcoupon', 'webinar', 'webmaster', 'webmatrix', 'webos', 'webpage', 'webpronews', 'webseoanalytics', 'webservice', 'webshop', 'website', 'websitespark', 'webstandardat', 'webwinkel', 'wecker', 'wednesday', 'wedpbcpx', 'week', 'weekend', 'weekly', 'weep', 'weer', 'weetapplehetaltijdbeter', 'weg', 'weil', 'weird', 'weirdo', 'weirdosrunshit', 'weiterhin', 'wej', 'wel', 'welchen', 'welcome', 'welcomee', 'welcomes', 'welcomeskype', 'welcometotwitter', 'welcum', 'well', 'wellis', 'welp', 'welt', 'wen', 'wendywilliams', 'wenig', 'wenn', 'went', 'wer', 'werd', 'were', 'weren', 'weres', 'werk', 'werkelijk', 'werken', 'wesle', 'wesleybackelant', 'west', 'weten', 'wethepeople', 'wevatotal', 'wex', 'wf', 'wfjxlkhe', 'wfoopx', 'wfrui', 'wfrzkysn', 'wfssexks', 'wfywl', 'wg', 'wgjl', 'wgjyto', 'wgr', 'wgrmnypi', 'wh', 'whaddupwitdat', 'whale', 'what', 'whatchu', 'whats', 'whatsapp', 'whatuphoe', 'whdraqo', 'wheat', 'wheel', 'when', 'whenever', 'wheniwas', 'whens', 'where', 'whether', 'whhmak', 'whhyy', 'whi', 'which', 'while', 'white', 'whms', 'who', 'whoa', 'whoever', 'whole', 'whoops', 'whore', 'whores', 'whoring', 'whrox', 'wht', 'whts', 'why', 'whymicrosoft', 'whymsft', 'wi', 'wiadomosci', 'wibbwi', 'wichtigste', 'wid', 'wide', 'widget', 'widgets', 'wie', 'wieder', 'wien', 'wife', 'wifi', 'wififofum', 'wii', 'wikileaks', 'wikipedia', 'wil', 'wild', 'wilko', 'will', 'william', 'williams', 'willing', 'willkommen', 'willprovide', 'wilth', 'wimxvtlb', 'win', 'winbetadotorg', 'window', 'windows', 'windowsazure', 'windowsblog', 'windowsespana', 'windowsfrance', 'windowslivebook', 'windowsphone', 'windowsxp', 'windowsxphomesoftware', 'winklrsprinklr', 'winnaar', 'winner', 'winners', 'winning', 'winningwithel', 'winnipeg', 'winrt', 'winrumors', 'wins', 'wiped', 'wir', 'wird', 'wired', 'wireddoo', 'wiredinsider', 'wireditalia', 'wireless', 'wirelesskeyboardandmouse', 'wisconsin', 'wise', 'wisely', 'wish', 'wished', 'wishh', 'wishing', 'wissekomm', 'wisten', 'wit', 'witchcraft', 'with', 'within', 'without', 'witnessing', 'wiz', 'wj', 'wjab', 'wjccdiab', 'wjjbq', 'wjq', 'wjwrefjj', 'wk', 'wkioxc', 'wkmrctl', 'wl', 'wld', 'wlkvg', 'wm', 'wma', 'wmcxwysh', 'wmi', 'wmm', 'wmp', 'wmqnpclv', 'wmy', 'wnchmi', 'wnfmqnw', 'wny', 'wo', 'woke', 'wom', 'woman', 'women', 'won', 'wonder', 'wonderful', 'wondering', 'wonderlaura', 'wong', 'wonky', 'wont', 'wooden', 'woods', 'woon', 'wooooow', 'woooow', 'word', 'wordd', 'worden', 'wordperfect', 'wordpress', 'words', 'wordswfriends', 'wordt', 'work', 'worked', 'workers', 'workflow', 'workflows', 'workforce', 'working', 'workload', 'works', 'workshop', 'workshops', 'workspace', 'workstation', 'world', 'worldrecession', 'worlds', 'worldwide', 'worried', 'worries', 'worry', 'worse', 'worst', 'worstupdateever', 'worth', 'woujuh', 'would', 'wouldn', 'wouldnt', 'wounded', 'wow', 'wowo', 'wowww', 'woz', 'wp', 'wpcentral', 'wpdesignteam', 'wpdev', 'wpltbvs', 'wpo', 'wps', 'wpt', 'wqh', 'wqqv', 'wr', 'wrestler', 'wristpad', 'write', 'writer', 'writeychap', 'writing', 'wrong', 'wrr', 'wrycut', 'ws', 'wseou', 'wsfevvd', 'wsgk', 'wspsandiego', 'wspwest', 'wstein', 'wsx', 'wt', 'wtce', 'wtf', 'wtfh', 'wth', 'wtj', 'wtjix', 'wtvvz', 'wu', 'wueba', 'wuf', 'wuhu', 'wunmsql', 'wunschdenken', 'wunt', 'wuppy', 'wurde', 'wus', 'wv', 'wvn', 'wvr', 'wvzprbci', 'ww', 'wwdy', 'wwj', 'wwnz', 'wwrycm', 'wws', 'wwsyxabn', 'www', 'wwwaaooooo', 'wx', 'wxbc', 'wxhb', 'wxpch', 'wxvqb', 'wyd', 'wyhjuoqr', 'wym', 'wymfplcs', 'wypw', 'wyszukuj', 'wz', 'wzvxnz', 'xa', 'xaijb', 'xakls', 'xataka', 'xatakamovil', 'xau', 'xaxnopo', 'xbd', 'xbl', 'xbla', 'xbmjupmq', 'xbox', 'xboxlive', 'xboxygen', 'xcb', 'xcow', 'xcuntnuggetx', 'xd', 'xdd', 'xddxn', 'xdfqrs', 'xdtdzurd', 'xdxcwsar', 'xe', 'xekwtlug', 'xenophin', 'xenszcjh', 'xero', 'xew', 'xeyirli', 'xezz', 'xf', 'xfg', 'xfzicbqo', 'xg', 'xgf', 'xghcsgx', 'xghoev', 'xgk', 'xgqgm', 'xgurxnpa', 'xh', 'xhbckq', 'xhrua', 'xhvncznb', 'xico', 'xids', 'xijyuohz', 'xima', 'xing', 'xiq', 'xito', 'xitos', 'xj', 'xjle', 'xjmqmv', 'xjtcc', 'xjuwsszs', 'xjw', 'xjzalcs', 'xk', 'xkavtom', 'xkdxt', 'xkh', 'xkmsfs', 'xkq', 'xkz', 'xli', 'xljbygis', 'xlsu', 'xltt', 'xm', 'xmas', 'xmbzbuk', 'xmf', 'xmgk', 'xml', 'xmnz', 'xmrzvkav', 'xncmtwwb', 'xnj', 'xnk', 'xnkwgxme', 'xnz', 'xo', 'xocy', 'xokyqn', 'xolrauey', 'xomlcegl', 'xonkg', 'xop', 'xoql', 'xp', 'xpb', 'xpghlc', 'xpiaz', 'xq', 'xqr', 'xqwsp', 'xqxp', 'xrvolume', 'xsiydnqu', 'xsjgifop', 'xsl', 'xt', 'xtqv', 'xtzmpsmt', 'xu', 'xuepaar', 'xuuxinha', 'xv', 'xvaz', 'xvcch', 'xvdm', 'xvk', 'xvoncbeb', 'xvx', 'xw', 'xwc', 'xwm', 'xwordy', 'xwwn', 'xx', 'xxtfy', 'xy', 'xyad', 'xydp', 'xym', 'xywfxsdl', 'xyz', 'xz', 'xzgtwfx', 'xzor', 'xzsur', 'xzt', 'xzxmhuuu', 'ya', 'yaaa', 'yaaaaaaaay', 'yafacy', 'yahaan', 'yahoo', 'yahooanswers', 'yahoofinance', 'yahoos', 'yaksys', 'yal', 'yall', 'yang', 'yankees', 'yapping', 'yashasjoshi', 'yasserdvm', 'yb', 'yca', 'ycaff', 'ycdnt', 'ycf', 'ycscg', 'ycwl', 'ycxco', 'yd', 'ydfe', 'ydh', 'ydlrs', 'ydof', 'ydqcn', 'ydsnrbx', 'ye', 'yea', 'yeah', 'yeahh', 'year', 'yearly', 'years', 'yeaxvp', 'yee', 'yegge', 'yeh', 'yel', 'yellow', 'yellowgate', 'yellowpages', 'yelp', 'yeni', 'yenilik', 'yeo', 'yep', 'yerson', 'yes', 'yesenia', 'yesplease', 'yesss', 'yessss', 'yesterday', 'yet', 'yevwfl', 'yf', 'yfamgurf', 'yffsy', 'yfwf', 'yfzvoxs', 'yg', 'ygiso', 'yglyrzwj', 'ygmidiiw', 'ygpnusfv', 'ygu', 'yhhr', 'yhoo', 'yi', 'yibumsuk', 'yidlr', 'yie', 'yields', 'yim', 'yiucdw', 'yj', 'yjb', 'yjtfy', 'yjwd', 'yk', 'ykchtu', 'ykfjla', 'ykiftufx', 'ykqip', 'yla', 'ylf', 'yll', 'yllitfat', 'ylrl', 'ylvjazxz', 'ylvu', 'ym', 'ymn', 'ymntcikg', 'ymwess', 'yn', 'yng', 'ynjotwpi', 'ynkseeun', 'ynlqck', 'ynqy', 'ynzvre', 'yo', 'yoarin', 'yoconfieso', 'yojimbo', 'yonopienso', 'yoo', 'yooo', 'yoooo', 'yooooo', 'yooooooo', 'yootfktm', 'yor', 'you', 'youmoz', 'young', 'youngbasedsonic', 'your', 'yourbrowsermatters', 'yourdaysarenumbered', 'yourlameashell', 'yours', 'yourself', 'yousendit', 'youth', 'youtu', 'youtube', 'youuuuuuuuuuuu', 'yovotopor', 'yoxdu', 'yozd', 'yp', 'ypb', 'ypergaf', 'ypf', 'ypm', 'yptcbeon', 'ypzlts', 'yqekdzg', 'yqh', 'yqynjbdy', 'yr', 'yrckqeis', 'yrs', 'yryifh', 'ys', 'ysi', 'yt', 'ytn', 'ytnbl', 'ytq', 'ytx', 'ytyl', 'yu', 'yue', 'yumad', 'yummy', 'yumyumyum', 'yup', 'yurh', 'yuvalariav', 'yuvalz', 'yuydxo', 'yuyg', 'yvandavid', 'yvjmhnq', 'yvwrw', 'yvxmwibi', 'ywfnsv', 'ywq', 'ywtvgwjy', 'ywvbe', 'yx', 'yy', 'yyc', 'yycezpdy', 'yynzsp', 'yyu', 'yywhy', 'yz', 'yzhcdgfp', 'yziwv', 'yzlpogxb', 'yzs', 'za', 'zaaaat', 'zaakgericht', 'zaarly', 'zacksiam', 'zacksiezmagraff', 'zaelukm', 'zahlreichen', 'zaibatsu', 'zal', 'zamodz', 'zanedbateln', 'zapatero', 'zappos', 'zapptek', 'zat', 'zatzhkp', 'zay', 'zbi', 'zbltz', 'zbot', 'zbr', 'zbzlmwo', 'zcdtjyrp', 'zcevlb', 'zchv', 'zcq', 'zd', 'zdnet', 'ze', 'zeer', 'zeevh', 'zeg', 'zeggar', 'zegnaofficial', 'zegt', 'zeichen', 'zeigt', 'zeker', 'zekibildirici', 'zelf', 'zelfstandig', 'zero', 'zetes', 'zeyleri', 'zezsin', 'zfpo', 'zgak', 'zgbk', 'zgfsehao', 'zhgyinii', 'zhyegwaz', 'zia', 'zichtbaar', 'zie', 'ziemlich', 'zien', 'ziet', 'zij', 'zijn', 'ziou', 'zite', 'zixfa', 'zj', 'zjb', 'zjf', 'zjlsx', 'zjmhbph', 'zk', 'zkn', 'zkuz', 'zl', 'zla', 'zlwa', 'zm', 'zmd', 'zmppo', 'zmu', 'zmx', 'znaf', 'znamen', 'zndp', 'znfytk', 'znj', 'znpyad', 'zo', 'zoals', 'zoek', 'zoekdiensten', 'zoeken', 'zogecner', 'zollikon', 'zombiebomber', 'zombienpndejs', 'zombies', 'zomg', 'zonabinaria', 'zonaredcom', 'zoo', 'zoom', 'zorgloob', 'zou', 'zover', 'zozr', 'zpfge', 'zpznmwve', 'zqcgx', 'zqkmkq', 'zqmpyp', 'zqny', 'zrbak', 'zre', 'zrhm', 'zrhxnvd', 'zrqoewxi', 'zryndhdi', 'zsfuv', 'ztcy', 'zthaedigital', 'ztje', 'ztq', 'zttnvv', 'zu', 'zubrpe', 'zuckerberg', 'zufolge', 'zug', 'zuk', 'zul', 'zulieferer', 'zum', 'zune', 'zv', 'zvitaly', 'zvm', 'zvzxxzul', 'zwaktebod', 'zwdhuk', 'zwecwhd', 'zwolle', 'zwqwpdq', 'zwsufuez', 'zx', 'zxfeb', 'zxwmatxn', 'zxyaunaq', 'zy', 'zyetras', 'zyker', 'zynga', 'zz', 'zzc', 'zzk', 'zzkv', 'zzp', 'zzruwrsk', 'zzzzzzzzzzz', 'zzzzzzzzzzzz', 'zzzzzzzzzzzzzzzzzzzz']\n",
            "[[0 0 0 ... 0 0 0]\n",
            " [0 0 0 ... 0 0 0]\n",
            " [0 0 0 ... 0 0 0]\n",
            " ...\n",
            " [0 0 0 ... 0 0 0]\n",
            " [0 0 0 ... 0 0 0]\n",
            " [0 0 0 ... 0 0 0]]\n"
          ],
          "name": "stdout"
        }
      ]
    },
    {
      "cell_type": "code",
      "metadata": {
        "id": "-YJxtGQqvONo",
        "colab_type": "code",
        "colab": {}
      },
      "source": [
        "df = pd.DataFrame(X.toarray(),columns=(vectorizer.get_feature_names()))"
      ],
      "execution_count": 0,
      "outputs": []
    },
    {
      "cell_type": "code",
      "metadata": {
        "id": "8HukrTLlvWhw",
        "colab_type": "code",
        "colab": {}
      },
      "source": [
        "y = twitter['Sentiment']"
      ],
      "execution_count": 0,
      "outputs": []
    },
    {
      "cell_type": "code",
      "metadata": {
        "id": "cgGCBPcnvfZE",
        "colab_type": "code",
        "colab": {}
      },
      "source": [
        "from sklearn.model_selection import train_test_split as tts\n",
        "from sklearn.ensemble import RandomForestClassifier\n",
        "from sklearn.metrics import accuracy_score, roc_auc_score"
      ],
      "execution_count": 0,
      "outputs": []
    },
    {
      "cell_type": "code",
      "metadata": {
        "id": "Cj3VEocavbQO",
        "colab_type": "code",
        "colab": {}
      },
      "source": [
        "x_train, x_test, y_train, y_test = tts(X, y, test_size=0.30, random_state=42)"
      ],
      "execution_count": 0,
      "outputs": []
    },
    {
      "cell_type": "code",
      "metadata": {
        "id": "5wX20GGLvvcB",
        "colab_type": "code",
        "colab": {}
      },
      "source": [
        "RFC = RandomForestClassifier()\n",
        "RFC.fit(x_train, y_train)\n",
        "y_pred = RFC.predict(x_test)"
      ],
      "execution_count": 0,
      "outputs": []
    },
    {
      "cell_type": "code",
      "metadata": {
        "id": "kGd6AoShwaYC",
        "colab_type": "code",
        "colab": {
          "base_uri": "https://localhost:8080/",
          "height": 34
        },
        "outputId": "de3e80cf-bb12-43c0-8bfc-7abb964784dc"
      },
      "source": [
        "print(accuracy_score(y_pred, y_test))"
      ],
      "execution_count": 22,
      "outputs": [
        {
          "output_type": "stream",
          "text": [
            "0.7522816166883963\n"
          ],
          "name": "stdout"
        }
      ]
    },
    {
      "cell_type": "code",
      "metadata": {
        "id": "VpzW0d7uwleV",
        "colab_type": "code",
        "colab": {
          "base_uri": "https://localhost:8080/",
          "height": 34
        },
        "outputId": "3685023a-ff84-4ca5-bce3-a5c996585728"
      },
      "source": [
        "y_pred[0]"
      ],
      "execution_count": 24,
      "outputs": [
        {
          "output_type": "execute_result",
          "data": {
            "text/plain": [
              "'neutral'"
            ]
          },
          "metadata": {
            "tags": []
          },
          "execution_count": 24
        }
      ]
    },
    {
      "cell_type": "code",
      "metadata": {
        "id": "gbOBYONwvmiT",
        "colab_type": "code",
        "colab": {}
      },
      "source": [
        "from sklearn.preprocessing import LabelEncoder, LabelBinarizer"
      ],
      "execution_count": 0,
      "outputs": []
    },
    {
      "cell_type": "code",
      "metadata": {
        "id": "L1Jk2t5vw07O",
        "colab_type": "code",
        "colab": {}
      },
      "source": [
        "def score(y_test, y_pred, average='macro'):\n",
        "  LB = LabelBinarizer()\n",
        "  LB.fit(y_test)\n",
        "  y_test = LB.transform(y_test)\n",
        "  y_pred = LB.transform(y_pred)\n",
        "  return roc_auc_score(y_test, y_pred, average=average)"
      ],
      "execution_count": 0,
      "outputs": []
    },
    {
      "cell_type": "code",
      "metadata": {
        "id": "oiqVoXZ_w6Xo",
        "colab_type": "code",
        "colab": {
          "base_uri": "https://localhost:8080/",
          "height": 34
        },
        "outputId": "754b1368-a637-40bd-94a4-71f8aa213b95"
      },
      "source": [
        "score(y_pred, y_test)"
      ],
      "execution_count": 30,
      "outputs": [
        {
          "output_type": "execute_result",
          "data": {
            "text/plain": [
              "0.8699866192768626"
            ]
          },
          "metadata": {
            "tags": []
          },
          "execution_count": 30
        }
      ]
    },
    {
      "cell_type": "code",
      "metadata": {
        "id": "ti-TLeeCxDRZ",
        "colab_type": "code",
        "colab": {
          "base_uri": "https://localhost:8080/",
          "height": 134
        },
        "outputId": "3ec73f9f-2718-43c0-a8c8-749c54fa2be3"
      },
      "source": [
        "LE = LabelEncoder()\n",
        "y_test = LE.fit_transform(y_test)\n",
        "\n",
        "pred_prob = RFC.predict_proba(x_test)\n",
        "pred_prob"
      ],
      "execution_count": 34,
      "outputs": [
        {
          "output_type": "execute_result",
          "data": {
            "text/plain": [
              "array([[0.21489538, 0.01      , 0.77510462, 0.        ],\n",
              "       [0.08      , 0.09      , 0.58      , 0.25      ],\n",
              "       [0.02      , 0.        , 0.98      , 0.        ],\n",
              "       ...,\n",
              "       [0.29      , 0.03      , 0.64      , 0.04      ],\n",
              "       [0.05      , 0.14      , 0.64      , 0.17      ],\n",
              "       [0.09      , 0.01      , 0.82      , 0.08      ]])"
            ]
          },
          "metadata": {
            "tags": []
          },
          "execution_count": 34
        }
      ]
    },
    {
      "cell_type": "code",
      "metadata": {
        "id": "Bz_jRlJNxRQN",
        "colab_type": "code",
        "colab": {}
      },
      "source": [
        "def threshold_6(array):\n",
        "  a = []\n",
        "  for i in range(len(array)):\n",
        "    if max(array[i])>0.6:\n",
        "      a.append(np.argmax(array[i]))\n",
        "    else:\n",
        "      a.append(2)\n",
        "  return a"
      ],
      "execution_count": 0,
      "outputs": []
    },
    {
      "cell_type": "code",
      "metadata": {
        "id": "Msrs6S6ExsAk",
        "colab_type": "code",
        "colab": {}
      },
      "source": [
        "from sklearn.metrics import  classification_report"
      ],
      "execution_count": 0,
      "outputs": []
    },
    {
      "cell_type": "code",
      "metadata": {
        "id": "QJZwTSFgx2z4",
        "colab_type": "code",
        "colab": {
          "base_uri": "https://localhost:8080/",
          "height": 269
        },
        "outputId": "a7caa9d7-9bac-46bc-d73c-005f96d45388"
      },
      "source": [
        "print(classification_report((threshold_6(pred_prob)),y_test))\n",
        "print('\\n\\n')\n",
        "score(threshold_6(pred_prob),y_test)"
      ],
      "execution_count": 39,
      "outputs": [
        {
          "output_type": "stream",
          "text": [
            "              precision    recall  f1-score   support\n",
            "\n",
            "           0       0.78      0.92      0.84       415\n",
            "           1       0.10      0.95      0.18        19\n",
            "           2       0.96      0.63      0.76      1087\n",
            "           3       0.09      1.00      0.17        13\n",
            "\n",
            "    accuracy                           0.72      1534\n",
            "   macro avg       0.48      0.87      0.49      1534\n",
            "weighted avg       0.89      0.72      0.77      1534\n",
            "\n",
            "\n",
            "\n",
            "\n"
          ],
          "name": "stdout"
        },
        {
          "output_type": "execute_result",
          "data": {
            "text/plain": [
              "0.8922181679827811"
            ]
          },
          "metadata": {
            "tags": []
          },
          "execution_count": 39
        }
      ]
    },
    {
      "cell_type": "code",
      "metadata": {
        "id": "iaQerm7Wx_9x",
        "colab_type": "code",
        "colab": {}
      },
      "source": [
        "def threshold_7(array):\n",
        "  a = []\n",
        "  for i in range(len(array)):\n",
        "    if max(array[i])>0.7:\n",
        "      a.append(np.argmax(array[i]))\n",
        "    else:\n",
        "      a.append(2)\n",
        "  return a"
      ],
      "execution_count": 0,
      "outputs": []
    },
    {
      "cell_type": "code",
      "metadata": {
        "id": "SZji80j3y2LV",
        "colab_type": "code",
        "colab": {
          "base_uri": "https://localhost:8080/",
          "height": 269
        },
        "outputId": "e17eb86a-801e-4e62-e83a-9ae061398191"
      },
      "source": [
        "print(classification_report((threshold_7(pred_prob)),y_test))\n",
        "print('\\n\\n')\n",
        "score(threshold_7(pred_prob),y_test)"
      ],
      "execution_count": 42,
      "outputs": [
        {
          "output_type": "stream",
          "text": [
            "              precision    recall  f1-score   support\n",
            "\n",
            "           0       0.69      0.94      0.80       360\n",
            "           1       0.04      0.88      0.07         8\n",
            "           2       0.97      0.60      0.74      1159\n",
            "           3       0.05      1.00      0.09         7\n",
            "\n",
            "    accuracy                           0.69      1534\n",
            "   macro avg       0.44      0.86      0.43      1534\n",
            "weighted avg       0.90      0.69      0.75      1534\n",
            "\n",
            "\n",
            "\n",
            "\n"
          ],
          "name": "stdout"
        },
        {
          "output_type": "execute_result",
          "data": {
            "text/plain": [
              "0.8798366757818918"
            ]
          },
          "metadata": {
            "tags": []
          },
          "execution_count": 42
        }
      ]
    },
    {
      "cell_type": "code",
      "metadata": {
        "id": "5efBPtEuy50e",
        "colab_type": "code",
        "colab": {}
      },
      "source": [
        "def threshold_8(array):\n",
        "  a = []\n",
        "  for i in range(len(array)):\n",
        "    if max(array[i])>0.8:\n",
        "      a.append(np.argmax(array[i]))\n",
        "    else:\n",
        "      a.append(2)\n",
        "  return a"
      ],
      "execution_count": 0,
      "outputs": []
    },
    {
      "cell_type": "code",
      "metadata": {
        "id": "TrPFGv62zChZ",
        "colab_type": "code",
        "colab": {
          "base_uri": "https://localhost:8080/",
          "height": 269
        },
        "outputId": "89a87d23-be7a-4b4c-bd47-7606b8259f9d"
      },
      "source": [
        "print(classification_report((threshold_8(pred_prob)),y_test))\n",
        "print('\\n\\n')\n",
        "score(threshold_8(pred_prob),y_test)"
      ],
      "execution_count": 45,
      "outputs": [
        {
          "output_type": "stream",
          "text": [
            "              precision    recall  f1-score   support\n",
            "\n",
            "           0       0.58      0.98      0.73       292\n",
            "           1       0.01      1.00      0.01         1\n",
            "           2       0.99      0.57      0.73      1238\n",
            "           3       0.02      1.00      0.04         3\n",
            "\n",
            "    accuracy                           0.65      1534\n",
            "   macro avg       0.40      0.89      0.38      1534\n",
            "weighted avg       0.91      0.65      0.72      1534\n",
            "\n",
            "\n",
            "\n",
            "\n"
          ],
          "name": "stdout"
        },
        {
          "output_type": "execute_result",
          "data": {
            "text/plain": [
              "0.8933862214782706"
            ]
          },
          "metadata": {
            "tags": []
          },
          "execution_count": 45
        }
      ]
    },
    {
      "cell_type": "code",
      "metadata": {
        "id": "vuGjXPXizEsG",
        "colab_type": "code",
        "colab": {}
      },
      "source": [
        ""
      ],
      "execution_count": 0,
      "outputs": []
    }
  ]
}