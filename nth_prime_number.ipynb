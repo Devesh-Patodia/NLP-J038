{
  "nbformat": 4,
  "nbformat_minor": 0,
  "metadata": {
    "colab": {
      "name": "nth prime number.ipynb",
      "provenance": [],
      "collapsed_sections": [],
      "include_colab_link": true
    },
    "kernelspec": {
      "name": "python3",
      "display_name": "Python 3"
    }
  },
  "cells": [
    {
      "cell_type": "markdown",
      "metadata": {
        "id": "view-in-github",
        "colab_type": "text"
      },
      "source": [
        "<a href=\"https://colab.research.google.com/github/Devesh-Patodia/NLP-J038/blob/class-assignments/nth_prime_number.ipynb\" target=\"_parent\"><img src=\"https://colab.research.google.com/assets/colab-badge.svg\" alt=\"Open In Colab\"/></a>"
      ]
    },
    {
      "cell_type": "code",
      "metadata": {
        "id": "kprt3hy_XOPJ",
        "colab_type": "code",
        "colab": {}
      },
      "source": [
        "def nth_prime_number(n):\n",
        "    if n==1:\n",
        "        return 2\n",
        "    count = 1\n",
        "    num = 1\n",
        "    while(count < n):\n",
        "        num +=2 \n",
        "        if is_prime(num):\n",
        "            count +=1\n",
        "    return num\n",
        "\n",
        "def is_prime(num):\n",
        "    factor = 2\n",
        "    while (factor * factor <= num):\n",
        "        if num % factor == 0:\n",
        "             return False\n",
        "        factor +=1\n",
        "    return True"
      ],
      "execution_count": 0,
      "outputs": []
    },
    {
      "cell_type": "code",
      "metadata": {
        "id": "qrxUnPKGWRut",
        "colab_type": "code",
        "outputId": "76b84853-8b30-4f2e-8abd-bc50e360411b",
        "colab": {
          "base_uri": "https://localhost:8080/",
          "height": 34
        }
      },
      "source": [
        "nth_prime_number(25)"
      ],
      "execution_count": 25,
      "outputs": [
        {
          "output_type": "execute_result",
          "data": {
            "text/plain": [
              "97"
            ]
          },
          "metadata": {
            "tags": []
          },
          "execution_count": 25
        }
      ]
    },
    {
      "cell_type": "code",
      "metadata": {
        "id": "bPJvEw7vD4jV",
        "colab_type": "code",
        "colab": {}
      },
      "source": [
        ""
      ],
      "execution_count": 0,
      "outputs": []
    }
  ]
}