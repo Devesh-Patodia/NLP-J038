{
  "nbformat": 4,
  "nbformat_minor": 0,
  "metadata": {
    "colab": {
      "name": "NMF on Enron emails.ipynb",
      "provenance": [],
      "collapsed_sections": [],
      "mount_file_id": "1s_DlqJVuNhp_0vRcryAfaVxnJaLiIvzg",
      "authorship_tag": "ABX9TyOvuh38VEm7HhrLZCWJliYe",
      "include_colab_link": true
    },
    "kernelspec": {
      "name": "python3",
      "display_name": "Python 3"
    }
  },
  "cells": [
    {
      "cell_type": "markdown",
      "metadata": {
        "id": "view-in-github",
        "colab_type": "text"
      },
      "source": [
        "<a href=\"https://colab.research.google.com/github/Devesh-Patodia/NLP-J038/blob/home-assignments/NMF_on_Enron_emails.ipynb\" target=\"_parent\"><img src=\"https://colab.research.google.com/assets/colab-badge.svg\" alt=\"Open In Colab\"/></a>"
      ]
    },
    {
      "cell_type": "code",
      "metadata": {
        "id": "THu6OCZgjKBJ",
        "colab_type": "code",
        "colab": {}
      },
      "source": [
        "import pandas as pd\n",
        "import nltk\n",
        "import re"
      ],
      "execution_count": 0,
      "outputs": []
    },
    {
      "cell_type": "code",
      "metadata": {
        "id": "xMN7PBGqjRo4",
        "colab_type": "code",
        "outputId": "244909be-078e-42c7-da54-af774c0dbe62",
        "colab": {
          "base_uri": "https://localhost:8080/",
          "height": 195
        }
      },
      "source": [
        "df = pd.read_csv('/content/drive/My Drive/emails.csv')\n",
        "df.head()"
      ],
      "execution_count": 0,
      "outputs": [
        {
          "output_type": "execute_result",
          "data": {
            "text/html": [
              "<div>\n",
              "<style scoped>\n",
              "    .dataframe tbody tr th:only-of-type {\n",
              "        vertical-align: middle;\n",
              "    }\n",
              "\n",
              "    .dataframe tbody tr th {\n",
              "        vertical-align: top;\n",
              "    }\n",
              "\n",
              "    .dataframe thead th {\n",
              "        text-align: right;\n",
              "    }\n",
              "</style>\n",
              "<table border=\"1\" class=\"dataframe\">\n",
              "  <thead>\n",
              "    <tr style=\"text-align: right;\">\n",
              "      <th></th>\n",
              "      <th>file</th>\n",
              "      <th>message</th>\n",
              "    </tr>\n",
              "  </thead>\n",
              "  <tbody>\n",
              "    <tr>\n",
              "      <th>0</th>\n",
              "      <td>allen-p/_sent_mail/1.</td>\n",
              "      <td>Message-ID: &lt;18782981.1075855378110.JavaMail.e...</td>\n",
              "    </tr>\n",
              "    <tr>\n",
              "      <th>1</th>\n",
              "      <td>allen-p/_sent_mail/10.</td>\n",
              "      <td>Message-ID: &lt;15464986.1075855378456.JavaMail.e...</td>\n",
              "    </tr>\n",
              "    <tr>\n",
              "      <th>2</th>\n",
              "      <td>allen-p/_sent_mail/100.</td>\n",
              "      <td>Message-ID: &lt;24216240.1075855687451.JavaMail.e...</td>\n",
              "    </tr>\n",
              "    <tr>\n",
              "      <th>3</th>\n",
              "      <td>allen-p/_sent_mail/1000.</td>\n",
              "      <td>Message-ID: &lt;13505866.1075863688222.JavaMail.e...</td>\n",
              "    </tr>\n",
              "    <tr>\n",
              "      <th>4</th>\n",
              "      <td>allen-p/_sent_mail/1001.</td>\n",
              "      <td>Message-ID: &lt;30922949.1075863688243.JavaMail.e...</td>\n",
              "    </tr>\n",
              "  </tbody>\n",
              "</table>\n",
              "</div>"
            ],
            "text/plain": [
              "                       file                                            message\n",
              "0     allen-p/_sent_mail/1.  Message-ID: <18782981.1075855378110.JavaMail.e...\n",
              "1    allen-p/_sent_mail/10.  Message-ID: <15464986.1075855378456.JavaMail.e...\n",
              "2   allen-p/_sent_mail/100.  Message-ID: <24216240.1075855687451.JavaMail.e...\n",
              "3  allen-p/_sent_mail/1000.  Message-ID: <13505866.1075863688222.JavaMail.e...\n",
              "4  allen-p/_sent_mail/1001.  Message-ID: <30922949.1075863688243.JavaMail.e..."
            ]
          },
          "metadata": {
            "tags": []
          },
          "execution_count": 2
        }
      ]
    },
    {
      "cell_type": "code",
      "metadata": {
        "id": "WsI0vuzxoAG2",
        "colab_type": "code",
        "outputId": "8ab7c941-7e9a-4f22-cfac-fd48746de807",
        "colab": {
          "base_uri": "https://localhost:8080/",
          "height": 67
        }
      },
      "source": [
        "df.isna().sum()"
      ],
      "execution_count": 0,
      "outputs": [
        {
          "output_type": "execute_result",
          "data": {
            "text/plain": [
              "file       0\n",
              "message    0\n",
              "dtype: int64"
            ]
          },
          "metadata": {
            "tags": []
          },
          "execution_count": 3
        }
      ]
    },
    {
      "cell_type": "code",
      "metadata": {
        "id": "WXyDeX2IonTA",
        "colab_type": "code",
        "outputId": "a0e7a4c4-ba44-4c86-980a-e0913722029a",
        "colab": {
          "base_uri": "https://localhost:8080/",
          "height": 34
        }
      },
      "source": [
        "df.shape"
      ],
      "execution_count": 0,
      "outputs": [
        {
          "output_type": "execute_result",
          "data": {
            "text/plain": [
              "(517401, 2)"
            ]
          },
          "metadata": {
            "tags": []
          },
          "execution_count": 4
        }
      ]
    },
    {
      "cell_type": "code",
      "metadata": {
        "id": "r1TI1Laoopqq",
        "colab_type": "code",
        "outputId": "b5068fab-5dd3-460d-96bd-2e8f99de02dd",
        "colab": {
          "base_uri": "https://localhost:8080/",
          "height": 168
        }
      },
      "source": [
        "nltk.download('punkt')\n",
        "nltk.download('stopwords')\n",
        "from nltk import word_tokenize\n",
        "from nltk.corpus import stopwords\n",
        "stop_words = set(stopwords.words('english'))\n",
        "nltk.download('averaged_perceptron_tagger')\n",
        "nltk.download('wordnet')\n",
        "\n",
        "from nltk.stem import WordNetLemmatizer\n",
        "lem = WordNetLemmatizer()\n",
        "\n",
        "from sklearn.feature_extraction.text import TfidfVectorizer\n",
        "vect = TfidfVectorizer()"
      ],
      "execution_count": 0,
      "outputs": [
        {
          "output_type": "stream",
          "text": [
            "[nltk_data] Downloading package punkt to /root/nltk_data...\n",
            "[nltk_data]   Unzipping tokenizers/punkt.zip.\n",
            "[nltk_data] Downloading package stopwords to /root/nltk_data...\n",
            "[nltk_data]   Unzipping corpora/stopwords.zip.\n",
            "[nltk_data] Downloading package averaged_perceptron_tagger to\n",
            "[nltk_data]     /root/nltk_data...\n",
            "[nltk_data]   Unzipping taggers/averaged_perceptron_tagger.zip.\n",
            "[nltk_data] Downloading package wordnet to /root/nltk_data...\n",
            "[nltk_data]   Unzipping corpora/wordnet.zip.\n"
          ],
          "name": "stdout"
        }
      ]
    },
    {
      "cell_type": "code",
      "metadata": {
        "id": "LIDAkhjWotrS",
        "colab_type": "code",
        "colab": {}
      },
      "source": [
        "def pipeline(text):\n",
        "  text=re.sub('[^a-zA-Z]', \" \", str(text))\n",
        "  text=text.lower()\n",
        "  stop_words = set(stopwords.words('english'))\n",
        "  word_tokens = word_tokenize(text)\n",
        "  filtered_sentence = [w for w in word_tokens if not w in stop_words]\n",
        "  filtered_sentence = nltk.pos_tag(text.split())\n",
        "  text = lem.lemmatize(text)\n",
        "  filtered_sentence = [lem.lemmatize(word) for word in word_tokens]\n",
        "  return text"
      ],
      "execution_count": 0,
      "outputs": []
    },
    {
      "cell_type": "code",
      "metadata": {
        "id": "cBRUKdk_o1BM",
        "colab_type": "code",
        "outputId": "9a85af4b-e907-4a57-adb9-b03a7cbc000a",
        "colab": {
          "base_uri": "https://localhost:8080/",
          "height": 397
        }
      },
      "source": [
        "data = df[:100]\n",
        "\n",
        "data['file_pipeline'] = data['file'].apply(pipeline)\n",
        "data['message_pipeline'] = data['message'].apply(pipeline)\n",
        "data.head()"
      ],
      "execution_count": 0,
      "outputs": [
        {
          "output_type": "stream",
          "text": [
            "/usr/local/lib/python3.6/dist-packages/ipykernel_launcher.py:3: SettingWithCopyWarning: \n",
            "A value is trying to be set on a copy of a slice from a DataFrame.\n",
            "Try using .loc[row_indexer,col_indexer] = value instead\n",
            "\n",
            "See the caveats in the documentation: http://pandas.pydata.org/pandas-docs/stable/user_guide/indexing.html#returning-a-view-versus-a-copy\n",
            "  This is separate from the ipykernel package so we can avoid doing imports until\n",
            "/usr/local/lib/python3.6/dist-packages/ipykernel_launcher.py:4: SettingWithCopyWarning: \n",
            "A value is trying to be set on a copy of a slice from a DataFrame.\n",
            "Try using .loc[row_indexer,col_indexer] = value instead\n",
            "\n",
            "See the caveats in the documentation: http://pandas.pydata.org/pandas-docs/stable/user_guide/indexing.html#returning-a-view-versus-a-copy\n",
            "  after removing the cwd from sys.path.\n"
          ],
          "name": "stderr"
        },
        {
          "output_type": "execute_result",
          "data": {
            "text/html": [
              "<div>\n",
              "<style scoped>\n",
              "    .dataframe tbody tr th:only-of-type {\n",
              "        vertical-align: middle;\n",
              "    }\n",
              "\n",
              "    .dataframe tbody tr th {\n",
              "        vertical-align: top;\n",
              "    }\n",
              "\n",
              "    .dataframe thead th {\n",
              "        text-align: right;\n",
              "    }\n",
              "</style>\n",
              "<table border=\"1\" class=\"dataframe\">\n",
              "  <thead>\n",
              "    <tr style=\"text-align: right;\">\n",
              "      <th></th>\n",
              "      <th>file</th>\n",
              "      <th>message</th>\n",
              "      <th>file_pipeline</th>\n",
              "      <th>message_pipeline</th>\n",
              "    </tr>\n",
              "  </thead>\n",
              "  <tbody>\n",
              "    <tr>\n",
              "      <th>0</th>\n",
              "      <td>allen-p/_sent_mail/1.</td>\n",
              "      <td>Message-ID: &lt;18782981.1075855378110.JavaMail.e...</td>\n",
              "      <td>allen p  sent mail</td>\n",
              "      <td>message id                          javamail e...</td>\n",
              "    </tr>\n",
              "    <tr>\n",
              "      <th>1</th>\n",
              "      <td>allen-p/_sent_mail/10.</td>\n",
              "      <td>Message-ID: &lt;15464986.1075855378456.JavaMail.e...</td>\n",
              "      <td>allen p  sent mail</td>\n",
              "      <td>message id                          javamail e...</td>\n",
              "    </tr>\n",
              "    <tr>\n",
              "      <th>2</th>\n",
              "      <td>allen-p/_sent_mail/100.</td>\n",
              "      <td>Message-ID: &lt;24216240.1075855687451.JavaMail.e...</td>\n",
              "      <td>allen p  sent mail</td>\n",
              "      <td>message id                          javamail e...</td>\n",
              "    </tr>\n",
              "    <tr>\n",
              "      <th>3</th>\n",
              "      <td>allen-p/_sent_mail/1000.</td>\n",
              "      <td>Message-ID: &lt;13505866.1075863688222.JavaMail.e...</td>\n",
              "      <td>allen p  sent mail</td>\n",
              "      <td>message id                          javamail e...</td>\n",
              "    </tr>\n",
              "    <tr>\n",
              "      <th>4</th>\n",
              "      <td>allen-p/_sent_mail/1001.</td>\n",
              "      <td>Message-ID: &lt;30922949.1075863688243.JavaMail.e...</td>\n",
              "      <td>allen p  sent mail</td>\n",
              "      <td>message id                          javamail e...</td>\n",
              "    </tr>\n",
              "  </tbody>\n",
              "</table>\n",
              "</div>"
            ],
            "text/plain": [
              "                       file  ...                                   message_pipeline\n",
              "0     allen-p/_sent_mail/1.  ...  message id                          javamail e...\n",
              "1    allen-p/_sent_mail/10.  ...  message id                          javamail e...\n",
              "2   allen-p/_sent_mail/100.  ...  message id                          javamail e...\n",
              "3  allen-p/_sent_mail/1000.  ...  message id                          javamail e...\n",
              "4  allen-p/_sent_mail/1001.  ...  message id                          javamail e...\n",
              "\n",
              "[5 rows x 4 columns]"
            ]
          },
          "metadata": {
            "tags": []
          },
          "execution_count": 7
        }
      ]
    },
    {
      "cell_type": "code",
      "metadata": {
        "id": "lt7EF37krIvI",
        "colab_type": "code",
        "colab": {}
      },
      "source": [
        "model = vect.fit_transform(data['message_pipeline'])"
      ],
      "execution_count": 0,
      "outputs": []
    },
    {
      "cell_type": "code",
      "metadata": {
        "id": "ZMyIDJ4-rWIL",
        "colab_type": "code",
        "colab": {}
      },
      "source": [
        "from sklearn.decomposition import NMF"
      ],
      "execution_count": 0,
      "outputs": []
    },
    {
      "cell_type": "code",
      "metadata": {
        "id": "x2q5iHYOrYkH",
        "colab_type": "code",
        "colab": {}
      },
      "source": [
        "model = pd.DataFrame(model.toarray(), columns=vect.get_feature_names())"
      ],
      "execution_count": 0,
      "outputs": []
    },
    {
      "cell_type": "code",
      "metadata": {
        "id": "WASmQiJ2ra5j",
        "colab_type": "code",
        "colab": {}
      },
      "source": [
        "nmf_model = NMF(n_components=4, init='nndsvd', random_state=0)"
      ],
      "execution_count": 0,
      "outputs": []
    },
    {
      "cell_type": "code",
      "metadata": {
        "id": "N8vyjiz7rczC",
        "colab_type": "code",
        "outputId": "f751fb21-fc3b-405e-d3dd-d7ee3c880386",
        "colab": {
          "base_uri": "https://localhost:8080/",
          "height": 1000
        }
      },
      "source": [
        "W = nmf_model.fit_transform(model)\n",
        "print(W)"
      ],
      "execution_count": 0,
      "outputs": [
        {
          "output_type": "stream",
          "text": [
            "[[1.98063054e-01 0.00000000e+00 0.00000000e+00 4.04343970e-02]\n",
            " [9.48675825e-02 2.13107127e-01 0.00000000e+00 0.00000000e+00]\n",
            " [2.12779737e-01 0.00000000e+00 0.00000000e+00 9.41622637e-04]\n",
            " [1.90882698e-01 1.15000251e-01 0.00000000e+00 0.00000000e+00]\n",
            " [2.66145878e-01 0.00000000e+00 0.00000000e+00 0.00000000e+00]\n",
            " [2.46473151e-01 0.00000000e+00 0.00000000e+00 0.00000000e+00]\n",
            " [2.52764378e-01 0.00000000e+00 1.93421301e-02 4.03086858e-04]\n",
            " [1.99295551e-01 0.00000000e+00 0.00000000e+00 3.99996354e-02]\n",
            " [1.19894509e-01 0.00000000e+00 1.49037724e-02 1.88796562e-01]\n",
            " [6.63148698e-02 1.47807463e-01 3.49177104e-02 1.09957728e-02]\n",
            " [1.53659820e-01 4.06690191e-02 5.99782512e-03 8.99429804e-03]\n",
            " [1.37495644e-01 1.05196732e-01 0.00000000e+00 0.00000000e+00]\n",
            " [0.00000000e+00 3.80393668e-01 1.46978510e-01 0.00000000e+00]\n",
            " [0.00000000e+00 3.80393668e-01 1.46978510e-01 0.00000000e+00]\n",
            " [1.95358556e-01 6.08513777e-02 0.00000000e+00 3.37381221e-02]\n",
            " [2.10931875e-01 0.00000000e+00 0.00000000e+00 1.13970944e-02]\n",
            " [2.22692319e-02 0.00000000e+00 5.20284025e-01 0.00000000e+00]\n",
            " [1.83610621e-01 1.97946315e-02 0.00000000e+00 0.00000000e+00]\n",
            " [6.62638995e-02 3.55375357e-01 2.49163946e-02 4.39190623e-03]\n",
            " [9.26565145e-02 1.88116241e-02 2.81766494e-01 5.18833573e-02]\n",
            " [2.49370543e-01 5.16813677e-02 0.00000000e+00 0.00000000e+00]\n",
            " [1.98784678e-01 0.00000000e+00 0.00000000e+00 2.17758270e-02]\n",
            " [2.20025334e-01 6.28443510e-02 0.00000000e+00 0.00000000e+00]\n",
            " [0.00000000e+00 3.18855163e-01 1.41758891e-02 2.60204115e-01]\n",
            " [0.00000000e+00 3.23825921e-01 0.00000000e+00 2.50369197e-01]\n",
            " [0.00000000e+00 5.02311913e-01 0.00000000e+00 0.00000000e+00]\n",
            " [0.00000000e+00 5.02788075e-01 0.00000000e+00 0.00000000e+00]\n",
            " [0.00000000e+00 0.00000000e+00 5.81398228e-01 0.00000000e+00]\n",
            " [1.37871427e-01 1.67412788e-01 0.00000000e+00 0.00000000e+00]\n",
            " [2.21114243e-01 0.00000000e+00 5.82872828e-02 2.45761833e-02]\n",
            " [3.61281274e-02 0.00000000e+00 5.63085131e-01 9.59193547e-03]\n",
            " [2.88768102e-02 1.62134354e-02 5.58260697e-01 2.37557523e-02]\n",
            " [9.27954611e-02 2.69703359e-01 1.01018141e-02 0.00000000e+00]\n",
            " [2.18117448e-01 4.10129307e-02 0.00000000e+00 1.35681052e-03]\n",
            " [0.00000000e+00 0.00000000e+00 5.39694984e-01 0.00000000e+00]\n",
            " [4.96643470e-02 0.00000000e+00 5.58824183e-01 1.69114806e-02]\n",
            " [2.58779766e-01 0.00000000e+00 0.00000000e+00 0.00000000e+00]\n",
            " [1.74538794e-01 1.32057625e-01 3.13698052e-03 8.02038822e-03]\n",
            " [1.73418210e-01 9.38435610e-02 3.53825876e-03 3.04590742e-03]\n",
            " [1.72162012e-01 6.62401124e-02 2.50539265e-02 0.00000000e+00]\n",
            " [2.93622180e-02 4.04768398e-01 0.00000000e+00 0.00000000e+00]\n",
            " [2.01090194e-02 5.50406642e-01 0.00000000e+00 0.00000000e+00]\n",
            " [1.18113123e-01 2.30712593e-01 0.00000000e+00 8.41119588e-03]\n",
            " [2.86124438e-01 0.00000000e+00 0.00000000e+00 2.52901227e-02]\n",
            " [1.86080590e-01 1.39011247e-01 0.00000000e+00 0.00000000e+00]\n",
            " [2.19726932e-01 1.35496157e-01 0.00000000e+00 0.00000000e+00]\n",
            " [1.59150752e-01 1.47036635e-01 0.00000000e+00 0.00000000e+00]\n",
            " [1.09827504e-01 1.09541361e-01 9.04773970e-03 0.00000000e+00]\n",
            " [1.30257277e-01 7.61722261e-02 1.62396624e-01 4.69819493e-02]\n",
            " [2.72336947e-01 0.00000000e+00 0.00000000e+00 8.79324762e-03]\n",
            " [8.99274617e-02 1.19887197e-01 1.28059078e-01 0.00000000e+00]\n",
            " [1.78196334e-02 5.50532175e-01 0.00000000e+00 0.00000000e+00]\n",
            " [1.67147588e-01 1.67487003e-01 0.00000000e+00 0.00000000e+00]\n",
            " [8.13395515e-02 1.21491154e-01 0.00000000e+00 1.76527463e-01]\n",
            " [1.71819898e-01 4.42308942e-02 1.31704870e-02 1.00059418e-02]\n",
            " [1.54183951e-01 1.72723330e-01 8.25245788e-04 0.00000000e+00]\n",
            " [7.51592196e-02 3.43661379e-01 1.61850372e-02 6.58772625e-03]\n",
            " [2.00772084e-02 5.50439846e-01 0.00000000e+00 0.00000000e+00]\n",
            " [2.24878715e-01 6.01526289e-04 4.50530793e-02 0.00000000e+00]\n",
            " [7.71698358e-02 1.97075156e-01 3.78742427e-02 0.00000000e+00]\n",
            " [8.71144600e-02 2.36746388e-01 0.00000000e+00 0.00000000e+00]\n",
            " [2.84819249e-02 4.35348465e-02 3.04665080e-01 0.00000000e+00]\n",
            " [2.53131193e-01 0.00000000e+00 9.11357598e-02 0.00000000e+00]\n",
            " [0.00000000e+00 3.17464868e-01 2.36478021e-01 0.00000000e+00]\n",
            " [2.06411026e-01 3.82514391e-02 2.20033837e-01 0.00000000e+00]\n",
            " [3.15241250e-01 0.00000000e+00 0.00000000e+00 1.50789245e-02]\n",
            " [1.13599325e-01 1.84466416e-01 3.60198916e-02 0.00000000e+00]\n",
            " [8.94877441e-03 0.00000000e+00 6.55166561e-02 7.17178903e-01]\n",
            " [1.87207917e-01 0.00000000e+00 2.21551326e-01 1.55109233e-02]\n",
            " [1.65035766e-01 7.62083989e-02 6.87720581e-03 5.68839674e-03]\n",
            " [1.89540815e-01 3.33525346e-02 0.00000000e+00 3.18830433e-02]\n",
            " [1.31048108e-01 1.89682085e-01 4.80212455e-02 0.00000000e+00]\n",
            " [3.09232493e-02 1.39433124e-02 3.27012289e-01 0.00000000e+00]\n",
            " [2.22341503e-01 0.00000000e+00 2.87289904e-02 0.00000000e+00]\n",
            " [5.69062157e-02 0.00000000e+00 7.38851391e-02 6.52470275e-01]\n",
            " [2.08840908e-01 6.27669228e-02 0.00000000e+00 0.00000000e+00]\n",
            " [2.29127026e-01 0.00000000e+00 8.25691758e-03 4.63551256e-03]\n",
            " [0.00000000e+00 0.00000000e+00 0.00000000e+00 7.84428715e-01]\n",
            " [6.67051300e-02 4.25951091e-02 0.00000000e+00 5.09415730e-01]\n",
            " [2.79451111e-01 0.00000000e+00 0.00000000e+00 0.00000000e+00]\n",
            " [8.53878156e-03 0.00000000e+00 4.68031963e-01 0.00000000e+00]\n",
            " [2.69778756e-02 1.57761519e-01 0.00000000e+00 1.98663340e-01]\n",
            " [0.00000000e+00 1.71013143e-01 0.00000000e+00 3.35537569e-01]\n",
            " [1.57208026e-01 0.00000000e+00 9.17448309e-02 1.37263200e-02]\n",
            " [1.89006896e-01 4.74466345e-02 1.18506030e-02 0.00000000e+00]\n",
            " [2.12226165e-01 2.34252942e-02 9.39793519e-03 2.90916425e-03]\n",
            " [1.31143713e-01 1.32352062e-01 2.85141221e-02 0.00000000e+00]\n",
            " [1.96321405e-01 5.76170184e-03 0.00000000e+00 1.31128335e-02]\n",
            " [9.42476078e-02 2.08693681e-01 0.00000000e+00 0.00000000e+00]\n",
            " [2.87610702e-01 1.33030747e-02 0.00000000e+00 0.00000000e+00]\n",
            " [2.66861781e-01 0.00000000e+00 4.33080413e-02 0.00000000e+00]\n",
            " [2.24051510e-01 1.00360002e-01 0.00000000e+00 0.00000000e+00]\n",
            " [2.41027906e-01 9.20063471e-02 0.00000000e+00 0.00000000e+00]\n",
            " [1.49578424e-01 2.53660719e-01 0.00000000e+00 5.29013064e-03]\n",
            " [7.71139126e-02 9.47227334e-02 2.51335875e-01 0.00000000e+00]\n",
            " [8.86410017e-02 1.57169521e-01 2.64413303e-03 2.44380359e-02]\n",
            " [1.69336122e-01 1.35446537e-01 2.74726447e-02 0.00000000e+00]\n",
            " [1.87901704e-01 3.08541879e-02 4.44355394e-02 0.00000000e+00]\n",
            " [1.93378008e-01 1.05798120e-01 2.57934412e-02 0.00000000e+00]\n",
            " [1.52897350e-01 9.15834628e-02 8.48444454e-04 0.00000000e+00]]\n"
          ],
          "name": "stdout"
        }
      ]
    },
    {
      "cell_type": "code",
      "metadata": {
        "id": "GzyRAV4brfp_",
        "colab_type": "code",
        "outputId": "9d5ddc60-567f-4989-ee86-0fb7cce1fc6e",
        "colab": {
          "base_uri": "https://localhost:8080/",
          "height": 84
        }
      },
      "source": [
        "H = nmf_model.components_\n",
        "print(H)"
      ],
      "execution_count": 0,
      "outputs": [
        {
          "output_type": "stream",
          "text": [
            "[[0.         0.         0.06385289 ... 0.         0.         0.        ]\n",
            " [0.04765654 0.02135081 0.03185547 ... 0.01307655 0.00164285 0.00779706]\n",
            " [0.01116985 0.00025773 0.         ... 0.         0.00144198 0.        ]\n",
            " [0.         0.04215202 0.         ... 0.         0.         0.        ]]\n"
          ],
          "name": "stdout"
        }
      ]
    },
    {
      "cell_type": "code",
      "metadata": {
        "id": "1yoR2lHYrlQU",
        "colab_type": "code",
        "colab": {}
      },
      "source": [
        "def display_topics(H, W, feature_names, documents, no_top_words, no_top_documents):\n",
        "    for topic_idx, topic in enumerate(H):\n",
        "        print(\"Topic %d:\" % (topic_idx))\n",
        "        print(\" \".join([feature_names[i]\n",
        "                        for i in topic.argsort()[:-no_top_words - 1:-1]]))\n",
        "        top_doc_indices = np.argsort( W[:,topic_idx] )[::-1][0:no_top_documents]\n",
        "        for doc_index in top_doc_indices:\n",
        "            print(documents[doc_index])"
      ],
      "execution_count": 0,
      "outputs": []
    },
    {
      "cell_type": "code",
      "metadata": {
        "id": "5xUWF64crmLj",
        "colab_type": "code",
        "colab": {}
      },
      "source": [
        "from sklearn.decomposition import LatentDirichletAllocation"
      ],
      "execution_count": 0,
      "outputs": []
    },
    {
      "cell_type": "code",
      "metadata": {
        "id": "kS7yC23D93Rw",
        "colab_type": "code",
        "colab": {}
      },
      "source": [
        "lda = LatentDirichletAllocation(n_components=5, random_state=0)"
      ],
      "execution_count": 0,
      "outputs": []
    },
    {
      "cell_type": "code",
      "metadata": {
        "id": "qhmo8QMi94s0",
        "colab_type": "code",
        "outputId": "8034c3d7-d7bd-41fd-8d23-dd6ca2b4bdb2",
        "colab": {
          "base_uri": "https://localhost:8080/",
          "height": 134
        }
      },
      "source": [
        "lda.fit(model)"
      ],
      "execution_count": 0,
      "outputs": [
        {
          "output_type": "execute_result",
          "data": {
            "text/plain": [
              "LatentDirichletAllocation(batch_size=128, doc_topic_prior=None,\n",
              "                          evaluate_every=-1, learning_decay=0.7,\n",
              "                          learning_method='batch', learning_offset=10.0,\n",
              "                          max_doc_update_iter=100, max_iter=10,\n",
              "                          mean_change_tol=0.001, n_components=5, n_jobs=None,\n",
              "                          perp_tol=0.1, random_state=0, topic_word_prior=None,\n",
              "                          total_samples=1000000.0, verbose=0)"
            ]
          },
          "metadata": {
            "tags": []
          },
          "execution_count": 19
        }
      ]
    },
    {
      "cell_type": "code",
      "metadata": {
        "id": "eoy7ChqC-Vn9",
        "colab_type": "code",
        "outputId": "c09c0f55-1e0e-4c2c-933e-84c28a601588",
        "colab": {
          "base_uri": "https://localhost:8080/",
          "height": 185
        }
      },
      "source": [
        "lda.components_"
      ],
      "execution_count": 0,
      "outputs": [
        {
          "output_type": "execute_result",
          "data": {
            "text/plain": [
              "array([[0.20001443, 0.20001359, 0.2000111 , ..., 0.20001532, 0.20001014,\n",
              "        0.20001887],\n",
              "       [0.20000946, 0.20001396, 0.20064348, ..., 0.20001575, 0.20001043,\n",
              "        0.20001941],\n",
              "       [0.68284313, 0.59559819, 1.45525302, ..., 0.27906188, 0.21877037,\n",
              "        0.27549164],\n",
              "       [0.20000956, 0.20001411, 0.20041779, ..., 0.20001592, 0.20001042,\n",
              "        0.20001961],\n",
              "       [0.20000965, 0.20001424, 0.20001163, ..., 0.20001607, 0.20001052,\n",
              "        0.20001979]])"
            ]
          },
          "metadata": {
            "tags": []
          },
          "execution_count": 20
        }
      ]
    },
    {
      "cell_type": "code",
      "metadata": {
        "id": "ljtRUjFh-hTy",
        "colab_type": "code",
        "colab": {}
      },
      "source": [
        ""
      ],
      "execution_count": 0,
      "outputs": []
    }
  ]
}